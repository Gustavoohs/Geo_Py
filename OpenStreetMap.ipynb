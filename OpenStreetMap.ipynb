{
  "nbformat": 4,
  "nbformat_minor": 0,
  "metadata": {
    "colab": {
      "provenance": []
    },
    "kernelspec": {
      "name": "python3",
      "display_name": "Python 3"
    },
    "language_info": {
      "name": "python"
    },
    "widgets": {
      "application/vnd.jupyter.widget-state+json": {
        "7ac670b883c3468686bd4f9b59366a65": {
          "model_module": "jupyter-leaflet",
          "model_name": "LeafletMapModel",
          "model_module_version": "^0.18",
          "state": {
            "_dom_classes": [],
            "_model_module": "jupyter-leaflet",
            "_model_module_version": "^0.18",
            "_model_name": "LeafletMapModel",
            "_view_count": null,
            "_view_module": "jupyter-leaflet",
            "_view_module_version": "^0.18",
            "_view_name": "LeafletMapView",
            "bottom": 9136692,
            "bounce_at_zoom_limits": true,
            "box_zoom": true,
            "center": [
              -15.839985533966798,
              -48.02755997249089
            ],
            "close_popup_on_click": true,
            "controls": [
              "IPY_MODEL_b4cf0d60c10a417cac71030d050810d6",
              "IPY_MODEL_2a5946125f774fb6a2809986469da72a",
              "IPY_MODEL_8ffc2d7af6954298882f9d57dfcf5037",
              "IPY_MODEL_266c540657474bcdad3586352de47625",
              "IPY_MODEL_eb0e69df0aeb41199638843dff26000b",
              "IPY_MODEL_a9403ac37c2647979b4f08b22a32cbce"
            ],
            "crs": {
              "name": "EPSG3857",
              "custom": false
            },
            "default_style": "IPY_MODEL_fd2544d6925e42cab26a5455fcb1ddc7",
            "double_click_zoom": true,
            "dragging": true,
            "dragging_style": "IPY_MODEL_9ff6899755ac401f873c2891b975f30a",
            "east": -48.01838681765996,
            "fullscreen": false,
            "inertia": true,
            "inertia_deceleration": 3000,
            "inertia_max_speed": 1500,
            "interpolation": "bilinear",
            "keyboard": true,
            "keyboard_pan_offset": 80,
            "keyboard_zoom_offset": 1,
            "layers": [
              "IPY_MODEL_7e610cb9991c4157a8fd3a7c68d9618f",
              "IPY_MODEL_e02c3b725c684d8b83a94d8150a3bf84"
            ],
            "layout": "IPY_MODEL_1dfa96ef1cdf4777b3cf6ee1b416f3c2",
            "left": 6149933.978857129,
            "max_zoom": 24,
            "min_zoom": null,
            "modisdate": "2024-06-16",
            "north": -15.833792576273012,
            "options": [
              "bounce_at_zoom_limits",
              "box_zoom",
              "center",
              "close_popup_on_click",
              "double_click_zoom",
              "dragging",
              "fullscreen",
              "inertia",
              "inertia_deceleration",
              "inertia_max_speed",
              "interpolation",
              "keyboard",
              "keyboard_pan_offset",
              "keyboard_zoom_offset",
              "max_zoom",
              "min_zoom",
              "prefer_canvas",
              "scroll_wheel_zoom",
              "tap",
              "tap_tolerance",
              "touch_zoom",
              "world_copy_jump",
              "zoom",
              "zoom_animation_threshold",
              "zoom_delta",
              "zoom_snap"
            ],
            "panes": {},
            "prefer_canvas": false,
            "right": 6150788.978857129,
            "scroll_wheel_zoom": true,
            "south": -15.846178301745947,
            "style": "IPY_MODEL_fd2544d6925e42cab26a5455fcb1ddc7",
            "tap": true,
            "tap_tolerance": 15,
            "top": 9136092,
            "touch_zoom": true,
            "west": -48.036733127321824,
            "window_url": "https://3yd3nppusy7-496ff2e9c6d22116-0-colab.googleusercontent.com/outputframe.html?vrz=colab_20240613-060113_RC00_642933896",
            "world_copy_jump": false,
            "zoom": 16,
            "zoom_animation_threshold": 4,
            "zoom_delta": 1,
            "zoom_snap": 1
          }
        },
        "b4cf0d60c10a417cac71030d050810d6": {
          "model_module": "jupyter-leaflet",
          "model_name": "LeafletZoomControlModel",
          "model_module_version": "^0.18",
          "state": {
            "_model_module": "jupyter-leaflet",
            "_model_module_version": "^0.18",
            "_model_name": "LeafletZoomControlModel",
            "_view_count": null,
            "_view_module": "jupyter-leaflet",
            "_view_module_version": "^0.18",
            "_view_name": "LeafletZoomControlView",
            "options": [
              "position",
              "zoom_in_text",
              "zoom_in_title",
              "zoom_out_text",
              "zoom_out_title"
            ],
            "position": "topleft",
            "zoom_in_text": "+",
            "zoom_in_title": "Zoom in",
            "zoom_out_text": "-",
            "zoom_out_title": "Zoom out"
          }
        },
        "2a5946125f774fb6a2809986469da72a": {
          "model_module": "jupyter-leaflet",
          "model_name": "LeafletAttributionControlModel",
          "model_module_version": "^0.18",
          "state": {
            "_model_module": "jupyter-leaflet",
            "_model_module_version": "^0.18",
            "_model_name": "LeafletAttributionControlModel",
            "_view_count": null,
            "_view_module": "jupyter-leaflet",
            "_view_module_version": "^0.18",
            "_view_name": "LeafletAttributionControlView",
            "options": [
              "position",
              "prefix"
            ],
            "position": "bottomright",
            "prefix": "ipyleaflet"
          }
        },
        "8ffc2d7af6954298882f9d57dfcf5037": {
          "model_module": "jupyter-leaflet",
          "model_name": "LeafletLayersControlModel",
          "model_module_version": "^0.18",
          "state": {
            "_model_module": "jupyter-leaflet",
            "_model_module_version": "^0.18",
            "_model_name": "LeafletLayersControlModel",
            "_view_count": null,
            "_view_module": "jupyter-leaflet",
            "_view_module_version": "^0.18",
            "_view_name": "LeafletLayersControlView",
            "collapsed": true,
            "options": [
              "collapsed",
              "position"
            ],
            "position": "topright"
          }
        },
        "266c540657474bcdad3586352de47625": {
          "model_module": "jupyter-leaflet",
          "model_name": "LeafletFullScreenControlModel",
          "model_module_version": "^0.18",
          "state": {
            "_model_module": "jupyter-leaflet",
            "_model_module_version": "^0.18",
            "_model_name": "LeafletFullScreenControlModel",
            "_view_count": null,
            "_view_module": "jupyter-leaflet",
            "_view_module_version": "^0.18",
            "_view_name": "LeafletFullScreenControlView",
            "options": [
              "position"
            ],
            "position": "topleft"
          }
        },
        "eb0e69df0aeb41199638843dff26000b": {
          "model_module": "jupyter-leaflet",
          "model_name": "LeafletDrawControlModel",
          "model_module_version": "^0.18",
          "state": {
            "_model_module": "jupyter-leaflet",
            "_model_module_version": "^0.18",
            "_model_name": "LeafletDrawControlModel",
            "_view_count": null,
            "_view_module": "jupyter-leaflet",
            "_view_module_version": "^0.18",
            "_view_name": "LeafletDrawControlView",
            "circle": {
              "shapeOptions": {
                "color": "#3388ff"
              },
              "repeatMode": false
            },
            "circlemarker": {},
            "data": [],
            "edit": true,
            "marker": {
              "shapeOptions": {
                "color": "#3388ff"
              },
              "repeatMode": false
            },
            "options": [
              "position"
            ],
            "polygon": {
              "repeatMode": false
            },
            "polyline": {
              "repeatMode": false
            },
            "position": "topleft",
            "rectangle": {
              "shapeOptions": {
                "color": "#3388ff"
              },
              "repeatMode": false
            },
            "remove": true
          }
        },
        "a9403ac37c2647979b4f08b22a32cbce": {
          "model_module": "jupyter-leaflet",
          "model_name": "LeafletScaleControlModel",
          "model_module_version": "^0.18",
          "state": {
            "_model_module": "jupyter-leaflet",
            "_model_module_version": "^0.18",
            "_model_name": "LeafletScaleControlModel",
            "_view_count": null,
            "_view_module": "jupyter-leaflet",
            "_view_module_version": "^0.18",
            "_view_name": "LeafletScaleControlView",
            "imperial": true,
            "max_width": 100,
            "metric": true,
            "options": [
              "imperial",
              "max_width",
              "metric",
              "position",
              "update_when_idle"
            ],
            "position": "bottomleft",
            "update_when_idle": false
          }
        },
        "053e94b05fb146b18ebff99923fd30ff": {
          "model_module": "jupyter-leaflet",
          "model_name": "LeafletWidgetControlModel",
          "model_module_version": "^0.18",
          "state": {
            "_model_module": "jupyter-leaflet",
            "_model_module_version": "^0.18",
            "_model_name": "LeafletWidgetControlModel",
            "_view_count": null,
            "_view_module": "jupyter-leaflet",
            "_view_module_version": "^0.18",
            "_view_name": "LeafletWidgetControlView",
            "max_height": null,
            "max_width": null,
            "min_height": null,
            "min_width": null,
            "options": [
              "position",
              "transparent_bg"
            ],
            "position": "bottomright",
            "transparent_bg": false,
            "widget": "IPY_MODEL_b778df2c577947c598732ac6c469d667"
          }
        },
        "fd2544d6925e42cab26a5455fcb1ddc7": {
          "model_module": "jupyter-leaflet",
          "model_name": "LeafletMapStyleModel",
          "model_module_version": "^0.18",
          "state": {
            "_model_module": "jupyter-leaflet",
            "_model_module_version": "^0.18",
            "_model_name": "LeafletMapStyleModel",
            "_view_count": null,
            "_view_module": "@jupyter-widgets/base",
            "_view_module_version": "1.2.0",
            "_view_name": "StyleView",
            "cursor": "grab"
          }
        },
        "9ff6899755ac401f873c2891b975f30a": {
          "model_module": "jupyter-leaflet",
          "model_name": "LeafletMapStyleModel",
          "model_module_version": "^0.18",
          "state": {
            "_model_module": "jupyter-leaflet",
            "_model_module_version": "^0.18",
            "_model_name": "LeafletMapStyleModel",
            "_view_count": null,
            "_view_module": "@jupyter-widgets/base",
            "_view_module_version": "1.2.0",
            "_view_name": "StyleView",
            "cursor": "move"
          }
        },
        "7e610cb9991c4157a8fd3a7c68d9618f": {
          "model_module": "jupyter-leaflet",
          "model_name": "LeafletTileLayerModel",
          "model_module_version": "^0.18",
          "state": {
            "_model_module": "jupyter-leaflet",
            "_model_module_version": "^0.18",
            "_model_name": "LeafletTileLayerModel",
            "_view_count": null,
            "_view_module": "jupyter-leaflet",
            "_view_module_version": "^0.18",
            "_view_name": "LeafletTileLayerView",
            "attribution": "&copy; <a href=\"https://www.openstreetmap.org/copyright\">OpenStreetMap</a> contributors",
            "base": true,
            "bottom": true,
            "bounds": null,
            "detect_retina": false,
            "loading": false,
            "max_native_zoom": null,
            "max_zoom": 19,
            "min_native_zoom": null,
            "min_zoom": 1,
            "name": "OpenStreetMap",
            "no_wrap": false,
            "opacity": 1,
            "options": [
              "attribution",
              "bounds",
              "detect_retina",
              "max_native_zoom",
              "max_zoom",
              "min_native_zoom",
              "min_zoom",
              "no_wrap",
              "tile_size",
              "tms",
              "zoom_offset"
            ],
            "pane": "",
            "popup": null,
            "popup_max_height": null,
            "popup_max_width": 300,
            "popup_min_width": 50,
            "show_loading": false,
            "subitems": [],
            "tile_size": 256,
            "tms": false,
            "url": "https://tile.openstreetmap.org/{z}/{x}/{y}.png",
            "visible": true,
            "zoom_offset": 0
          }
        },
        "e02c3b725c684d8b83a94d8150a3bf84": {
          "model_module": "jupyter-leaflet",
          "model_name": "LeafletGeoJSONModel",
          "model_module_version": "^0.18",
          "state": {
            "_model_module": "jupyter-leaflet",
            "_model_module_version": "^0.18",
            "_model_name": "LeafletGeoJSONModel",
            "_view_count": null,
            "_view_module": "jupyter-leaflet",
            "_view_module_version": "^0.18",
            "_view_name": "LeafletGeoJSONView",
            "base": false,
            "bottom": false,
            "data": {
              "type": "FeatureCollection",
              "features": [
                {
                  "id": "('way', 244823405)",
                  "type": "Feature",
                  "properties": {
                    "nodes": [
                      2520951753,
                      2520951754,
                      3020821693,
                      2520951757,
                      2520951753
                    ],
                    "addr:city": "Águas Claras",
                    "addr:housenumber": "8",
                    "addr:street": "Rua 30 Sul",
                    "building": "apartments",
                    "building:levels": "13",
                    "name": "Residencial Bougainville",
                    "building:min_level": null,
                    "layer": null,
                    "landuse": null,
                    "postal_code": null,
                    "addr:postcode": null,
                    "addr:suburb": null,
                    "source": null,
                    "description": null,
                    "building:flats": null,
                    "roof:colour": null,
                    "ways": null,
                    "type": null,
                    "style": {
                      "color": "black",
                      "fillColor": "black"
                    }
                  },
                  "geometry": {
                    "type": "Polygon",
                    "coordinates": [
                      [
                        [
                          -48.0353143,
                          -15.8398293
                        ],
                        [
                          -48.0349094,
                          -15.8393475
                        ],
                        [
                          -48.0346748,
                          -15.83952
                        ],
                        [
                          -48.0350933,
                          -15.8399843
                        ],
                        [
                          -48.0353143,
                          -15.8398293
                        ]
                      ]
                    ]
                  },
                  "bbox": [
                    -48.0353143,
                    -15.8399843,
                    -48.0346748,
                    -15.8393475
                  ]
                },
                {
                  "id": "('way', 271448923)",
                  "type": "Feature",
                  "properties": {
                    "nodes": [
                      2764054328,
                      2764054331,
                      2764054332,
                      3017020806,
                      2764054328
                    ],
                    "addr:city": null,
                    "addr:housenumber": "5",
                    "addr:street": "Avenida Pau Brasil",
                    "building": "apartments",
                    "building:levels": null,
                    "name": "Residencial Monet",
                    "building:min_level": null,
                    "layer": null,
                    "landuse": null,
                    "postal_code": null,
                    "addr:postcode": null,
                    "addr:suburb": null,
                    "source": null,
                    "description": null,
                    "building:flats": null,
                    "roof:colour": null,
                    "ways": null,
                    "type": null,
                    "style": {
                      "color": "black",
                      "fillColor": "black"
                    }
                  },
                  "geometry": {
                    "type": "Polygon",
                    "coordinates": [
                      [
                        [
                          -48.0283318,
                          -15.8380786
                        ],
                        [
                          -48.0283357,
                          -15.8383426
                        ],
                        [
                          -48.0277789,
                          -15.8383539
                        ],
                        [
                          -48.0277777,
                          -15.8380938
                        ],
                        [
                          -48.0283318,
                          -15.8380786
                        ]
                      ]
                    ]
                  },
                  "bbox": [
                    -48.0283357,
                    -15.8383539,
                    -48.0277777,
                    -15.8380786
                  ]
                },
                {
                  "id": "('way', 295852288)",
                  "type": "Feature",
                  "properties": {
                    "nodes": [
                      2996134755,
                      2996134756,
                      2996134757,
                      2996134758,
                      2996134755
                    ],
                    "addr:city": null,
                    "addr:housenumber": null,
                    "addr:street": null,
                    "building": "apartments",
                    "building:levels": null,
                    "name": null,
                    "building:min_level": null,
                    "layer": null,
                    "landuse": null,
                    "postal_code": null,
                    "addr:postcode": null,
                    "addr:suburb": null,
                    "source": null,
                    "description": null,
                    "building:flats": null,
                    "roof:colour": null,
                    "ways": null,
                    "type": null,
                    "style": {
                      "color": "black",
                      "fillColor": "black"
                    }
                  },
                  "geometry": {
                    "type": "Polygon",
                    "coordinates": [
                      [
                        [
                          -48.0220329,
                          -15.8395192
                        ],
                        [
                          -48.0219129,
                          -15.8397871
                        ],
                        [
                          -48.0218048,
                          -15.8397363
                        ],
                        [
                          -48.0219261,
                          -15.839473
                        ],
                        [
                          -48.0220329,
                          -15.8395192
                        ]
                      ]
                    ]
                  },
                  "bbox": [
                    -48.0220329,
                    -15.8397871,
                    -48.0218048,
                    -15.839473
                  ]
                },
                {
                  "id": "('way', 295854823)",
                  "type": "Feature",
                  "properties": {
                    "nodes": [
                      2996155537,
                      2996155545,
                      2996155550,
                      2996155552,
                      2996155556,
                      2996155554,
                      2996155548,
                      2996155544,
                      2996155543,
                      2996155536,
                      2996155537
                    ],
                    "addr:city": null,
                    "addr:housenumber": null,
                    "addr:street": null,
                    "building": "apartments",
                    "building:levels": null,
                    "name": null,
                    "building:min_level": null,
                    "layer": null,
                    "landuse": null,
                    "postal_code": null,
                    "addr:postcode": null,
                    "addr:suburb": null,
                    "source": null,
                    "description": null,
                    "building:flats": null,
                    "roof:colour": null,
                    "ways": null,
                    "type": null,
                    "style": {
                      "color": "black",
                      "fillColor": "black"
                    }
                  },
                  "geometry": {
                    "type": "Polygon",
                    "coordinates": [
                      [
                        [
                          -48.020582,
                          -15.8413253
                        ],
                        [
                          -48.0205386,
                          -15.8414309
                        ],
                        [
                          -48.0206461,
                          -15.8414837
                        ],
                        [
                          -48.0206255,
                          -15.8415432
                        ],
                        [
                          -48.0204447,
                          -15.8416026
                        ],
                        [
                          -48.0203898,
                          -15.8415806
                        ],
                        [
                          -48.0204333,
                          -15.8414749
                        ],
                        [
                          -48.0203189,
                          -15.8414243
                        ],
                        [
                          -48.0203464,
                          -15.8413671
                        ],
                        [
                          -48.0205248,
                          -15.8412945
                        ],
                        [
                          -48.020582,
                          -15.8413253
                        ]
                      ]
                    ]
                  },
                  "bbox": [
                    -48.0206461,
                    -15.8416026,
                    -48.0203189,
                    -15.8412945
                  ]
                },
                {
                  "id": "('way', 295854824)",
                  "type": "Feature",
                  "properties": {
                    "nodes": [
                      2996155493,
                      2996155505,
                      2996155512,
                      2996155520,
                      2996155524,
                      2996155523,
                      2996155511,
                      2996155506,
                      2996155501,
                      2996155492,
                      2996155493
                    ],
                    "addr:city": null,
                    "addr:housenumber": null,
                    "addr:street": null,
                    "building": "apartments",
                    "building:levels": null,
                    "name": null,
                    "building:min_level": null,
                    "layer": null,
                    "landuse": null,
                    "postal_code": null,
                    "addr:postcode": null,
                    "addr:suburb": null,
                    "source": null,
                    "description": null,
                    "building:flats": null,
                    "roof:colour": null,
                    "ways": null,
                    "type": null,
                    "style": {
                      "color": "black",
                      "fillColor": "black"
                    }
                  },
                  "geometry": {
                    "type": "Polygon",
                    "coordinates": [
                      [
                        [
                          -48.0207803,
                          -15.8408822
                        ],
                        [
                          -48.0207414,
                          -15.84099
                        ],
                        [
                          -48.0208535,
                          -15.8410451
                        ],
                        [
                          -48.0208238,
                          -15.8411023
                        ],
                        [
                          -48.0206385,
                          -15.8411749
                        ],
                        [
                          -48.0205835,
                          -15.8411485
                        ],
                        [
                          -48.0206407,
                          -15.8410451
                        ],
                        [
                          -48.0205195,
                          -15.8409966
                        ],
                        [
                          -48.0205469,
                          -15.8409416
                        ],
                        [
                          -48.0207254,
                          -15.840869
                        ],
                        [
                          -48.0207803,
                          -15.8408822
                        ]
                      ]
                    ]
                  },
                  "bbox": [
                    -48.0208535,
                    -15.8411749,
                    -48.0205195,
                    -15.840869
                  ]
                },
                {
                  "id": "('way', 295854825)",
                  "type": "Feature",
                  "properties": {
                    "nodes": [
                      2996155459,
                      2996155461,
                      2996155460,
                      2996155458,
                      2996155457,
                      2996155455,
                      2996155453,
                      2996155452,
                      2996155450,
                      2996155448,
                      2996155459
                    ],
                    "addr:city": null,
                    "addr:housenumber": null,
                    "addr:street": null,
                    "building": "apartments",
                    "building:levels": null,
                    "name": null,
                    "building:min_level": null,
                    "layer": null,
                    "landuse": null,
                    "postal_code": null,
                    "addr:postcode": null,
                    "addr:suburb": null,
                    "source": null,
                    "description": null,
                    "building:flats": null,
                    "roof:colour": null,
                    "ways": null,
                    "type": null,
                    "style": {
                      "color": "black",
                      "fillColor": "black"
                    }
                  },
                  "geometry": {
                    "type": "Polygon",
                    "coordinates": [
                      [
                        [
                          -48.0200632,
                          -15.8395766
                        ],
                        [
                          -48.0202408,
                          -15.8396493
                        ],
                        [
                          -48.020266,
                          -15.8395964
                        ],
                        [
                          -48.0202431,
                          -15.8395062
                        ],
                        [
                          -48.0203129,
                          -15.8394798
                        ],
                        [
                          -48.0203358,
                          -15.8394259
                        ],
                        [
                          -48.0203117,
                          -15.8393675
                        ],
                        [
                          -48.0203998,
                          -15.8393356
                        ],
                        [
                          -48.0204181,
                          -15.8392817
                        ],
                        [
                          -48.0202428,
                          -15.8392063
                        ],
                        [
                          -48.0200632,
                          -15.8395766
                        ]
                      ]
                    ]
                  },
                  "bbox": [
                    -48.0204181,
                    -15.8396493,
                    -48.0200632,
                    -15.8392063
                  ]
                },
                {
                  "id": "('way', 295854826)",
                  "type": "Feature",
                  "properties": {
                    "nodes": [
                      2996155491,
                      2996155502,
                      2996155510,
                      2996155518,
                      2996155513,
                      2996155504,
                      2996155503,
                      2996155509,
                      2996155507,
                      2996155494,
                      2996155487,
                      2996155489,
                      2996155496,
                      2996155498,
                      2996155490,
                      2996155491
                    ],
                    "addr:city": null,
                    "addr:housenumber": null,
                    "addr:street": null,
                    "building": "apartments",
                    "building:levels": null,
                    "name": null,
                    "building:min_level": null,
                    "layer": null,
                    "landuse": null,
                    "postal_code": null,
                    "addr:postcode": null,
                    "addr:suburb": null,
                    "source": null,
                    "description": null,
                    "building:flats": null,
                    "roof:colour": null,
                    "ways": null,
                    "type": null,
                    "style": {
                      "color": "black",
                      "fillColor": "black"
                    }
                  },
                  "geometry": {
                    "type": "Polygon",
                    "coordinates": [
                      [
                        [
                          -48.0244056,
                          -15.840867
                        ],
                        [
                          -48.0244216,
                          -15.8409441
                        ],
                        [
                          -48.0244079,
                          -15.8410299
                        ],
                        [
                          -48.0243598,
                          -15.8410673
                        ],
                        [
                          -48.0242866,
                          -15.8410563
                        ],
                        [
                          -48.0243072,
                          -15.8409881
                        ],
                        [
                          -48.0242454,
                          -15.8409705
                        ],
                        [
                          -48.0242225,
                          -15.8410299
                        ],
                        [
                          -48.024147,
                          -15.8410079
                        ],
                        [
                          -48.0241585,
                          -15.8408824
                        ],
                        [
                          -48.0242111,
                          -15.8408186
                        ],
                        [
                          -48.0242752,
                          -15.840834
                        ],
                        [
                          -48.0242614,
                          -15.8409155
                        ],
                        [
                          -48.0243141,
                          -15.8409287
                        ],
                        [
                          -48.0243392,
                          -15.8408494
                        ],
                        [
                          -48.0244056,
                          -15.840867
                        ]
                      ]
                    ]
                  },
                  "bbox": [
                    -48.0244216,
                    -15.8410673,
                    -48.024147,
                    -15.8408186
                  ]
                },
                {
                  "id": "('way', 295854827)",
                  "type": "Feature",
                  "properties": {
                    "nodes": [
                      2996155519,
                      2996155531,
                      2972515638,
                      2996155500,
                      2996155519
                    ],
                    "addr:city": null,
                    "addr:housenumber": null,
                    "addr:street": null,
                    "building": "apartments",
                    "building:levels": null,
                    "name": null,
                    "building:min_level": null,
                    "layer": null,
                    "landuse": null,
                    "postal_code": null,
                    "addr:postcode": null,
                    "addr:suburb": null,
                    "source": null,
                    "description": null,
                    "building:flats": null,
                    "roof:colour": null,
                    "ways": null,
                    "type": null,
                    "style": {
                      "color": "black",
                      "fillColor": "black"
                    }
                  },
                  "geometry": {
                    "type": "Polygon",
                    "coordinates": [
                      [
                        [
                          -48.0239004,
                          -15.8410817
                        ],
                        [
                          -48.0238557,
                          -15.8412339
                        ],
                        [
                          -48.0233813,
                          -15.8410809
                        ],
                        [
                          -48.0234319,
                          -15.8409367
                        ],
                        [
                          -48.0239004,
                          -15.8410817
                        ]
                      ]
                    ]
                  },
                  "bbox": [
                    -48.0239004,
                    -15.8412339,
                    -48.0233813,
                    -15.8409367
                  ]
                },
                {
                  "id": "('way', 295854828)",
                  "type": "Feature",
                  "properties": {
                    "nodes": [
                      2996155471,
                      2996155467,
                      2996155463,
                      2996155464,
                      2996155471
                    ],
                    "addr:city": null,
                    "addr:housenumber": null,
                    "addr:street": null,
                    "building": "apartments",
                    "building:levels": null,
                    "name": null,
                    "building:min_level": null,
                    "layer": null,
                    "landuse": null,
                    "postal_code": null,
                    "addr:postcode": null,
                    "addr:suburb": null,
                    "source": null,
                    "description": null,
                    "building:flats": null,
                    "roof:colour": null,
                    "ways": null,
                    "type": null,
                    "style": {
                      "color": "black",
                      "fillColor": "black"
                    }
                  },
                  "geometry": {
                    "type": "Polygon",
                    "coordinates": [
                      [
                        [
                          -48.0220326,
                          -15.840449
                        ],
                        [
                          -48.021875,
                          -15.84038
                        ],
                        [
                          -48.0220192,
                          -15.84003
                        ],
                        [
                          -48.0221814,
                          -15.840096
                        ],
                        [
                          -48.0220326,
                          -15.840449
                        ]
                      ]
                    ]
                  },
                  "bbox": [
                    -48.0221814,
                    -15.840449,
                    -48.021875,
                    -15.84003
                  ]
                },
                {
                  "id": "('way', 295854829)",
                  "type": "Feature",
                  "properties": {
                    "nodes": [
                      2996155433,
                      2996155443,
                      2996155440,
                      2996153232,
                      2996155433
                    ],
                    "addr:city": null,
                    "addr:housenumber": null,
                    "addr:street": null,
                    "building": "apartments",
                    "building:levels": null,
                    "name": null,
                    "building:min_level": null,
                    "layer": null,
                    "landuse": null,
                    "postal_code": null,
                    "addr:postcode": null,
                    "addr:suburb": null,
                    "source": null,
                    "description": null,
                    "building:flats": null,
                    "roof:colour": null,
                    "ways": null,
                    "type": null,
                    "style": {
                      "color": "black",
                      "fillColor": "black"
                    }
                  },
                  "geometry": {
                    "type": "Polygon",
                    "coordinates": [
                      [
                        [
                          -48.0201454,
                          -15.8386192
                        ],
                        [
                          -48.0199829,
                          -15.8389823
                        ],
                        [
                          -48.0198754,
                          -15.8389339
                        ],
                        [
                          -48.0200401,
                          -15.8385774
                        ],
                        [
                          -48.0201454,
                          -15.8386192
                        ]
                      ]
                    ]
                  },
                  "bbox": [
                    -48.0201454,
                    -15.8389823,
                    -48.0198754,
                    -15.8385774
                  ]
                },
                {
                  "id": "('way', 295854830)",
                  "type": "Feature",
                  "properties": {
                    "nodes": [
                      2996155483,
                      2996155495,
                      2996155486,
                      2996155477,
                      2996155483
                    ],
                    "addr:city": null,
                    "addr:housenumber": null,
                    "addr:street": null,
                    "building": "apartments",
                    "building:levels": null,
                    "name": null,
                    "building:min_level": null,
                    "layer": null,
                    "landuse": null,
                    "postal_code": null,
                    "addr:postcode": null,
                    "addr:suburb": null,
                    "source": null,
                    "description": null,
                    "building:flats": null,
                    "roof:colour": null,
                    "ways": null,
                    "type": null,
                    "style": {
                      "color": "black",
                      "fillColor": "black"
                    }
                  },
                  "geometry": {
                    "type": "Polygon",
                    "coordinates": [
                      [
                        [
                          -48.0231883,
                          -15.840741
                        ],
                        [
                          -48.023122,
                          -15.8408884
                        ],
                        [
                          -48.0228863,
                          -15.8407916
                        ],
                        [
                          -48.0229458,
                          -15.8406397
                        ],
                        [
                          -48.0231883,
                          -15.840741
                        ]
                      ]
                    ]
                  },
                  "bbox": [
                    -48.0231883,
                    -15.8408884,
                    -48.0228863,
                    -15.8406397
                  ]
                },
                {
                  "id": "('way', 295854831)",
                  "type": "Feature",
                  "properties": {
                    "nodes": [
                      2996155468,
                      2996155478,
                      2996155476,
                      2996155465,
                      2996155468
                    ],
                    "addr:city": null,
                    "addr:housenumber": null,
                    "addr:street": null,
                    "building": "apartments",
                    "building:levels": null,
                    "name": null,
                    "building:min_level": null,
                    "layer": null,
                    "landuse": null,
                    "postal_code": null,
                    "addr:postcode": null,
                    "addr:suburb": null,
                    "source": null,
                    "description": null,
                    "building:flats": null,
                    "roof:colour": null,
                    "ways": null,
                    "type": null,
                    "style": {
                      "color": "black",
                      "fillColor": "black"
                    }
                  },
                  "geometry": {
                    "type": "Polygon",
                    "coordinates": [
                      [
                        [
                          -48.0231712,
                          -15.8404064
                        ],
                        [
                          -48.0230464,
                          -15.8406465
                        ],
                        [
                          -48.0229225,
                          -15.8405922
                        ],
                        [
                          -48.0230494,
                          -15.8403504
                        ],
                        [
                          -48.0231712,
                          -15.8404064
                        ]
                      ]
                    ]
                  },
                  "bbox": [
                    -48.0231712,
                    -15.8406465,
                    -48.0229225,
                    -15.8403504
                  ]
                },
                {
                  "id": "('way', 295854832)",
                  "type": "Feature",
                  "properties": {
                    "nodes": [
                      2996155445,
                      2996155451,
                      2996155449,
                      2996155441,
                      2996155445
                    ],
                    "addr:city": null,
                    "addr:housenumber": null,
                    "addr:street": null,
                    "building": "apartments",
                    "building:levels": null,
                    "name": null,
                    "building:min_level": null,
                    "layer": null,
                    "landuse": null,
                    "postal_code": null,
                    "addr:postcode": null,
                    "addr:suburb": null,
                    "source": null,
                    "description": null,
                    "building:flats": null,
                    "roof:colour": null,
                    "ways": null,
                    "type": null,
                    "style": {
                      "color": "black",
                      "fillColor": "black"
                    }
                  },
                  "geometry": {
                    "type": "Polygon",
                    "coordinates": [
                      [
                        [
                          -48.02091,
                          -15.8390088
                        ],
                        [
                          -48.0207796,
                          -15.8392905
                        ],
                        [
                          -48.0206332,
                          -15.8392267
                        ],
                        [
                          -48.0207705,
                          -15.838946
                        ],
                        [
                          -48.02091,
                          -15.8390088
                        ]
                      ]
                    ]
                  },
                  "bbox": [
                    -48.02091,
                    -15.8392905,
                    -48.0206332,
                    -15.838946
                  ]
                },
                {
                  "id": "('way', 295854833)",
                  "type": "Feature",
                  "properties": {
                    "nodes": [
                      2996155456,
                      2996155454,
                      2996155462,
                      2958016961,
                      2996155456
                    ],
                    "addr:city": null,
                    "addr:housenumber": null,
                    "addr:street": null,
                    "building": "apartments",
                    "building:levels": null,
                    "name": null,
                    "building:min_level": null,
                    "layer": null,
                    "landuse": null,
                    "postal_code": null,
                    "addr:postcode": null,
                    "addr:suburb": null,
                    "source": null,
                    "description": null,
                    "building:flats": null,
                    "roof:colour": null,
                    "ways": null,
                    "type": null,
                    "style": {
                      "color": "black",
                      "fillColor": "black"
                    }
                  },
                  "geometry": {
                    "type": "Polygon",
                    "coordinates": [
                      [
                        [
                          -48.0207585,
                          -15.8394715
                        ],
                        [
                          -48.0205531,
                          -15.8393895
                        ],
                        [
                          -48.0203666,
                          -15.8398062
                        ],
                        [
                          -48.0205703,
                          -15.8398918
                        ],
                        [
                          -48.0207585,
                          -15.8394715
                        ]
                      ]
                    ]
                  },
                  "bbox": [
                    -48.0207585,
                    -15.8398918,
                    -48.0203666,
                    -15.8393895
                  ]
                },
                {
                  "id": "('way', 295854834)",
                  "type": "Feature",
                  "properties": {
                    "nodes": [
                      2996155522,
                      2996155560,
                      2996155559,
                      2996155516,
                      2996155522
                    ],
                    "addr:city": null,
                    "addr:housenumber": null,
                    "addr:street": "Quadra 205",
                    "building": "apartments",
                    "building:levels": null,
                    "name": null,
                    "building:min_level": null,
                    "layer": null,
                    "landuse": null,
                    "postal_code": null,
                    "addr:postcode": null,
                    "addr:suburb": null,
                    "source": null,
                    "description": null,
                    "building:flats": null,
                    "roof:colour": null,
                    "ways": null,
                    "type": null,
                    "style": {
                      "color": "black",
                      "fillColor": "black"
                    }
                  },
                  "geometry": {
                    "type": "Polygon",
                    "coordinates": [
                      [
                        [
                          -48.0218036,
                          -15.841122
                        ],
                        [
                          -48.0214534,
                          -15.8418814
                        ],
                        [
                          -48.0213184,
                          -15.8418255
                        ],
                        [
                          -48.0216785,
                          -15.8410641
                        ],
                        [
                          -48.0218036,
                          -15.841122
                        ]
                      ]
                    ]
                  },
                  "bbox": [
                    -48.0218036,
                    -15.8418814,
                    -48.0213184,
                    -15.8410641
                  ]
                },
                {
                  "id": "('way', 295854835)",
                  "type": "Feature",
                  "properties": {
                    "nodes": [
                      2996155435,
                      2996155442,
                      2996155438,
                      2996155434,
                      2996155435
                    ],
                    "addr:city": null,
                    "addr:housenumber": null,
                    "addr:street": null,
                    "building": "apartments",
                    "building:levels": null,
                    "name": null,
                    "building:min_level": null,
                    "layer": null,
                    "landuse": null,
                    "postal_code": null,
                    "addr:postcode": null,
                    "addr:suburb": null,
                    "source": null,
                    "description": null,
                    "building:flats": null,
                    "roof:colour": null,
                    "ways": null,
                    "type": null,
                    "style": {
                      "color": "black",
                      "fillColor": "black"
                    }
                  },
                  "geometry": {
                    "type": "Polygon",
                    "coordinates": [
                      [
                        [
                          -48.0206732,
                          -15.8387589
                        ],
                        [
                          -48.0205863,
                          -15.8389504
                        ],
                        [
                          -48.0204261,
                          -15.8388844
                        ],
                        [
                          -48.0205154,
                          -15.8386896
                        ],
                        [
                          -48.0206732,
                          -15.8387589
                        ]
                      ]
                    ]
                  },
                  "bbox": [
                    -48.0206732,
                    -15.8389504,
                    -48.0204261,
                    -15.8386896
                  ]
                },
                {
                  "id": "('way', 295854836)",
                  "type": "Feature",
                  "properties": {
                    "nodes": [
                      2996153231,
                      2996155437,
                      2996155436,
                      2996153230,
                      2996153231
                    ],
                    "addr:city": null,
                    "addr:housenumber": null,
                    "addr:street": null,
                    "building": "apartments",
                    "building:levels": null,
                    "name": null,
                    "building:min_level": null,
                    "layer": null,
                    "landuse": null,
                    "postal_code": null,
                    "addr:postcode": null,
                    "addr:suburb": null,
                    "source": null,
                    "description": null,
                    "building:flats": null,
                    "roof:colour": null,
                    "ways": null,
                    "type": null,
                    "style": {
                      "color": "black",
                      "fillColor": "black"
                    }
                  },
                  "geometry": {
                    "type": "Polygon",
                    "coordinates": [
                      [
                        [
                          -48.0198548,
                          -15.8384739
                        ],
                        [
                          -48.0196832,
                          -15.8388745
                        ],
                        [
                          -48.0195826,
                          -15.8388349
                        ],
                        [
                          -48.019761,
                          -15.8384321
                        ],
                        [
                          -48.0198548,
                          -15.8384739
                        ]
                      ]
                    ]
                  },
                  "bbox": [
                    -48.0198548,
                    -15.8388745,
                    -48.0195826,
                    -15.8384321
                  ]
                },
                {
                  "id": "('way', 295854837)",
                  "type": "Feature",
                  "properties": {
                    "nodes": [
                      2996155525,
                      2996155540,
                      2996155534,
                      2996155521,
                      2996155525
                    ],
                    "addr:city": null,
                    "addr:housenumber": null,
                    "addr:street": null,
                    "building": "apartments",
                    "building:levels": null,
                    "name": null,
                    "building:min_level": null,
                    "layer": null,
                    "landuse": null,
                    "postal_code": null,
                    "addr:postcode": null,
                    "addr:suburb": null,
                    "source": null,
                    "description": null,
                    "building:flats": null,
                    "roof:colour": null,
                    "ways": null,
                    "type": null,
                    "style": {
                      "color": "black",
                      "fillColor": "black"
                    }
                  },
                  "geometry": {
                    "type": "Polygon",
                    "coordinates": [
                      [
                        [
                          -48.0242417,
                          -15.8411767
                        ],
                        [
                          -48.0241898,
                          -15.8413406
                        ],
                        [
                          -48.0239888,
                          -15.8412765
                        ],
                        [
                          -48.0240508,
                          -15.8411175
                        ],
                        [
                          -48.0242417,
                          -15.8411767
                        ]
                      ]
                    ]
                  },
                  "bbox": [
                    -48.0242417,
                    -15.8413406,
                    -48.0239888,
                    -15.8411175
                  ]
                },
                {
                  "id": "('way', 295854838)",
                  "type": "Feature",
                  "properties": {
                    "nodes": [
                      2996155484,
                      2996155497,
                      2996155488,
                      2996155481,
                      2996155484
                    ],
                    "addr:city": null,
                    "addr:housenumber": null,
                    "addr:street": null,
                    "building": "apartments",
                    "building:levels": null,
                    "name": null,
                    "building:min_level": null,
                    "layer": null,
                    "landuse": null,
                    "postal_code": null,
                    "addr:postcode": null,
                    "addr:suburb": null,
                    "source": null,
                    "description": null,
                    "building:flats": null,
                    "roof:colour": null,
                    "ways": null,
                    "type": null,
                    "style": {
                      "color": "black",
                      "fillColor": "black"
                    }
                  },
                  "geometry": {
                    "type": "Polygon",
                    "coordinates": [
                      [
                        [
                          -48.023929,
                          -15.8407644
                        ],
                        [
                          -48.0238687,
                          -15.8409245
                        ],
                        [
                          -48.0235612,
                          -15.8408174
                        ],
                        [
                          -48.0236214,
                          -15.8406573
                        ],
                        [
                          -48.023929,
                          -15.8407644
                        ]
                      ]
                    ]
                  },
                  "bbox": [
                    -48.023929,
                    -15.8409245,
                    -48.0235612,
                    -15.8406573
                  ]
                },
                {
                  "id": "('way', 295854839)",
                  "type": "Feature",
                  "properties": {
                    "nodes": [
                      2996155532,
                      2996155526,
                      2996155542,
                      2972515640,
                      2996155532
                    ],
                    "addr:city": null,
                    "addr:housenumber": null,
                    "addr:street": null,
                    "building": "apartments",
                    "building:levels": null,
                    "name": null,
                    "building:min_level": null,
                    "layer": null,
                    "landuse": null,
                    "postal_code": null,
                    "addr:postcode": null,
                    "addr:suburb": null,
                    "source": null,
                    "description": null,
                    "building:flats": null,
                    "roof:colour": null,
                    "ways": null,
                    "type": null,
                    "style": {
                      "color": "black",
                      "fillColor": "black"
                    }
                  },
                  "geometry": {
                    "type": "Polygon",
                    "coordinates": [
                      [
                        [
                          -48.0244726,
                          -15.8412481
                        ],
                        [
                          -48.0242741,
                          -15.841186
                        ],
                        [
                          -48.0242228,
                          -15.8413511
                        ],
                        [
                          -48.0244159,
                          -15.8414127
                        ],
                        [
                          -48.0244726,
                          -15.8412481
                        ]
                      ]
                    ]
                  },
                  "bbox": [
                    -48.0244726,
                    -15.8414127,
                    -48.0242228,
                    -15.841186
                  ]
                },
                {
                  "id": "('way', 295854840)",
                  "type": "Feature",
                  "properties": {
                    "nodes": [
                      2996155473,
                      2996155482,
                      2996155472,
                      2996155469,
                      2996155473
                    ],
                    "addr:city": null,
                    "addr:housenumber": null,
                    "addr:street": null,
                    "building": "apartments",
                    "building:levels": null,
                    "name": null,
                    "building:min_level": null,
                    "layer": null,
                    "landuse": null,
                    "postal_code": null,
                    "addr:postcode": null,
                    "addr:suburb": null,
                    "source": null,
                    "description": null,
                    "building:flats": null,
                    "roof:colour": null,
                    "ways": null,
                    "type": null,
                    "style": {
                      "color": "black",
                      "fillColor": "black"
                    }
                  },
                  "geometry": {
                    "type": "Polygon",
                    "coordinates": [
                      [
                        [
                          -48.0226209,
                          -15.8405671
                        ],
                        [
                          -48.0225706,
                          -15.8406749
                        ],
                        [
                          -48.0222503,
                          -15.8405451
                        ],
                        [
                          -48.0223029,
                          -15.8404328
                        ],
                        [
                          -48.0226209,
                          -15.8405671
                        ]
                      ]
                    ]
                  },
                  "bbox": [
                    -48.0226209,
                    -15.8406749,
                    -48.0222503,
                    -15.8404328
                  ]
                },
                {
                  "id": "('way', 295854841)",
                  "type": "Feature",
                  "properties": {
                    "nodes": [
                      2996155444,
                      2996155447,
                      2996155446,
                      2996155439,
                      2996155444
                    ],
                    "addr:city": null,
                    "addr:housenumber": null,
                    "addr:street": null,
                    "building": "apartments",
                    "building:levels": null,
                    "name": null,
                    "building:min_level": null,
                    "layer": null,
                    "landuse": null,
                    "postal_code": null,
                    "addr:postcode": null,
                    "addr:suburb": null,
                    "source": null,
                    "description": null,
                    "building:flats": null,
                    "roof:colour": null,
                    "ways": null,
                    "type": null,
                    "style": {
                      "color": "black",
                      "fillColor": "black"
                    }
                  },
                  "geometry": {
                    "type": "Polygon",
                    "coordinates": [
                      [
                        [
                          -48.0205623,
                          -15.8389956
                        ],
                        [
                          -48.0204753,
                          -15.839187
                        ],
                        [
                          -48.0203094,
                          -15.8391188
                        ],
                        [
                          -48.0204021,
                          -15.8389306
                        ],
                        [
                          -48.0205623,
                          -15.8389956
                        ]
                      ]
                    ]
                  },
                  "bbox": [
                    -48.0205623,
                    -15.839187,
                    -48.0203094,
                    -15.8389306
                  ]
                },
                {
                  "id": "('way', 295854842)",
                  "type": "Feature",
                  "properties": {
                    "nodes": [
                      2996155508,
                      2996155530,
                      2996155527,
                      2996155528,
                      2996155533,
                      2996155514,
                      2996155517,
                      2996155515,
                      2996155508
                    ],
                    "addr:city": null,
                    "addr:housenumber": null,
                    "addr:street": null,
                    "building": "apartments",
                    "building:levels": null,
                    "name": null,
                    "building:min_level": null,
                    "layer": null,
                    "landuse": null,
                    "postal_code": null,
                    "addr:postcode": null,
                    "addr:suburb": null,
                    "source": null,
                    "description": null,
                    "building:flats": null,
                    "roof:colour": null,
                    "ways": null,
                    "type": null,
                    "style": {
                      "color": "black",
                      "fillColor": "black"
                    }
                  },
                  "geometry": {
                    "type": "Polygon",
                    "coordinates": [
                      [
                        [
                          -48.0212135,
                          -15.8410127
                        ],
                        [
                          -48.021273,
                          -15.8412086
                        ],
                        [
                          -48.0211792,
                          -15.841191
                        ],
                        [
                          -48.021154,
                          -15.8411932
                        ],
                        [
                          -48.0210625,
                          -15.841257
                        ],
                        [
                          -48.0210213,
                          -15.8410567
                        ],
                        [
                          -48.0211151,
                          -15.8410655
                        ],
                        [
                          -48.0211563,
                          -15.8410567
                        ],
                        [
                          -48.0212135,
                          -15.8410127
                        ]
                      ]
                    ]
                  },
                  "bbox": [
                    -48.021273,
                    -15.841257,
                    -48.0210213,
                    -15.8410127
                  ]
                },
                {
                  "id": "('way', 295854843)",
                  "type": "Feature",
                  "properties": {
                    "nodes": [
                      2996155535,
                      2996155549,
                      2996155546,
                      2996155547,
                      2996155551,
                      2996155538,
                      2996155541,
                      2996155539,
                      2996155535
                    ],
                    "addr:city": null,
                    "addr:housenumber": null,
                    "addr:street": null,
                    "building": "apartments",
                    "building:levels": null,
                    "name": null,
                    "building:min_level": null,
                    "layer": null,
                    "landuse": null,
                    "postal_code": null,
                    "addr:postcode": null,
                    "addr:suburb": null,
                    "source": null,
                    "description": null,
                    "building:flats": null,
                    "roof:colour": null,
                    "ways": null,
                    "type": null,
                    "style": {
                      "color": "black",
                      "fillColor": "black"
                    }
                  },
                  "geometry": {
                    "type": "Polygon",
                    "coordinates": [
                      [
                        [
                          -48.0211426,
                          -15.8412812
                        ],
                        [
                          -48.0211998,
                          -15.8414749
                        ],
                        [
                          -48.0211197,
                          -15.8414617
                        ],
                        [
                          -48.0210922,
                          -15.8414639
                        ],
                        [
                          -48.0209984,
                          -15.8415212
                        ],
                        [
                          -48.0209504,
                          -15.8413253
                        ],
                        [
                          -48.0210305,
                          -15.8413429
                        ],
                        [
                          -48.0210922,
                          -15.8413363
                        ],
                        [
                          -48.0211426,
                          -15.8412812
                        ]
                      ]
                    ]
                  },
                  "bbox": [
                    -48.0211998,
                    -15.8415212,
                    -48.0209504,
                    -15.8412812
                  ]
                },
                {
                  "id": "('way', 297678253)",
                  "type": "Feature",
                  "properties": {
                    "nodes": [
                      3015603022,
                      4351410098,
                      4351410115,
                      4351410116,
                      3015603024,
                      3015603025,
                      4351410127,
                      4351410128,
                      4351410126,
                      4351410125,
                      3015603022
                    ],
                    "addr:city": null,
                    "addr:housenumber": "4",
                    "addr:street": "Rua 34 Norte",
                    "building": "apartments",
                    "building:levels": "17",
                    "name": "Real Flat",
                    "building:min_level": "4",
                    "layer": "1",
                    "landuse": null,
                    "postal_code": null,
                    "addr:postcode": null,
                    "addr:suburb": null,
                    "source": null,
                    "description": null,
                    "building:flats": null,
                    "roof:colour": null,
                    "ways": null,
                    "type": null,
                    "style": {
                      "color": "black",
                      "fillColor": "black"
                    }
                  },
                  "geometry": {
                    "type": "Polygon",
                    "coordinates": [
                      [
                        [
                          -48.0364076,
                          -15.8362184
                        ],
                        [
                          -48.036271,
                          -15.8363215
                        ],
                        [
                          -48.0361449,
                          -15.8361687
                        ],
                        [
                          -48.0360814,
                          -15.8360896
                        ],
                        [
                          -48.0359508,
                          -15.8359287
                        ],
                        [
                          -48.0360874,
                          -15.8358256
                        ],
                        [
                          -48.0362238,
                          -15.8359932
                        ],
                        [
                          -48.0362326,
                          -15.835994
                        ],
                        [
                          -48.036246,
                          -15.8360103
                        ],
                        [
                          -48.0362447,
                          -15.8360188
                        ],
                        [
                          -48.0364076,
                          -15.8362184
                        ]
                      ]
                    ]
                  },
                  "bbox": [
                    -48.0364076,
                    -15.8363215,
                    -48.0359508,
                    -15.8358256
                  ]
                },
                {
                  "id": "('way', 297678254)",
                  "type": "Feature",
                  "properties": {
                    "nodes": [
                      3015603026,
                      4351410080,
                      4351410082,
                      4351410083,
                      4351410084,
                      4351410087,
                      4351410086,
                      4351410085,
                      4351410081,
                      3015603027,
                      4351410089,
                      4351410091,
                      4351410090,
                      4351410088,
                      4351410092,
                      4351410094,
                      4351410095,
                      4351410093,
                      3015603028,
                      4351410072,
                      4351410073,
                      4351410074,
                      4351410075,
                      4351410076,
                      4351410077,
                      4351410078,
                      4351410079,
                      4351410103,
                      4351410070,
                      4351410071,
                      4351410067,
                      4351410069,
                      4351410068,
                      3015603029,
                      4351410104,
                      4351410102,
                      3015603026
                    ],
                    "addr:city": null,
                    "addr:housenumber": "3",
                    "addr:street": "Rua 33 Norte",
                    "building": "apartments",
                    "building:levels": "12",
                    "name": "Vitória Régia",
                    "building:min_level": null,
                    "layer": null,
                    "landuse": null,
                    "postal_code": null,
                    "addr:postcode": null,
                    "addr:suburb": null,
                    "source": null,
                    "description": null,
                    "building:flats": null,
                    "roof:colour": null,
                    "ways": null,
                    "type": null,
                    "style": {
                      "color": "black",
                      "fillColor": "black"
                    }
                  },
                  "geometry": {
                    "type": "Polygon",
                    "coordinates": [
                      [
                        [
                          -48.0361036,
                          -15.8363395
                        ],
                        [
                          -48.0360393,
                          -15.8363879
                        ],
                        [
                          -48.0360016,
                          -15.8363417
                        ],
                        [
                          -48.0359929,
                          -15.8363482
                        ],
                        [
                          -48.0359478,
                          -15.8362929
                        ],
                        [
                          -48.0359235,
                          -15.8363119
                        ],
                        [
                          -48.0359676,
                          -15.836366
                        ],
                        [
                          -48.0359598,
                          -15.8363719
                        ],
                        [
                          -48.0359953,
                          -15.8364157
                        ],
                        [
                          -48.0359336,
                          -15.8364621
                        ],
                        [
                          -48.0358418,
                          -15.8363491
                        ],
                        [
                          -48.0358936,
                          -15.8363101
                        ],
                        [
                          -48.0358759,
                          -15.8362884
                        ],
                        [
                          -48.0358239,
                          -15.8363275
                        ],
                        [
                          -48.0357438,
                          -15.8362289
                        ],
                        [
                          -48.0357496,
                          -15.8362246
                        ],
                        [
                          -48.0357411,
                          -15.8362141
                        ],
                        [
                          -48.0357345,
                          -15.8362191
                        ],
                        [
                          -48.0357126,
                          -15.8361922
                        ],
                        [
                          -48.0357532,
                          -15.8361615
                        ],
                        [
                          -48.035757,
                          -15.836166
                        ],
                        [
                          -48.0357758,
                          -15.8361518
                        ],
                        [
                          -48.0357839,
                          -15.8361616
                        ],
                        [
                          -48.0357995,
                          -15.8361498
                        ],
                        [
                          -48.0358347,
                          -15.8361926
                        ],
                        [
                          -48.0358287,
                          -15.8361972
                        ],
                        [
                          -48.0358955,
                          -15.8362788
                        ],
                        [
                          -48.0359277,
                          -15.8362536
                        ],
                        [
                          -48.0358666,
                          -15.8361793
                        ],
                        [
                          -48.0358938,
                          -15.8361586
                        ],
                        [
                          -48.0358801,
                          -15.836142
                        ],
                        [
                          -48.035904,
                          -15.8361237
                        ],
                        [
                          -48.0359135,
                          -15.8361353
                        ],
                        [
                          -48.0359275,
                          -15.8361246
                        ],
                        [
                          -48.0359913,
                          -15.8362031
                        ],
                        [
                          -48.0360195,
                          -15.8362359
                        ],
                        [
                          -48.0361036,
                          -15.8363395
                        ]
                      ]
                    ]
                  },
                  "bbox": [
                    -48.0361036,
                    -15.8364621,
                    -48.0357126,
                    -15.8361237
                  ]
                },
                {
                  "id": "('way', 297796941)",
                  "type": "Feature",
                  "properties": {
                    "nodes": [
                      3017020785,
                      3017020786,
                      3017020787,
                      3017020788,
                      3017020785
                    ],
                    "addr:city": null,
                    "addr:housenumber": "11",
                    "addr:street": "Avenida Pau Brasil",
                    "building": "apartments",
                    "building:levels": null,
                    "name": "Via Azaleas",
                    "building:min_level": null,
                    "layer": null,
                    "landuse": null,
                    "postal_code": null,
                    "addr:postcode": null,
                    "addr:suburb": null,
                    "source": null,
                    "description": null,
                    "building:flats": null,
                    "roof:colour": null,
                    "ways": null,
                    "type": null,
                    "style": {
                      "color": "black",
                      "fillColor": "black"
                    }
                  },
                  "geometry": {
                    "type": "Polygon",
                    "coordinates": [
                      [
                        [
                          -48.0287238,
                          -15.8415284
                        ],
                        [
                          -48.028712,
                          -15.8409346
                        ],
                        [
                          -48.027778,
                          -15.8409518
                        ],
                        [
                          -48.0277898,
                          -15.8415456
                        ],
                        [
                          -48.0287238,
                          -15.8415284
                        ]
                      ]
                    ]
                  },
                  "bbox": [
                    -48.0287238,
                    -15.8415456,
                    -48.027778,
                    -15.8409346
                  ]
                },
                {
                  "id": "('way', 297796942)",
                  "type": "Feature",
                  "properties": {
                    "nodes": [
                      3017020789,
                      3017020790,
                      3017020791,
                      3017020792,
                      3017020789
                    ],
                    "addr:city": null,
                    "addr:housenumber": "14",
                    "addr:street": "Avenida Pau Brasil",
                    "building": "apartments",
                    "building:levels": null,
                    "name": "Via Brisa",
                    "building:min_level": null,
                    "layer": null,
                    "landuse": null,
                    "postal_code": null,
                    "addr:postcode": null,
                    "addr:suburb": null,
                    "source": null,
                    "description": null,
                    "building:flats": null,
                    "roof:colour": null,
                    "ways": null,
                    "type": null,
                    "style": {
                      "color": "black",
                      "fillColor": "black"
                    }
                  },
                  "geometry": {
                    "type": "Polygon",
                    "coordinates": [
                      [
                        [
                          -48.0275332,
                          -15.8415691
                        ],
                        [
                          -48.026832,
                          -15.8415866
                        ],
                        [
                          -48.0268298,
                          -15.8413064
                        ],
                        [
                          -48.0275223,
                          -15.841296
                        ],
                        [
                          -48.0275332,
                          -15.8415691
                        ]
                      ]
                    ]
                  },
                  "bbox": [
                    -48.0275332,
                    -15.8415866,
                    -48.0268298,
                    -15.841296
                  ]
                },
                {
                  "id": "('way', 297796945)",
                  "type": "Feature",
                  "properties": {
                    "nodes": [
                      3017020800,
                      2764054328,
                      3017020804,
                      2764054326,
                      3017020800
                    ],
                    "addr:city": null,
                    "addr:housenumber": null,
                    "addr:street": null,
                    "building": "apartments",
                    "building:levels": null,
                    "name": "Cidade de Barcelona",
                    "building:min_level": null,
                    "layer": null,
                    "landuse": null,
                    "postal_code": null,
                    "addr:postcode": null,
                    "addr:suburb": null,
                    "source": null,
                    "description": null,
                    "building:flats": null,
                    "roof:colour": null,
                    "ways": null,
                    "type": null,
                    "style": {
                      "color": "black",
                      "fillColor": "black"
                    }
                  },
                  "geometry": {
                    "type": "Polygon",
                    "coordinates": [
                      [
                        [
                          -48.0286076,
                          -15.8380786
                        ],
                        [
                          -48.0283318,
                          -15.8380786
                        ],
                        [
                          -48.0283278,
                          -15.8378082
                        ],
                        [
                          -48.0286007,
                          -15.8377992
                        ],
                        [
                          -48.0286076,
                          -15.8380786
                        ]
                      ]
                    ]
                  },
                  "bbox": [
                    -48.0286076,
                    -15.8380786,
                    -48.0283278,
                    -15.8377992
                  ]
                },
                {
                  "id": "('way', 297796946)",
                  "type": "Feature",
                  "properties": {
                    "nodes": [
                      3017020804,
                      2764054328,
                      3017020806,
                      3017020807,
                      4330836960,
                      3017020804
                    ],
                    "addr:city": null,
                    "addr:housenumber": "3",
                    "addr:street": "Avenida Pau Brasil",
                    "building": "apartments",
                    "building:levels": null,
                    "name": "Gavino Residencial",
                    "building:min_level": null,
                    "layer": null,
                    "landuse": null,
                    "postal_code": null,
                    "addr:postcode": null,
                    "addr:suburb": null,
                    "source": null,
                    "description": null,
                    "building:flats": null,
                    "roof:colour": null,
                    "ways": null,
                    "type": null,
                    "style": {
                      "color": "black",
                      "fillColor": "black"
                    }
                  },
                  "geometry": {
                    "type": "Polygon",
                    "coordinates": [
                      [
                        [
                          -48.0283278,
                          -15.8378082
                        ],
                        [
                          -48.0283318,
                          -15.8380786
                        ],
                        [
                          -48.0277777,
                          -15.8380938
                        ],
                        [
                          -48.0277875,
                          -15.837878
                        ],
                        [
                          -48.0279469,
                          -15.8378208
                        ],
                        [
                          -48.0283278,
                          -15.8378082
                        ]
                      ]
                    ]
                  },
                  "bbox": [
                    -48.0283318,
                    -15.8380938,
                    -48.0277777,
                    -15.8378082
                  ]
                },
                {
                  "id": "('way', 298179978)",
                  "type": "Feature",
                  "properties": {
                    "nodes": [
                      3020821692,
                      3020821691,
                      3020821689,
                      3020821690,
                      3020821692
                    ],
                    "addr:city": null,
                    "addr:housenumber": "4",
                    "addr:street": "Rua 13 Norte",
                    "building": "apartments",
                    "building:levels": null,
                    "name": "Ilha de Manhattan",
                    "building:min_level": null,
                    "layer": null,
                    "landuse": null,
                    "postal_code": null,
                    "addr:postcode": null,
                    "addr:suburb": null,
                    "source": null,
                    "description": null,
                    "building:flats": null,
                    "roof:colour": null,
                    "ways": null,
                    "type": null,
                    "style": {
                      "color": "black",
                      "fillColor": "black"
                    }
                  },
                  "geometry": {
                    "type": "Polygon",
                    "coordinates": [
                      [
                        [
                          -48.0191582,
                          -15.8372043
                        ],
                        [
                          -48.0188921,
                          -15.8371033
                        ],
                        [
                          -48.0191293,
                          -15.8365965
                        ],
                        [
                          -48.0193935,
                          -15.836715
                        ],
                        [
                          -48.0191582,
                          -15.8372043
                        ]
                      ]
                    ]
                  },
                  "bbox": [
                    -48.0193935,
                    -15.8372043,
                    -48.0188921,
                    -15.8365965
                  ]
                },
                {
                  "id": "('way', 298179982)",
                  "type": "Feature",
                  "properties": {
                    "nodes": [
                      2520951757,
                      6379840833,
                      3081143515,
                      3020821693,
                      2520951757
                    ],
                    "addr:city": null,
                    "addr:housenumber": "7",
                    "addr:street": "Rua das Paineiras",
                    "building": "apartments",
                    "building:levels": "22",
                    "name": "Maison Exclusive",
                    "building:min_level": null,
                    "layer": null,
                    "landuse": "residential",
                    "postal_code": "71929180",
                    "addr:postcode": null,
                    "addr:suburb": null,
                    "source": null,
                    "description": null,
                    "building:flats": null,
                    "roof:colour": null,
                    "ways": null,
                    "type": null,
                    "style": {
                      "color": "black",
                      "fillColor": "black"
                    }
                  },
                  "geometry": {
                    "type": "Polygon",
                    "coordinates": [
                      [
                        [
                          -48.0350933,
                          -15.8399843
                        ],
                        [
                          -48.0348121,
                          -15.8401675
                        ],
                        [
                          -48.0344304,
                          -15.8397063
                        ],
                        [
                          -48.0346748,
                          -15.83952
                        ],
                        [
                          -48.0350933,
                          -15.8399843
                        ]
                      ]
                    ]
                  },
                  "bbox": [
                    -48.0350933,
                    -15.8401675,
                    -48.0344304,
                    -15.83952
                  ]
                },
                {
                  "id": "('way', 298457361)",
                  "type": "Feature",
                  "properties": {
                    "nodes": [
                      3023617157,
                      3023617165,
                      3023617163,
                      3023617173,
                      3023617174,
                      3023617176,
                      3023617172,
                      3023617166,
                      3023617167,
                      3023617158,
                      3023617155,
                      3023617150,
                      3023617157
                    ],
                    "addr:city": null,
                    "addr:housenumber": "6",
                    "addr:street": "Quadra 208",
                    "building": "apartments",
                    "building:levels": null,
                    "name": "Residencial Diamond",
                    "building:min_level": null,
                    "layer": null,
                    "landuse": null,
                    "postal_code": null,
                    "addr:postcode": null,
                    "addr:suburb": null,
                    "source": null,
                    "description": null,
                    "building:flats": null,
                    "roof:colour": null,
                    "ways": null,
                    "type": null,
                    "style": {
                      "color": "black",
                      "fillColor": "black"
                    }
                  },
                  "geometry": {
                    "type": "Polygon",
                    "coordinates": [
                      [
                        [
                          -48.0292409,
                          -15.8446345
                        ],
                        [
                          -48.0292127,
                          -15.8447051
                        ],
                        [
                          -48.0291694,
                          -15.8446834
                        ],
                        [
                          -48.0291318,
                          -15.8447721
                        ],
                        [
                          -48.0291675,
                          -15.8447902
                        ],
                        [
                          -48.0291374,
                          -15.8448536
                        ],
                        [
                          -48.0289398,
                          -15.8447721
                        ],
                        [
                          -48.028968,
                          -15.8447088
                        ],
                        [
                          -48.0290264,
                          -15.8447305
                        ],
                        [
                          -48.0290621,
                          -15.8446436
                        ],
                        [
                          -48.0290075,
                          -15.8446255
                        ],
                        [
                          -48.0290377,
                          -15.8445567
                        ],
                        [
                          -48.0292409,
                          -15.8446345
                        ]
                      ]
                    ]
                  },
                  "bbox": [
                    -48.0292409,
                    -15.8448536,
                    -48.0289398,
                    -15.8445567
                  ]
                },
                {
                  "id": "('way', 298457362)",
                  "type": "Feature",
                  "properties": {
                    "nodes": [
                      3023617139,
                      3023617147,
                      3023617144,
                      3023617137,
                      3023617139
                    ],
                    "addr:city": null,
                    "addr:housenumber": null,
                    "addr:street": null,
                    "building": "apartments",
                    "building:levels": null,
                    "name": null,
                    "building:min_level": null,
                    "layer": null,
                    "landuse": null,
                    "postal_code": null,
                    "addr:postcode": null,
                    "addr:suburb": null,
                    "source": null,
                    "description": null,
                    "building:flats": null,
                    "roof:colour": null,
                    "ways": null,
                    "type": null,
                    "style": {
                      "color": "black",
                      "fillColor": "black"
                    }
                  },
                  "geometry": {
                    "type": "Polygon",
                    "coordinates": [
                      [
                        [
                          -48.0256208,
                          -15.8443199
                        ],
                        [
                          -48.0255531,
                          -15.8444883
                        ],
                        [
                          -48.0253404,
                          -15.8444177
                        ],
                        [
                          -48.0254138,
                          -15.8442475
                        ],
                        [
                          -48.0256208,
                          -15.8443199
                        ]
                      ]
                    ]
                  },
                  "bbox": [
                    -48.0256208,
                    -15.8444883,
                    -48.0253404,
                    -15.8442475
                  ]
                },
                {
                  "id": "('way', 298457364)",
                  "type": "Feature",
                  "properties": {
                    "nodes": [
                      3023617181,
                      3023617185,
                      3023617183,
                      3023617178,
                      3023617181
                    ],
                    "addr:city": null,
                    "addr:housenumber": null,
                    "addr:street": null,
                    "building": "apartments",
                    "building:levels": null,
                    "name": null,
                    "building:min_level": null,
                    "layer": null,
                    "landuse": null,
                    "postal_code": null,
                    "addr:postcode": null,
                    "addr:suburb": null,
                    "source": null,
                    "description": null,
                    "building:flats": null,
                    "roof:colour": null,
                    "ways": null,
                    "type": null,
                    "style": {
                      "color": "black",
                      "fillColor": "black"
                    }
                  },
                  "geometry": {
                    "type": "Polygon",
                    "coordinates": [
                      [
                        [
                          -48.0265093,
                          -15.844941
                        ],
                        [
                          -48.0264415,
                          -15.8451257
                        ],
                        [
                          -48.0262382,
                          -15.8450442
                        ],
                        [
                          -48.0263173,
                          -15.844874
                        ],
                        [
                          -48.0265093,
                          -15.844941
                        ]
                      ]
                    ]
                  },
                  "bbox": [
                    -48.0265093,
                    -15.8451257,
                    -48.0262382,
                    -15.844874
                  ]
                },
                {
                  "id": "('way', 298457366)",
                  "type": "Feature",
                  "properties": {
                    "nodes": [
                      3023617184,
                      3023617186,
                      3023617182,
                      3023617179,
                      3023617184
                    ],
                    "addr:city": null,
                    "addr:housenumber": null,
                    "addr:street": null,
                    "building": "apartments",
                    "building:levels": null,
                    "name": null,
                    "building:min_level": null,
                    "layer": null,
                    "landuse": null,
                    "postal_code": null,
                    "addr:postcode": null,
                    "addr:suburb": null,
                    "source": null,
                    "description": null,
                    "building:flats": null,
                    "roof:colour": null,
                    "ways": null,
                    "type": null,
                    "style": {
                      "color": "black",
                      "fillColor": "black"
                    }
                  },
                  "geometry": {
                    "type": "Polygon",
                    "coordinates": [
                      [
                        [
                          -48.0261498,
                          -15.8450949
                        ],
                        [
                          -48.0261046,
                          -15.8451872
                        ],
                        [
                          -48.0256641,
                          -15.845008
                        ],
                        [
                          -48.025715,
                          -15.8449229
                        ],
                        [
                          -48.0261498,
                          -15.8450949
                        ]
                      ]
                    ]
                  },
                  "bbox": [
                    -48.0261498,
                    -15.8451872,
                    -48.0256641,
                    -15.8449229
                  ]
                },
                {
                  "id": "('way', 298457367)",
                  "type": "Feature",
                  "properties": {
                    "nodes": [
                      3023617170,
                      3023617180,
                      3023617177,
                      3023617162,
                      3023617170
                    ],
                    "addr:city": null,
                    "addr:housenumber": null,
                    "addr:street": null,
                    "building": "apartments",
                    "building:levels": null,
                    "name": null,
                    "building:min_level": null,
                    "layer": null,
                    "landuse": null,
                    "postal_code": null,
                    "addr:postcode": null,
                    "addr:suburb": null,
                    "source": null,
                    "description": null,
                    "building:flats": null,
                    "roof:colour": null,
                    "ways": null,
                    "type": null,
                    "style": {
                      "color": "black",
                      "fillColor": "black"
                    }
                  },
                  "geometry": {
                    "type": "Polygon",
                    "coordinates": [
                      [
                        [
                          -48.0255456,
                          -15.8447364
                        ],
                        [
                          -48.025474,
                          -15.8449319
                        ],
                        [
                          -48.0253009,
                          -15.8448613
                        ],
                        [
                          -48.025395,
                          -15.8446802
                        ],
                        [
                          -48.0255456,
                          -15.8447364
                        ]
                      ]
                    ]
                  },
                  "bbox": [
                    -48.0255456,
                    -15.8449319,
                    -48.0253009,
                    -15.8446802
                  ]
                },
                {
                  "id": "('way', 298457368)",
                  "type": "Feature",
                  "properties": {
                    "nodes": [
                      3023617188,
                      3023617193,
                      3023617190,
                      3023617187,
                      3023617188
                    ],
                    "addr:city": null,
                    "addr:housenumber": "3",
                    "addr:street": "Quadra 208",
                    "building": "apartments",
                    "building:levels": null,
                    "name": "Edificio Almirante Soares Dutra",
                    "building:min_level": null,
                    "layer": null,
                    "landuse": null,
                    "postal_code": null,
                    "addr:postcode": null,
                    "addr:suburb": null,
                    "source": null,
                    "description": null,
                    "building:flats": null,
                    "roof:colour": null,
                    "ways": null,
                    "type": null,
                    "style": {
                      "color": "black",
                      "fillColor": "black"
                    }
                  },
                  "geometry": {
                    "type": "Polygon",
                    "coordinates": [
                      [
                        [
                          -48.0271084,
                          -15.8452882
                        ],
                        [
                          -48.0269954,
                          -15.8455399
                        ],
                        [
                          -48.0268016,
                          -15.8454602
                        ],
                        [
                          -48.0269201,
                          -15.8452139
                        ],
                        [
                          -48.0271084,
                          -15.8452882
                        ]
                      ]
                    ]
                  },
                  "bbox": [
                    -48.0271084,
                    -15.8455399,
                    -48.0268016,
                    -15.8452139
                  ]
                },
                {
                  "id": "('way', 298457369)",
                  "type": "Feature",
                  "properties": {
                    "nodes": [
                      3023617198,
                      3023617211,
                      3023617207,
                      3023617194,
                      3023617198
                    ],
                    "addr:city": null,
                    "addr:housenumber": "7",
                    "addr:street": "Quadra 208",
                    "building": "apartments",
                    "building:levels": null,
                    "name": "Residencial Costa Azul",
                    "building:min_level": null,
                    "layer": null,
                    "landuse": null,
                    "postal_code": null,
                    "addr:postcode": null,
                    "addr:suburb": null,
                    "source": null,
                    "description": null,
                    "building:flats": null,
                    "roof:colour": null,
                    "ways": null,
                    "type": null,
                    "style": {
                      "color": "black",
                      "fillColor": "black"
                    }
                  },
                  "geometry": {
                    "type": "Polygon",
                    "coordinates": [
                      [
                        [
                          -48.0280231,
                          -15.8456467
                        ],
                        [
                          -48.0279121,
                          -15.8458984
                        ],
                        [
                          -48.0277389,
                          -15.8458278
                        ],
                        [
                          -48.0278613,
                          -15.8455797
                        ],
                        [
                          -48.0280231,
                          -15.8456467
                        ]
                      ]
                    ]
                  },
                  "bbox": [
                    -48.0280231,
                    -15.8458984,
                    -48.0277389,
                    -15.8455797
                  ]
                },
                {
                  "id": "('way', 298457370)",
                  "type": "Feature",
                  "properties": {
                    "nodes": [
                      3023615812,
                      3023615814,
                      3023615813,
                      3023615811,
                      3023615812
                    ],
                    "addr:city": null,
                    "addr:housenumber": null,
                    "addr:street": null,
                    "building": "apartments",
                    "building:levels": null,
                    "name": null,
                    "building:min_level": null,
                    "layer": null,
                    "landuse": null,
                    "postal_code": null,
                    "addr:postcode": null,
                    "addr:suburb": null,
                    "source": null,
                    "description": null,
                    "building:flats": null,
                    "roof:colour": null,
                    "ways": null,
                    "type": null,
                    "style": {
                      "color": "black",
                      "fillColor": "black"
                    }
                  },
                  "geometry": {
                    "type": "Polygon",
                    "coordinates": [
                      [
                        [
                          -48.0286494,
                          -15.8435957
                        ],
                        [
                          -48.0286505,
                          -15.8437261
                        ],
                        [
                          -48.0284444,
                          -15.8437277
                        ],
                        [
                          -48.0284433,
                          -15.8435973
                        ],
                        [
                          -48.0286494,
                          -15.8435957
                        ]
                      ]
                    ]
                  },
                  "bbox": [
                    -48.0286505,
                    -15.8437277,
                    -48.0284433,
                    -15.8435957
                  ]
                },
                {
                  "id": "('way', 298457371)",
                  "type": "Feature",
                  "properties": {
                    "nodes": [
                      3023617156,
                      3023617175,
                      3023617171,
                      3023617151,
                      3023617156
                    ],
                    "addr:city": null,
                    "addr:housenumber": null,
                    "addr:street": null,
                    "building": "apartments",
                    "building:levels": null,
                    "name": null,
                    "building:min_level": null,
                    "layer": null,
                    "landuse": null,
                    "postal_code": null,
                    "addr:postcode": null,
                    "addr:suburb": null,
                    "source": null,
                    "description": null,
                    "building:flats": null,
                    "roof:colour": null,
                    "ways": null,
                    "type": null,
                    "style": {
                      "color": "black",
                      "fillColor": "black"
                    }
                  },
                  "geometry": {
                    "type": "Polygon",
                    "coordinates": [
                      [
                        [
                          -48.0262476,
                          -15.8446259
                        ],
                        [
                          -48.0261761,
                          -15.8448052
                        ],
                        [
                          -48.0260011,
                          -15.8447382
                        ],
                        [
                          -48.0260876,
                          -15.8445625
                        ],
                        [
                          -48.0262476,
                          -15.8446259
                        ]
                      ]
                    ]
                  },
                  "bbox": [
                    -48.0262476,
                    -15.8448052,
                    -48.0260011,
                    -15.8445625
                  ]
                },
                {
                  "id": "('way', 298457372)",
                  "type": "Feature",
                  "properties": {
                    "nodes": [
                      3023615806,
                      3023615809,
                      3023615808,
                      3023615807,
                      4213150273,
                      4213150272,
                      4213150271,
                      4213150274,
                      3023615806
                    ],
                    "addr:city": null,
                    "addr:housenumber": null,
                    "addr:street": null,
                    "building": "apartments",
                    "building:levels": "21",
                    "name": null,
                    "building:min_level": null,
                    "layer": null,
                    "landuse": null,
                    "postal_code": null,
                    "addr:postcode": null,
                    "addr:suburb": null,
                    "source": null,
                    "description": null,
                    "building:flats": null,
                    "roof:colour": null,
                    "ways": null,
                    "type": null,
                    "style": {
                      "color": "black",
                      "fillColor": "black"
                    }
                  },
                  "geometry": {
                    "type": "Polygon",
                    "coordinates": [
                      [
                        [
                          -48.0293141,
                          -15.8433496
                        ],
                        [
                          -48.0293151,
                          -15.8436022
                        ],
                        [
                          -48.0290713,
                          -15.8436031
                        ],
                        [
                          -48.0290703,
                          -15.8433505
                        ],
                        [
                          -48.0291251,
                          -15.8433437
                        ],
                        [
                          -48.02918,
                          -15.8433394
                        ],
                        [
                          -48.029224,
                          -15.8433385
                        ],
                        [
                          -48.029271,
                          -15.8433421
                        ],
                        [
                          -48.0293141,
                          -15.8433496
                        ]
                      ]
                    ]
                  },
                  "bbox": [
                    -48.0293151,
                    -15.8436031,
                    -48.0290703,
                    -15.8433385
                  ]
                },
                {
                  "id": "('way', 298457373)",
                  "type": "Feature",
                  "properties": {
                    "nodes": [
                      3023615805,
                      3023615810,
                      3023615812,
                      3023615804,
                      3023615805
                    ],
                    "addr:city": null,
                    "addr:housenumber": null,
                    "addr:street": null,
                    "building": "apartments",
                    "building:levels": null,
                    "name": null,
                    "building:min_level": null,
                    "layer": null,
                    "landuse": null,
                    "postal_code": null,
                    "addr:postcode": null,
                    "addr:suburb": null,
                    "source": null,
                    "description": null,
                    "building:flats": null,
                    "roof:colour": null,
                    "ways": null,
                    "type": null,
                    "style": {
                      "color": "black",
                      "fillColor": "black"
                    }
                  },
                  "geometry": {
                    "type": "Polygon",
                    "coordinates": [
                      [
                        [
                          -48.0288154,
                          -15.8433093
                        ],
                        [
                          -48.028813,
                          -15.8435981
                        ],
                        [
                          -48.0286494,
                          -15.8435957
                        ],
                        [
                          -48.0286507,
                          -15.843308
                        ],
                        [
                          -48.0288154,
                          -15.8433093
                        ]
                      ]
                    ]
                  },
                  "bbox": [
                    -48.0288154,
                    -15.8435981,
                    -48.0286494,
                    -15.843308
                  ]
                },
                {
                  "id": "('way', 298457374)",
                  "type": "Feature",
                  "properties": {
                    "nodes": [
                      3023617205,
                      3023617228,
                      3023617224,
                      3023617200,
                      3023617205
                    ],
                    "addr:city": null,
                    "addr:housenumber": "11",
                    "addr:street": "Quadra 208",
                    "building": "apartments",
                    "building:levels": null,
                    "name": "Residencial Canto do Sabiá",
                    "building:min_level": null,
                    "layer": null,
                    "landuse": null,
                    "postal_code": null,
                    "addr:postcode": null,
                    "addr:suburb": null,
                    "source": null,
                    "description": null,
                    "building:flats": null,
                    "roof:colour": null,
                    "ways": null,
                    "type": null,
                    "style": {
                      "color": "black",
                      "fillColor": "black"
                    }
                  },
                  "geometry": {
                    "type": "Polygon",
                    "coordinates": [
                      [
                        [
                          -48.0289655,
                          -15.8458232
                        ],
                        [
                          -48.0288085,
                          -15.846192
                        ],
                        [
                          -48.0286248,
                          -15.8461151
                        ],
                        [
                          -48.0287978,
                          -15.8457566
                        ],
                        [
                          -48.0289655,
                          -15.8458232
                        ]
                      ]
                    ]
                  },
                  "bbox": [
                    -48.0289655,
                    -15.846192,
                    -48.0286248,
                    -15.8457566
                  ]
                },
                {
                  "id": "('way', 298457376)",
                  "type": "Feature",
                  "properties": {
                    "nodes": [
                      3023617134,
                      3023617143,
                      3023617140,
                      3023615828,
                      3023617134
                    ],
                    "addr:city": null,
                    "addr:housenumber": null,
                    "addr:street": null,
                    "building": "apartments",
                    "building:levels": null,
                    "name": null,
                    "building:min_level": null,
                    "layer": null,
                    "landuse": null,
                    "postal_code": null,
                    "addr:postcode": null,
                    "addr:suburb": null,
                    "source": null,
                    "description": null,
                    "building:flats": null,
                    "roof:colour": null,
                    "ways": null,
                    "type": null,
                    "style": {
                      "color": "black",
                      "fillColor": "black"
                    }
                  },
                  "geometry": {
                    "type": "Polygon",
                    "coordinates": [
                      [
                        [
                          -48.0297153,
                          -15.8441818
                        ],
                        [
                          -48.0296193,
                          -15.8444136
                        ],
                        [
                          -48.0294292,
                          -15.8443267
                        ],
                        [
                          -48.0295383,
                          -15.844104
                        ],
                        [
                          -48.0297153,
                          -15.8441818
                        ]
                      ]
                    ]
                  },
                  "bbox": [
                    -48.0297153,
                    -15.8444136,
                    -48.0294292,
                    -15.844104
                  ]
                },
                {
                  "id": "('way', 298457377)",
                  "type": "Feature",
                  "properties": {
                    "nodes": [
                      3023617133,
                      3023617138,
                      3023615832,
                      3023615826,
                      3023617133
                    ],
                    "addr:city": null,
                    "addr:housenumber": null,
                    "addr:street": null,
                    "building": "apartments",
                    "building:levels": null,
                    "name": null,
                    "building:min_level": null,
                    "layer": null,
                    "landuse": null,
                    "postal_code": null,
                    "addr:postcode": null,
                    "addr:suburb": null,
                    "source": null,
                    "description": null,
                    "building:flats": null,
                    "roof:colour": null,
                    "ways": null,
                    "type": null,
                    "style": {
                      "color": "black",
                      "fillColor": "black"
                    }
                  },
                  "geometry": {
                    "type": "Polygon",
                    "coordinates": [
                      [
                        [
                          -48.0294028,
                          -15.8441728
                        ],
                        [
                          -48.029352,
                          -15.8442832
                        ],
                        [
                          -48.0290678,
                          -15.8441655
                        ],
                        [
                          -48.0291224,
                          -15.8440533
                        ],
                        [
                          -48.0294028,
                          -15.8441728
                        ]
                      ]
                    ]
                  },
                  "bbox": [
                    -48.0294028,
                    -15.8442832,
                    -48.0290678,
                    -15.8440533
                  ]
                },
                {
                  "id": "('way', 298457378)",
                  "type": "Feature",
                  "properties": {
                    "nodes": [
                      3023615817,
                      3023615830,
                      3023615827,
                      3023615816,
                      3023615817
                    ],
                    "addr:city": null,
                    "addr:housenumber": null,
                    "addr:street": null,
                    "building": "apartments",
                    "building:levels": null,
                    "name": null,
                    "building:min_level": null,
                    "layer": null,
                    "landuse": null,
                    "postal_code": null,
                    "addr:postcode": null,
                    "addr:suburb": null,
                    "source": null,
                    "description": null,
                    "building:flats": null,
                    "roof:colour": null,
                    "ways": null,
                    "type": null,
                    "style": {
                      "color": "black",
                      "fillColor": "black"
                    }
                  },
                  "geometry": {
                    "type": "Polygon",
                    "coordinates": [
                      [
                        [
                          -48.0288165,
                          -15.8437568
                        ],
                        [
                          -48.0288234,
                          -15.8441018
                        ],
                        [
                          -48.0286917,
                          -15.8441043
                        ],
                        [
                          -48.0286848,
                          -15.8437593
                        ],
                        [
                          -48.0288165,
                          -15.8437568
                        ]
                      ]
                    ]
                  },
                  "bbox": [
                    -48.0288234,
                    -15.8441043,
                    -48.0286848,
                    -15.8437568
                  ]
                },
                {
                  "id": "('way', 298457379)",
                  "type": "Feature",
                  "properties": {
                    "nodes": [
                      3023617149,
                      3023617161,
                      3023617154,
                      3023617145,
                      3023617149
                    ],
                    "addr:city": null,
                    "addr:housenumber": null,
                    "addr:street": null,
                    "building": "apartments",
                    "building:levels": null,
                    "name": null,
                    "building:min_level": null,
                    "layer": null,
                    "landuse": null,
                    "postal_code": null,
                    "addr:postcode": null,
                    "addr:suburb": null,
                    "source": null,
                    "description": null,
                    "building:flats": null,
                    "roof:colour": null,
                    "ways": null,
                    "type": null,
                    "style": {
                      "color": "black",
                      "fillColor": "black"
                    }
                  },
                  "geometry": {
                    "type": "Polygon",
                    "coordinates": [
                      [
                        [
                          -48.0253009,
                          -15.8444992
                        ],
                        [
                          -48.0252369,
                          -15.8446748
                        ],
                        [
                          -48.0250223,
                          -15.8446024
                        ],
                        [
                          -48.0251013,
                          -15.844434
                        ],
                        [
                          -48.0253009,
                          -15.8444992
                        ]
                      ]
                    ]
                  },
                  "bbox": [
                    -48.0253009,
                    -15.8446748,
                    -48.0250223,
                    -15.844434
                  ]
                },
                {
                  "id": "('way', 298457381)",
                  "type": "Feature",
                  "properties": {
                    "nodes": [
                      3023615818,
                      4213150269,
                      3023615821,
                      3023615819,
                      4213150270,
                      3023615824,
                      3023615823,
                      3023615815,
                      3023615818
                    ],
                    "addr:city": null,
                    "addr:housenumber": null,
                    "addr:street": null,
                    "building": "apartments",
                    "building:levels": null,
                    "name": null,
                    "building:min_level": null,
                    "layer": null,
                    "landuse": null,
                    "postal_code": null,
                    "addr:postcode": null,
                    "addr:suburb": null,
                    "source": null,
                    "description": null,
                    "building:flats": null,
                    "roof:colour": null,
                    "ways": null,
                    "type": null,
                    "style": {
                      "color": "black",
                      "fillColor": "black"
                    }
                  },
                  "geometry": {
                    "type": "Polygon",
                    "coordinates": [
                      [
                        [
                          -48.0298378,
                          -15.8437582
                        ],
                        [
                          -48.0298432,
                          -15.8438331
                        ],
                        [
                          -48.0298298,
                          -15.8439157
                        ],
                        [
                          -48.0295773,
                          -15.8438662
                        ],
                        [
                          -48.0292316,
                          -15.8438756
                        ],
                        [
                          -48.029232,
                          -15.8440139
                        ],
                        [
                          -48.0290763,
                          -15.8440199
                        ],
                        [
                          -48.0290742,
                          -15.8437906
                        ],
                        [
                          -48.0298378,
                          -15.8437582
                        ]
                      ]
                    ]
                  },
                  "bbox": [
                    -48.0298432,
                    -15.8440199,
                    -48.0290742,
                    -15.8437582
                  ]
                },
                {
                  "id": "('way', 298457382)",
                  "type": "Feature",
                  "properties": {
                    "nodes": [
                      3023617191,
                      3023617196,
                      3023617199,
                      3023617195,
                      3023617197,
                      3023617192,
                      3023617189,
                      3023617191
                    ],
                    "addr:city": null,
                    "addr:housenumber": "5",
                    "addr:street": "Quadra 208",
                    "building": "apartments",
                    "building:levels": null,
                    "name": "Residencial Costa Verde",
                    "building:min_level": null,
                    "layer": null,
                    "landuse": null,
                    "postal_code": null,
                    "addr:postcode": null,
                    "addr:suburb": null,
                    "source": null,
                    "description": null,
                    "building:flats": null,
                    "roof:colour": null,
                    "ways": null,
                    "type": null,
                    "style": {
                      "color": "black",
                      "fillColor": "black"
                    }
                  },
                  "geometry": {
                    "type": "Polygon",
                    "coordinates": [
                      [
                        [
                          -48.0273305,
                          -15.8454783
                        ],
                        [
                          -48.0272815,
                          -15.8456123
                        ],
                        [
                          -48.027402,
                          -15.8456576
                        ],
                        [
                          -48.0274359,
                          -15.8455833
                        ],
                        [
                          -48.0276034,
                          -15.8456449
                        ],
                        [
                          -48.0276504,
                          -15.8455381
                        ],
                        [
                          -48.0274246,
                          -15.8454548
                        ],
                        [
                          -48.0273305,
                          -15.8454783
                        ]
                      ]
                    ]
                  },
                  "bbox": [
                    -48.0276504,
                    -15.8456576,
                    -48.0272815,
                    -15.8454548
                  ]
                },
                {
                  "id": "('way', 303708770)",
                  "type": "Feature",
                  "properties": {
                    "nodes": [
                      3081143515,
                      3081143516,
                      3081143517,
                      3020821693,
                      3081143515
                    ],
                    "addr:city": "Brasilia",
                    "addr:housenumber": "5",
                    "addr:street": "Rua das Paineiras",
                    "building": "apartments",
                    "building:levels": "12",
                    "name": "Residencial Paineiras'",
                    "building:min_level": null,
                    "layer": null,
                    "landuse": null,
                    "postal_code": null,
                    "addr:postcode": "71918000",
                    "addr:suburb": "Águas Claras",
                    "source": null,
                    "description": null,
                    "building:flats": null,
                    "roof:colour": null,
                    "ways": null,
                    "type": null,
                    "style": {
                      "color": "black",
                      "fillColor": "black"
                    }
                  },
                  "geometry": {
                    "type": "Polygon",
                    "coordinates": [
                      [
                        [
                          -48.0344304,
                          -15.8397063
                        ],
                        [
                          -48.0340769,
                          -15.8393019
                        ],
                        [
                          -48.034287,
                          -15.8391146
                        ],
                        [
                          -48.0346748,
                          -15.83952
                        ],
                        [
                          -48.0344304,
                          -15.8397063
                        ]
                      ]
                    ]
                  },
                  "bbox": [
                    -48.0346748,
                    -15.8397063,
                    -48.0340769,
                    -15.8391146
                  ]
                },
                {
                  "id": "('way', 310096418)",
                  "type": "Feature",
                  "properties": {
                    "nodes": [
                      3154502952,
                      3154502953,
                      3154502954,
                      3154502955,
                      3154502952
                    ],
                    "addr:city": null,
                    "addr:housenumber": "2675",
                    "addr:street": "Avenida Parque Águas Claras",
                    "building": "apartments",
                    "building:levels": null,
                    "name": "Morada do Parque",
                    "building:min_level": null,
                    "layer": null,
                    "landuse": null,
                    "postal_code": null,
                    "addr:postcode": null,
                    "addr:suburb": null,
                    "source": null,
                    "description": null,
                    "building:flats": null,
                    "roof:colour": null,
                    "ways": null,
                    "type": null,
                    "style": {
                      "color": "black",
                      "fillColor": "black"
                    }
                  },
                  "geometry": {
                    "type": "Polygon",
                    "coordinates": [
                      [
                        [
                          -48.031758,
                          -15.8346336
                        ],
                        [
                          -48.0317607,
                          -15.8350232
                        ],
                        [
                          -48.0312725,
                          -15.8350361
                        ],
                        [
                          -48.0312833,
                          -15.8346413
                        ],
                        [
                          -48.031758,
                          -15.8346336
                        ]
                      ]
                    ]
                  },
                  "bbox": [
                    -48.0317607,
                    -15.8350361,
                    -48.0312725,
                    -15.8346336
                  ]
                },
                {
                  "id": "('way', 329057948)",
                  "type": "Feature",
                  "properties": {
                    "nodes": [
                      3358837976,
                      6814264231,
                      6814264221,
                      6814264220,
                      6814264219,
                      6814264218,
                      6814264217,
                      6814264216,
                      3358837977,
                      3358837978,
                      6814264227,
                      6814264226,
                      6814264225,
                      6814264224,
                      6814264223,
                      6814264222,
                      3358837979,
                      3358837976
                    ],
                    "addr:city": "Águas Claras",
                    "addr:housenumber": "8",
                    "addr:street": "Rua 22 Sul",
                    "building": "apartments",
                    "building:levels": "18",
                    "name": "Residencial Machado de Assis",
                    "building:min_level": null,
                    "layer": null,
                    "landuse": null,
                    "postal_code": null,
                    "addr:postcode": "71925-720",
                    "addr:suburb": "Sul",
                    "source": null,
                    "description": null,
                    "building:flats": null,
                    "roof:colour": null,
                    "ways": null,
                    "type": null,
                    "style": {
                      "color": "black",
                      "fillColor": "black"
                    }
                  },
                  "geometry": {
                    "type": "Polygon",
                    "coordinates": [
                      [
                        [
                          -48.0265678,
                          -15.8405319
                        ],
                        [
                          -48.0265622,
                          -15.8406229
                        ],
                        [
                          -48.0265692,
                          -15.8406381
                        ],
                        [
                          -48.0266062,
                          -15.8407713
                        ],
                        [
                          -48.0265587,
                          -15.840772
                        ],
                        [
                          -48.0265592,
                          -15.8408014
                        ],
                        [
                          -48.0266071,
                          -15.8408007
                        ],
                        [
                          -48.0265669,
                          -15.8409332
                        ],
                        [
                          -48.0265671,
                          -15.8409897
                        ],
                        [
                          -48.0263543,
                          -15.8409907
                        ],
                        [
                          -48.026354,
                          -15.8409295
                        ],
                        [
                          -48.026308,
                          -15.8408025
                        ],
                        [
                          -48.02636,
                          -15.8408031
                        ],
                        [
                          -48.0263604,
                          -15.8407711
                        ],
                        [
                          -48.0263126,
                          -15.8407705
                        ],
                        [
                          -48.02636,
                          -15.8406397
                        ],
                        [
                          -48.0263586,
                          -15.8405345
                        ],
                        [
                          -48.0265678,
                          -15.8405319
                        ]
                      ]
                    ]
                  },
                  "bbox": [
                    -48.0266071,
                    -15.8409907,
                    -48.026308,
                    -15.8405319
                  ]
                },
                {
                  "id": "('way', 379238222)",
                  "type": "Feature",
                  "properties": {
                    "nodes": [
                      3825691811,
                      3825691812,
                      4188196990,
                      4188196989,
                      3825691811
                    ],
                    "addr:city": "Brasília",
                    "addr:housenumber": "14",
                    "addr:street": "Rua 25 Norte",
                    "building": "apartments",
                    "building:levels": "25",
                    "name": "My Lifestyle",
                    "building:min_level": null,
                    "layer": null,
                    "landuse": null,
                    "postal_code": null,
                    "addr:postcode": "71917-180",
                    "addr:suburb": "Águas Claras",
                    "source": null,
                    "description": null,
                    "building:flats": null,
                    "roof:colour": null,
                    "ways": null,
                    "type": null,
                    "style": {
                      "color": "black",
                      "fillColor": "black"
                    }
                  },
                  "geometry": {
                    "type": "Polygon",
                    "coordinates": [
                      [
                        [
                          -48.0297973,
                          -15.8393405
                        ],
                        [
                          -48.0294102,
                          -15.8393383
                        ],
                        [
                          -48.0294078,
                          -15.839743
                        ],
                        [
                          -48.0297949,
                          -15.8397451
                        ],
                        [
                          -48.0297973,
                          -15.8393405
                        ]
                      ]
                    ]
                  },
                  "bbox": [
                    -48.0297973,
                    -15.8397451,
                    -48.0294078,
                    -15.8393383
                  ]
                },
                {
                  "id": "('way', 400673367)",
                  "type": "Feature",
                  "properties": {
                    "nodes": [
                      4032081377,
                      4032081378,
                      4032081379,
                      4032081380,
                      4032081381,
                      4032081377
                    ],
                    "addr:city": null,
                    "addr:housenumber": null,
                    "addr:street": null,
                    "building": "apartments",
                    "building:levels": null,
                    "name": "Residencial de Espanha",
                    "building:min_level": null,
                    "layer": null,
                    "landuse": null,
                    "postal_code": null,
                    "addr:postcode": null,
                    "addr:suburb": null,
                    "source": null,
                    "description": null,
                    "building:flats": null,
                    "roof:colour": null,
                    "ways": null,
                    "type": null,
                    "style": {
                      "color": "black",
                      "fillColor": "black"
                    }
                  },
                  "geometry": {
                    "type": "Polygon",
                    "coordinates": [
                      [
                        [
                          -48.0306855,
                          -15.8425903
                        ],
                        [
                          -48.0306943,
                          -15.8429637
                        ],
                        [
                          -48.0301071,
                          -15.8429765
                        ],
                        [
                          -48.0300983,
                          -15.8426032
                        ],
                        [
                          -48.0303605,
                          -15.8425967
                        ],
                        [
                          -48.0306855,
                          -15.8425903
                        ]
                      ]
                    ]
                  },
                  "bbox": [
                    -48.0306943,
                    -15.8429765,
                    -48.0300983,
                    -15.8425903
                  ]
                },
                {
                  "id": "('way', 404903066)",
                  "type": "Feature",
                  "properties": {
                    "nodes": [
                      4071566430,
                      4071566431,
                      4071566432,
                      4071566433,
                      4071566430
                    ],
                    "addr:city": null,
                    "addr:housenumber": "8",
                    "addr:street": "Avenida Jacarandá",
                    "building": "apartments",
                    "building:levels": null,
                    "name": "Residencial Alto da Boa Vista",
                    "building:min_level": null,
                    "layer": null,
                    "landuse": null,
                    "postal_code": null,
                    "addr:postcode": null,
                    "addr:suburb": null,
                    "source": null,
                    "description": null,
                    "building:flats": null,
                    "roof:colour": null,
                    "ways": null,
                    "type": null,
                    "style": {
                      "color": "black",
                      "fillColor": "black"
                    }
                  },
                  "geometry": {
                    "type": "Polygon",
                    "coordinates": [
                      [
                        [
                          -48.0306292,
                          -15.84168
                        ],
                        [
                          -48.0306323,
                          -15.8419184
                        ],
                        [
                          -48.0304395,
                          -15.8419206
                        ],
                        [
                          -48.0304365,
                          -15.8416822
                        ],
                        [
                          -48.0306292,
                          -15.84168
                        ]
                      ]
                    ]
                  },
                  "bbox": [
                    -48.0306323,
                    -15.8419206,
                    -48.0304365,
                    -15.84168
                  ]
                },
                {
                  "id": "('way', 434734603)",
                  "type": "Feature",
                  "properties": {
                    "nodes": [
                      4326756020,
                      4326756021,
                      4326756022,
                      4326756023,
                      4326756020
                    ],
                    "addr:city": null,
                    "addr:housenumber": "1",
                    "addr:street": "Quadra 105",
                    "building": "apartments",
                    "building:levels": "5",
                    "name": null,
                    "building:min_level": null,
                    "layer": null,
                    "landuse": null,
                    "postal_code": null,
                    "addr:postcode": null,
                    "addr:suburb": null,
                    "source": null,
                    "description": null,
                    "building:flats": null,
                    "roof:colour": null,
                    "ways": null,
                    "type": null,
                    "style": {
                      "color": "black",
                      "fillColor": "black"
                    }
                  },
                  "geometry": {
                    "type": "Polygon",
                    "coordinates": [
                      [
                        [
                          -48.0299922,
                          -15.8350855
                        ],
                        [
                          -48.0297961,
                          -15.835091
                        ],
                        [
                          -48.0298145,
                          -15.835697
                        ],
                        [
                          -48.0300106,
                          -15.8356915
                        ],
                        [
                          -48.0299922,
                          -15.8350855
                        ]
                      ]
                    ]
                  },
                  "bbox": [
                    -48.0300106,
                    -15.835697,
                    -48.0297961,
                    -15.8350855
                  ]
                },
                {
                  "id": "('way', 435401205)",
                  "type": "Feature",
                  "properties": {
                    "nodes": [
                      4333133496,
                      4333133500,
                      4333133499,
                      4333133505,
                      4333133506,
                      4333133510,
                      4333133507,
                      4333133502,
                      4333133504,
                      4333133501,
                      4333133503,
                      4333133498,
                      4333133497,
                      4333133495,
                      4333133496
                    ],
                    "addr:city": null,
                    "addr:housenumber": null,
                    "addr:street": null,
                    "building": "apartments",
                    "building:levels": null,
                    "name": null,
                    "building:min_level": null,
                    "layer": null,
                    "landuse": null,
                    "postal_code": null,
                    "addr:postcode": null,
                    "addr:suburb": null,
                    "source": null,
                    "description": null,
                    "building:flats": null,
                    "roof:colour": null,
                    "ways": null,
                    "type": null,
                    "style": {
                      "color": "black",
                      "fillColor": "black"
                    }
                  },
                  "geometry": {
                    "type": "Polygon",
                    "coordinates": [
                      [
                        [
                          -48.0190055,
                          -15.8399902
                        ],
                        [
                          -48.0189751,
                          -15.8400638
                        ],
                        [
                          -48.0189452,
                          -15.8400524
                        ],
                        [
                          -48.0189216,
                          -15.8401095
                        ],
                        [
                          -48.0189445,
                          -15.8401183
                        ],
                        [
                          -48.0189174,
                          -15.8401838
                        ],
                        [
                          -48.0187671,
                          -15.8401263
                        ],
                        [
                          -48.0187886,
                          -15.8400743
                        ],
                        [
                          -48.0188191,
                          -15.8400859
                        ],
                        [
                          -48.018827,
                          -15.8400668
                        ],
                        [
                          -48.0188554,
                          -15.8400777
                        ],
                        [
                          -48.0188793,
                          -15.8400199
                        ],
                        [
                          -48.0188197,
                          -15.8399971
                        ],
                        [
                          -48.0188476,
                          -15.8399297
                        ],
                        [
                          -48.0190055,
                          -15.8399902
                        ]
                      ]
                    ]
                  },
                  "bbox": [
                    -48.0190055,
                    -15.8401838,
                    -48.0187671,
                    -15.8399297
                  ]
                },
                {
                  "id": "('way', 435401209)",
                  "type": "Feature",
                  "properties": {
                    "nodes": [
                      4333133523,
                      4333133533,
                      4333133530,
                      4333133551,
                      4333133561,
                      4333133572,
                      4333133563,
                      4333133532,
                      4333133538,
                      4333133529,
                      4333133525,
                      4333133518,
                      4333133523
                    ],
                    "addr:city": null,
                    "addr:housenumber": null,
                    "addr:street": null,
                    "building": "apartments",
                    "building:levels": null,
                    "name": null,
                    "building:min_level": null,
                    "layer": null,
                    "landuse": null,
                    "postal_code": null,
                    "addr:postcode": null,
                    "addr:suburb": null,
                    "source": null,
                    "description": null,
                    "building:flats": null,
                    "roof:colour": null,
                    "ways": null,
                    "type": null,
                    "style": {
                      "color": "black",
                      "fillColor": "black"
                    }
                  },
                  "geometry": {
                    "type": "Polygon",
                    "coordinates": [
                      [
                        [
                          -48.0188796,
                          -15.8403566
                        ],
                        [
                          -48.018846,
                          -15.8404318
                        ],
                        [
                          -48.0188014,
                          -15.8404133
                        ],
                        [
                          -48.0187725,
                          -15.8404781
                        ],
                        [
                          -48.0188183,
                          -15.8404971
                        ],
                        [
                          -48.0187799,
                          -15.8405828
                        ],
                        [
                          -48.0185922,
                          -15.8405051
                        ],
                        [
                          -48.0186257,
                          -15.8404304
                        ],
                        [
                          -48.0186914,
                          -15.8404576
                        ],
                        [
                          -48.0187228,
                          -15.8403876
                        ],
                        [
                          -48.0186722,
                          -15.8403666
                        ],
                        [
                          -48.0187084,
                          -15.8402857
                        ],
                        [
                          -48.0188796,
                          -15.8403566
                        ]
                      ]
                    ]
                  },
                  "bbox": [
                    -48.0188796,
                    -15.8405828,
                    -48.0185922,
                    -15.8402857
                  ]
                },
                {
                  "id": "('way', 435401210)",
                  "type": "Feature",
                  "properties": {
                    "nodes": [
                      4333133610,
                      4333133617,
                      4333133613,
                      4333133619,
                      4333133624,
                      4333133630,
                      4333133623,
                      4333133612,
                      4333133615,
                      4333133611,
                      4333133609,
                      4333133605,
                      4333133610
                    ],
                    "addr:city": null,
                    "addr:housenumber": null,
                    "addr:street": null,
                    "building": "apartments",
                    "building:levels": null,
                    "name": null,
                    "building:min_level": null,
                    "layer": null,
                    "landuse": null,
                    "postal_code": null,
                    "addr:postcode": null,
                    "addr:suburb": null,
                    "source": null,
                    "description": null,
                    "building:flats": null,
                    "roof:colour": null,
                    "ways": null,
                    "type": null,
                    "style": {
                      "color": "black",
                      "fillColor": "black"
                    }
                  },
                  "geometry": {
                    "type": "Polygon",
                    "coordinates": [
                      [
                        [
                          -48.0193345,
                          -15.841721
                        ],
                        [
                          -48.0193009,
                          -15.8417999
                        ],
                        [
                          -48.0191998,
                          -15.8417601
                        ],
                        [
                          -48.0191718,
                          -15.841826
                        ],
                        [
                          -48.0192664,
                          -15.8418632
                        ],
                        [
                          -48.0192261,
                          -15.8419578
                        ],
                        [
                          -48.0189389,
                          -15.8418447
                        ],
                        [
                          -48.01898,
                          -15.841748
                        ],
                        [
                          -48.0190813,
                          -15.8417879
                        ],
                        [
                          -48.0191064,
                          -15.8417291
                        ],
                        [
                          -48.0190054,
                          -15.8416893
                        ],
                        [
                          -48.0190411,
                          -15.8416054
                        ],
                        [
                          -48.0193345,
                          -15.841721
                        ]
                      ]
                    ]
                  },
                  "bbox": [
                    -48.0193345,
                    -15.8419578,
                    -48.0189389,
                    -15.8416054
                  ]
                },
                {
                  "id": "('way', 435401211)",
                  "type": "Feature",
                  "properties": {
                    "nodes": [
                      4333133573,
                      4333133580,
                      4333133577,
                      4333133584,
                      4333133586,
                      4333133591,
                      4333133588,
                      4333133579,
                      4333133582,
                      4333133576,
                      4333133574,
                      4333133568,
                      4333133573
                    ],
                    "addr:city": null,
                    "addr:housenumber": null,
                    "addr:street": null,
                    "building": "apartments",
                    "building:levels": null,
                    "name": null,
                    "building:min_level": null,
                    "layer": null,
                    "landuse": null,
                    "postal_code": null,
                    "addr:postcode": null,
                    "addr:suburb": null,
                    "source": null,
                    "description": null,
                    "building:flats": null,
                    "roof:colour": null,
                    "ways": null,
                    "type": null,
                    "style": {
                      "color": "black",
                      "fillColor": "black"
                    }
                  },
                  "geometry": {
                    "type": "Polygon",
                    "coordinates": [
                      [
                        [
                          -48.0193597,
                          -15.8406086
                        ],
                        [
                          -48.0193247,
                          -15.840686
                        ],
                        [
                          -48.0192857,
                          -15.8406697
                        ],
                        [
                          -48.0192572,
                          -15.8407329
                        ],
                        [
                          -48.0192932,
                          -15.8407479
                        ],
                        [
                          -48.0192598,
                          -15.8408221
                        ],
                        [
                          -48.0190946,
                          -15.8407531
                        ],
                        [
                          -48.0191287,
                          -15.8406776
                        ],
                        [
                          -48.0191885,
                          -15.8407026
                        ],
                        [
                          -48.0192148,
                          -15.8406443
                        ],
                        [
                          -48.0191553,
                          -15.8406194
                        ],
                        [
                          -48.0191919,
                          -15.8405385
                        ],
                        [
                          -48.0193597,
                          -15.8406086
                        ]
                      ]
                    ]
                  },
                  "bbox": [
                    -48.0193597,
                    -15.8408221,
                    -48.0190946,
                    -15.8405385
                  ]
                },
                {
                  "id": "('way', 435401212)",
                  "type": "Feature",
                  "properties": {
                    "nodes": [
                      4333133534,
                      4333133566,
                      4333133562,
                      4333133569,
                      4333133570,
                      4333133575,
                      4333133571,
                      4333133564,
                      4333133567,
                      4333133542,
                      4333133537,
                      4333133527,
                      4333133534
                    ],
                    "addr:city": null,
                    "addr:housenumber": null,
                    "addr:street": null,
                    "building": "apartments",
                    "building:levels": null,
                    "name": null,
                    "building:min_level": null,
                    "layer": null,
                    "landuse": null,
                    "postal_code": null,
                    "addr:postcode": null,
                    "addr:suburb": null,
                    "source": null,
                    "description": null,
                    "building:flats": null,
                    "roof:colour": null,
                    "ways": null,
                    "type": null,
                    "style": {
                      "color": "black",
                      "fillColor": "black"
                    }
                  },
                  "geometry": {
                    "type": "Polygon",
                    "coordinates": [
                      [
                        [
                          -48.0200226,
                          -15.8404406
                        ],
                        [
                          -48.019991,
                          -15.8405171
                        ],
                        [
                          -48.0199393,
                          -15.8404974
                        ],
                        [
                          -48.0199173,
                          -15.8405507
                        ],
                        [
                          -48.0199608,
                          -15.8405673
                        ],
                        [
                          -48.0199301,
                          -15.8406418
                        ],
                        [
                          -48.0197697,
                          -15.8405806
                        ],
                        [
                          -48.0197986,
                          -15.8405105
                        ],
                        [
                          -48.0198307,
                          -15.8405228
                        ],
                        [
                          -48.0198549,
                          -15.840464
                        ],
                        [
                          -48.0198309,
                          -15.8404548
                        ],
                        [
                          -48.019862,
                          -15.8403793
                        ],
                        [
                          -48.0200226,
                          -15.8404406
                        ]
                      ]
                    ]
                  },
                  "bbox": [
                    -48.0200226,
                    -15.8406418,
                    -48.0197697,
                    -15.8403793
                  ]
                },
                {
                  "id": "('way', 435401213)",
                  "type": "Feature",
                  "properties": {
                    "nodes": [
                      4333133514,
                      4333133520,
                      4333133519,
                      4333133524,
                      4333133526,
                      4333133535,
                      4333133528,
                      4333133521,
                      4333133522,
                      4333133517,
                      4333133516,
                      4333133509,
                      4333133514
                    ],
                    "addr:city": null,
                    "addr:housenumber": null,
                    "addr:street": null,
                    "building": "apartments",
                    "building:levels": null,
                    "name": null,
                    "building:min_level": null,
                    "layer": null,
                    "landuse": null,
                    "postal_code": null,
                    "addr:postcode": null,
                    "addr:suburb": null,
                    "source": null,
                    "description": null,
                    "building:flats": null,
                    "roof:colour": null,
                    "ways": null,
                    "type": null,
                    "style": {
                      "color": "black",
                      "fillColor": "black"
                    }
                  },
                  "geometry": {
                    "type": "Polygon",
                    "coordinates": [
                      [
                        [
                          -48.0194571,
                          -15.8402342
                        ],
                        [
                          -48.0194273,
                          -15.8403039
                        ],
                        [
                          -48.0193962,
                          -15.8402916
                        ],
                        [
                          -48.0193673,
                          -15.8403592
                        ],
                        [
                          -48.0193946,
                          -15.8403699
                        ],
                        [
                          -48.0193618,
                          -15.8404465
                        ],
                        [
                          -48.0192028,
                          -15.8403836
                        ],
                        [
                          -48.0192358,
                          -15.8403064
                        ],
                        [
                          -48.0192843,
                          -15.8403256
                        ],
                        [
                          -48.019312,
                          -15.840261
                        ],
                        [
                          -48.0192646,
                          -15.8402423
                        ],
                        [
                          -48.0192954,
                          -15.8401703
                        ],
                        [
                          -48.0194571,
                          -15.8402342
                        ]
                      ]
                    ]
                  },
                  "bbox": [
                    -48.0194571,
                    -15.8404465,
                    -48.0192028,
                    -15.8401703
                  ]
                },
                {
                  "id": "('way', 435401214)",
                  "type": "Feature",
                  "properties": {
                    "nodes": [
                      4333133589,
                      4333133596,
                      4333133595,
                      4333133592,
                      4333133590,
                      4333133594,
                      4333133593,
                      4333133578,
                      4333133581,
                      4333133583,
                      4333133587,
                      4333133585,
                      4333133589
                    ],
                    "addr:city": null,
                    "addr:housenumber": null,
                    "addr:street": null,
                    "building": "apartments",
                    "building:levels": null,
                    "name": null,
                    "building:min_level": null,
                    "layer": null,
                    "landuse": null,
                    "postal_code": null,
                    "addr:postcode": null,
                    "addr:suburb": null,
                    "source": null,
                    "description": null,
                    "building:flats": null,
                    "roof:colour": null,
                    "ways": null,
                    "type": null,
                    "style": {
                      "color": "black",
                      "fillColor": "black"
                    }
                  },
                  "geometry": {
                    "type": "Polygon",
                    "coordinates": [
                      [
                        [
                          -48.0197591,
                          -15.8407632
                        ],
                        [
                          -48.0196875,
                          -15.8409232
                        ],
                        [
                          -48.0196058,
                          -15.8408893
                        ],
                        [
                          -48.0196356,
                          -15.8408227
                        ],
                        [
                          -48.0195907,
                          -15.8408041
                        ],
                        [
                          -48.0195653,
                          -15.8408608
                        ],
                        [
                          -48.0194869,
                          -15.8408283
                        ],
                        [
                          -48.0195555,
                          -15.8406751
                        ],
                        [
                          -48.0196175,
                          -15.8407008
                        ],
                        [
                          -48.0196084,
                          -15.8407211
                        ],
                        [
                          -48.0196818,
                          -15.8407515
                        ],
                        [
                          -48.0196895,
                          -15.8407343
                        ],
                        [
                          -48.0197591,
                          -15.8407632
                        ]
                      ]
                    ]
                  },
                  "bbox": [
                    -48.0197591,
                    -15.8409232,
                    -48.0194869,
                    -15.8406751
                  ]
                },
                {
                  "id": "('way', 435401216)",
                  "type": "Feature",
                  "properties": {
                    "nodes": [
                      4333133597,
                      4333133603,
                      4333133606,
                      4333133614,
                      4333133616,
                      4333133608,
                      4333133607,
                      4333133604,
                      4333133599,
                      4333133602,
                      4333133601,
                      4333133598,
                      4333133600,
                      4333133597
                    ],
                    "addr:city": null,
                    "addr:housenumber": null,
                    "addr:street": null,
                    "building": "apartments",
                    "building:levels": "10",
                    "name": null,
                    "building:min_level": null,
                    "layer": null,
                    "landuse": null,
                    "postal_code": null,
                    "addr:postcode": null,
                    "addr:suburb": null,
                    "source": null,
                    "description": null,
                    "building:flats": null,
                    "roof:colour": null,
                    "ways": null,
                    "type": null,
                    "style": {
                      "color": "black",
                      "fillColor": "black"
                    }
                  },
                  "geometry": {
                    "type": "Polygon",
                    "coordinates": [
                      [
                        [
                          -48.0188413,
                          -15.8414649
                        ],
                        [
                          -48.0188708,
                          -15.8415681
                        ],
                        [
                          -48.0187447,
                          -15.8416055
                        ],
                        [
                          -48.0187877,
                          -15.8417526
                        ],
                        [
                          -48.018675,
                          -15.8417835
                        ],
                        [
                          -48.0186267,
                          -15.8416455
                        ],
                        [
                          -48.0186777,
                          -15.8416274
                        ],
                        [
                          -48.0185141,
                          -15.8415694
                        ],
                        [
                          -48.018553,
                          -15.8414868
                        ],
                        [
                          -48.0186965,
                          -15.8415319
                        ],
                        [
                          -48.018679,
                          -15.8414997
                        ],
                        [
                          -48.0187541,
                          -15.841479
                        ],
                        [
                          -48.0187863,
                          -15.8414881
                        ],
                        [
                          -48.0188413,
                          -15.8414649
                        ]
                      ]
                    ]
                  },
                  "bbox": [
                    -48.0188708,
                    -15.8417835,
                    -48.0185141,
                    -15.8414649
                  ]
                },
                {
                  "id": "('way', 435401217)",
                  "type": "Feature",
                  "properties": {
                    "nodes": [
                      4333133660,
                      4333133663,
                      4333133665,
                      4333133669,
                      4333133671,
                      4333133673,
                      4333133672,
                      4333133668,
                      4333133666,
                      4333133670,
                      4333133667,
                      4333133664,
                      4333133662,
                      4333133657,
                      4333133656,
                      4333133654,
                      4333133655,
                      4333133659,
                      4333133661,
                      4333133658,
                      4333133660
                    ],
                    "addr:city": null,
                    "addr:housenumber": null,
                    "addr:street": null,
                    "building": "apartments",
                    "building:levels": null,
                    "name": null,
                    "building:min_level": null,
                    "layer": null,
                    "landuse": null,
                    "postal_code": null,
                    "addr:postcode": null,
                    "addr:suburb": null,
                    "source": null,
                    "description": null,
                    "building:flats": null,
                    "roof:colour": null,
                    "ways": null,
                    "type": null,
                    "style": {
                      "color": "black",
                      "fillColor": "black"
                    }
                  },
                  "geometry": {
                    "type": "Polygon",
                    "coordinates": [
                      [
                        [
                          -48.0197422,
                          -15.8423072
                        ],
                        [
                          -48.0197235,
                          -15.8423478
                        ],
                        [
                          -48.0197295,
                          -15.8423962
                        ],
                        [
                          -48.0197127,
                          -15.8424343
                        ],
                        [
                          -48.0196812,
                          -15.8424536
                        ],
                        [
                          -48.0196624,
                          -15.8425007
                        ],
                        [
                          -48.0195686,
                          -15.8424652
                        ],
                        [
                          -48.0195893,
                          -15.8424201
                        ],
                        [
                          -48.0195337,
                          -15.8424033
                        ],
                        [
                          -48.0195156,
                          -15.8424382
                        ],
                        [
                          -48.0194418,
                          -15.8424078
                        ],
                        [
                          -48.0194599,
                          -15.8423607
                        ],
                        [
                          -48.0194519,
                          -15.8423272
                        ],
                        [
                          -48.01947,
                          -15.8422743
                        ],
                        [
                          -48.0195042,
                          -15.8422569
                        ],
                        [
                          -48.0195223,
                          -15.8422182
                        ],
                        [
                          -48.0195927,
                          -15.8422479
                        ],
                        [
                          -48.0195733,
                          -15.8422962
                        ],
                        [
                          -48.0196416,
                          -15.8423195
                        ],
                        [
                          -48.0196644,
                          -15.8422775
                        ],
                        [
                          -48.0197422,
                          -15.8423072
                        ]
                      ]
                    ]
                  },
                  "bbox": [
                    -48.0197422,
                    -15.8425007,
                    -48.0194418,
                    -15.8422182
                  ]
                },
                {
                  "id": "('way', 435401218)",
                  "type": "Feature",
                  "properties": {
                    "nodes": [
                      4333133636,
                      4333133641,
                      4333133644,
                      4333133649,
                      4333133651,
                      4333133653,
                      4333133652,
                      4333133648,
                      4333133645,
                      4333133650,
                      4333133647,
                      4333133642,
                      4333133638,
                      4333133635,
                      4333133629,
                      4333133625,
                      4333133628,
                      4333133633,
                      4333133637,
                      4333133632,
                      4333133636
                    ],
                    "addr:city": null,
                    "addr:housenumber": null,
                    "addr:street": null,
                    "building": "apartments",
                    "building:levels": null,
                    "name": null,
                    "building:min_level": null,
                    "layer": null,
                    "landuse": null,
                    "postal_code": null,
                    "addr:postcode": null,
                    "addr:suburb": null,
                    "source": null,
                    "description": null,
                    "building:flats": null,
                    "roof:colour": null,
                    "ways": null,
                    "type": null,
                    "style": {
                      "color": "black",
                      "fillColor": "black"
                    }
                  },
                  "geometry": {
                    "type": "Polygon",
                    "coordinates": [
                      [
                        [
                          -48.0198944,
                          -15.84197
                        ],
                        [
                          -48.0198768,
                          -15.8420113
                        ],
                        [
                          -48.0198758,
                          -15.8420464
                        ],
                        [
                          -48.019856,
                          -15.8420956
                        ],
                        [
                          -48.0198302,
                          -15.8421206
                        ],
                        [
                          -48.0198115,
                          -15.8421643
                        ],
                        [
                          -48.0197178,
                          -15.8421273
                        ],
                        [
                          -48.0197413,
                          -15.8420723
                        ],
                        [
                          -48.0196812,
                          -15.8420486
                        ],
                        [
                          -48.0196599,
                          -15.8420985
                        ],
                        [
                          -48.0195831,
                          -15.8420654
                        ],
                        [
                          -48.019603,
                          -15.8420163
                        ],
                        [
                          -48.0196125,
                          -15.8419753
                        ],
                        [
                          -48.0196253,
                          -15.8419454
                        ],
                        [
                          -48.0196458,
                          -15.8419179
                        ],
                        [
                          -48.0196655,
                          -15.8418743
                        ],
                        [
                          -48.0197399,
                          -15.8419061
                        ],
                        [
                          -48.0197246,
                          -15.8419421
                        ],
                        [
                          -48.0198001,
                          -15.8419719
                        ],
                        [
                          -48.0198143,
                          -15.8419384
                        ],
                        [
                          -48.0198944,
                          -15.84197
                        ]
                      ]
                    ]
                  },
                  "bbox": [
                    -48.0198944,
                    -15.8421643,
                    -48.0195831,
                    -15.8418743
                  ]
                },
                {
                  "id": "('way', 436427734)",
                  "type": "Feature",
                  "properties": {
                    "nodes": [
                      4343180735,
                      4343180759,
                      4343180755,
                      4343180732,
                      4343180735
                    ],
                    "addr:city": null,
                    "addr:housenumber": "3",
                    "addr:street": "Rua 12 Norte",
                    "building": "apartments",
                    "building:levels": null,
                    "name": null,
                    "building:min_level": null,
                    "layer": null,
                    "landuse": null,
                    "postal_code": null,
                    "addr:postcode": null,
                    "addr:suburb": null,
                    "source": null,
                    "description": null,
                    "building:flats": null,
                    "roof:colour": null,
                    "ways": null,
                    "type": null,
                    "style": {
                      "color": "black",
                      "fillColor": "black"
                    }
                  },
                  "geometry": {
                    "type": "Polygon",
                    "coordinates": [
                      [
                        [
                          -48.0190001,
                          -15.8366331
                        ],
                        [
                          -48.0188445,
                          -15.8369592
                        ],
                        [
                          -48.0187221,
                          -15.8369051
                        ],
                        [
                          -48.0188777,
                          -15.836579
                        ],
                        [
                          -48.0190001,
                          -15.8366331
                        ]
                      ]
                    ]
                  },
                  "bbox": [
                    -48.0190001,
                    -15.8369592,
                    -48.0187221,
                    -15.836579
                  ]
                },
                {
                  "id": "('way', 436427736)",
                  "type": "Feature",
                  "properties": {
                    "nodes": [
                      4343180765,
                      4343180775,
                      4343180771,
                      4343180761,
                      4343180765
                    ],
                    "addr:city": null,
                    "addr:housenumber": null,
                    "addr:street": null,
                    "building": "apartments",
                    "building:levels": null,
                    "name": null,
                    "building:min_level": null,
                    "layer": null,
                    "landuse": null,
                    "postal_code": null,
                    "addr:postcode": null,
                    "addr:suburb": null,
                    "source": null,
                    "description": null,
                    "building:flats": null,
                    "roof:colour": null,
                    "ways": null,
                    "type": null,
                    "style": {
                      "color": "black",
                      "fillColor": "black"
                    }
                  },
                  "geometry": {
                    "type": "Polygon",
                    "coordinates": [
                      [
                        [
                          -48.0200339,
                          -15.837051
                        ],
                        [
                          -48.0199274,
                          -15.8372701
                        ],
                        [
                          -48.0198135,
                          -15.8372189
                        ],
                        [
                          -48.0199201,
                          -15.8369998
                        ],
                        [
                          -48.0200339,
                          -15.837051
                        ]
                      ]
                    ]
                  },
                  "bbox": [
                    -48.0200339,
                    -15.8372701,
                    -48.0198135,
                    -15.8369998
                  ]
                },
                {
                  "id": "('way', 436427737)",
                  "type": "Feature",
                  "properties": {
                    "nodes": [
                      4343180779,
                      4343180788,
                      4343180787,
                      4343180778,
                      4343180779
                    ],
                    "addr:city": null,
                    "addr:housenumber": "4",
                    "addr:street": "Rua Buriti",
                    "building": "apartments",
                    "building:levels": null,
                    "name": null,
                    "building:min_level": null,
                    "layer": null,
                    "landuse": null,
                    "postal_code": null,
                    "addr:postcode": null,
                    "addr:suburb": null,
                    "source": null,
                    "description": null,
                    "building:flats": null,
                    "roof:colour": null,
                    "ways": null,
                    "type": null,
                    "style": {
                      "color": "black",
                      "fillColor": "black"
                    }
                  },
                  "geometry": {
                    "type": "Polygon",
                    "coordinates": [
                      [
                        [
                          -48.0207831,
                          -15.837339
                        ],
                        [
                          -48.0205952,
                          -15.8377498
                        ],
                        [
                          -48.0205115,
                          -15.8377143
                        ],
                        [
                          -48.0206994,
                          -15.8373035
                        ],
                        [
                          -48.0207831,
                          -15.837339
                        ]
                      ]
                    ]
                  },
                  "bbox": [
                    -48.0207831,
                    -15.8377498,
                    -48.0205115,
                    -15.8373035
                  ]
                },
                {
                  "id": "('way', 436427738)",
                  "type": "Feature",
                  "properties": {
                    "nodes": [
                      4343180757,
                      4343180767,
                      4343180766,
                      4343180753,
                      4343180757
                    ],
                    "addr:city": null,
                    "addr:housenumber": null,
                    "addr:street": null,
                    "building": "apartments",
                    "building:levels": null,
                    "name": null,
                    "building:min_level": null,
                    "layer": null,
                    "landuse": null,
                    "postal_code": null,
                    "addr:postcode": null,
                    "addr:suburb": null,
                    "source": null,
                    "description": null,
                    "building:flats": null,
                    "roof:colour": null,
                    "ways": null,
                    "type": null,
                    "style": {
                      "color": "black",
                      "fillColor": "black"
                    }
                  },
                  "geometry": {
                    "type": "Polygon",
                    "coordinates": [
                      [
                        [
                          -48.0196972,
                          -15.8369475
                        ],
                        [
                          -48.0196094,
                          -15.8371456
                        ],
                        [
                          -48.0194835,
                          -15.837094
                        ],
                        [
                          -48.0195713,
                          -15.8368958
                        ],
                        [
                          -48.0196972,
                          -15.8369475
                        ]
                      ]
                    ]
                  },
                  "bbox": [
                    -48.0196972,
                    -15.8371456,
                    -48.0194835,
                    -15.8368958
                  ]
                },
                {
                  "id": "('way', 436427739)",
                  "type": "Feature",
                  "properties": {
                    "nodes": [
                      4343180773,
                      4343180786,
                      4343180785,
                      4343180770,
                      4343180773
                    ],
                    "addr:city": null,
                    "addr:housenumber": "3",
                    "addr:street": "Rua 14 Norte",
                    "building": "apartments",
                    "building:levels": null,
                    "name": null,
                    "building:min_level": null,
                    "layer": null,
                    "landuse": null,
                    "postal_code": null,
                    "addr:postcode": null,
                    "addr:suburb": null,
                    "source": null,
                    "description": null,
                    "building:flats": null,
                    "roof:colour": null,
                    "ways": null,
                    "type": null,
                    "style": {
                      "color": "black",
                      "fillColor": "black"
                    }
                  },
                  "geometry": {
                    "type": "Polygon",
                    "coordinates": [
                      [
                        [
                          -48.0203597,
                          -15.8372406
                        ],
                        [
                          -48.0201746,
                          -15.8376472
                        ],
                        [
                          -48.0201011,
                          -15.8376162
                        ],
                        [
                          -48.0202861,
                          -15.8372096
                        ],
                        [
                          -48.0203597,
                          -15.8372406
                        ]
                      ]
                    ]
                  },
                  "bbox": [
                    -48.0203597,
                    -15.8376472,
                    -48.0201011,
                    -15.8372096
                  ]
                },
                {
                  "id": "('way', 436427740)",
                  "type": "Feature",
                  "properties": {
                    "nodes": [
                      4343180751,
                      4343180779,
                      4343180778,
                      4343180748,
                      4343180751
                    ],
                    "addr:city": null,
                    "addr:housenumber": "2",
                    "addr:street": "Rua Buriti",
                    "building": "apartments",
                    "building:levels": null,
                    "name": null,
                    "building:min_level": null,
                    "layer": null,
                    "landuse": null,
                    "postal_code": null,
                    "addr:postcode": null,
                    "addr:suburb": null,
                    "source": null,
                    "description": null,
                    "building:flats": null,
                    "roof:colour": null,
                    "ways": null,
                    "type": null,
                    "style": {
                      "color": "black",
                      "fillColor": "black"
                    }
                  },
                  "geometry": {
                    "type": "Polygon",
                    "coordinates": [
                      [
                        [
                          -48.0209779,
                          -15.8368819
                        ],
                        [
                          -48.0207831,
                          -15.837339
                        ],
                        [
                          -48.0206994,
                          -15.8373035
                        ],
                        [
                          -48.0209023,
                          -15.8368515
                        ],
                        [
                          -48.0209779,
                          -15.8368819
                        ]
                      ]
                    ]
                  },
                  "bbox": [
                    -48.0209779,
                    -15.837339,
                    -48.0206994,
                    -15.8368515
                  ]
                },
                {
                  "id": "('way', 436427741)",
                  "type": "Feature",
                  "properties": {
                    "nodes": [
                      4343180730,
                      4343180738,
                      4343180734,
                      4343180727,
                      4343180730
                    ],
                    "addr:city": null,
                    "addr:housenumber": null,
                    "addr:street": null,
                    "building": "apartments",
                    "building:levels": null,
                    "name": null,
                    "building:min_level": null,
                    "layer": null,
                    "landuse": null,
                    "postal_code": null,
                    "addr:postcode": null,
                    "addr:suburb": null,
                    "source": null,
                    "description": null,
                    "building:flats": null,
                    "roof:colour": null,
                    "ways": null,
                    "type": null,
                    "style": {
                      "color": "black",
                      "fillColor": "black"
                    }
                  },
                  "geometry": {
                    "type": "Polygon",
                    "coordinates": [
                      [
                        [
                          -48.0202706,
                          -15.8365327
                        ],
                        [
                          -48.0202116,
                          -15.8366695
                        ],
                        [
                          -48.0200742,
                          -15.8366146
                        ],
                        [
                          -48.0201332,
                          -15.8364778
                        ],
                        [
                          -48.0202706,
                          -15.8365327
                        ]
                      ]
                    ]
                  },
                  "bbox": [
                    -48.0202706,
                    -15.8366695,
                    -48.0200742,
                    -15.8364778
                  ]
                },
                {
                  "id": "('way', 436427742)",
                  "type": "Feature",
                  "properties": {
                    "nodes": [
                      4343180774,
                      4343180780,
                      4343180777,
                      4343180769,
                      4343180774
                    ],
                    "addr:city": null,
                    "addr:housenumber": null,
                    "addr:street": null,
                    "building": "apartments",
                    "building:levels": null,
                    "name": null,
                    "building:min_level": null,
                    "layer": null,
                    "landuse": null,
                    "postal_code": null,
                    "addr:postcode": null,
                    "addr:suburb": null,
                    "source": null,
                    "description": null,
                    "building:flats": null,
                    "roof:colour": null,
                    "ways": null,
                    "type": null,
                    "style": {
                      "color": "black",
                      "fillColor": "black"
                    }
                  },
                  "geometry": {
                    "type": "Polygon",
                    "coordinates": [
                      [
                        [
                          -48.0196244,
                          -15.837253
                        ],
                        [
                          -48.0195666,
                          -15.8373817
                        ],
                        [
                          -48.0193531,
                          -15.8372929
                        ],
                        [
                          -48.0194109,
                          -15.8371642
                        ],
                        [
                          -48.0196244,
                          -15.837253
                        ]
                      ]
                    ]
                  },
                  "bbox": [
                    -48.0196244,
                    -15.8373817,
                    -48.0193531,
                    -15.8371642
                  ]
                },
                {
                  "id": "('way', 436427743)",
                  "type": "Feature",
                  "properties": {
                    "nodes": [
                      4343180781,
                      4343180783,
                      4343180784,
                      4343180782,
                      4343180776,
                      4343180781
                    ],
                    "addr:city": null,
                    "addr:housenumber": null,
                    "addr:street": null,
                    "building": "apartments",
                    "building:levels": null,
                    "name": null,
                    "building:min_level": null,
                    "layer": null,
                    "landuse": null,
                    "postal_code": null,
                    "addr:postcode": null,
                    "addr:suburb": null,
                    "source": null,
                    "description": null,
                    "building:flats": null,
                    "roof:colour": null,
                    "ways": null,
                    "type": null,
                    "style": {
                      "color": "black",
                      "fillColor": "black"
                    }
                  },
                  "geometry": {
                    "type": "Polygon",
                    "coordinates": [
                      [
                        [
                          -48.0199083,
                          -15.837393
                        ],
                        [
                          -48.0198789,
                          -15.8374535
                        ],
                        [
                          -48.0197556,
                          -15.8374826
                        ],
                        [
                          -48.0196185,
                          -15.8374209
                        ],
                        [
                          -48.0196817,
                          -15.837291
                        ],
                        [
                          -48.0199083,
                          -15.837393
                        ]
                      ]
                    ]
                  },
                  "bbox": [
                    -48.0199083,
                    -15.8374826,
                    -48.0196185,
                    -15.837291
                  ]
                },
                {
                  "id": "('way', 436427744)",
                  "type": "Feature",
                  "properties": {
                    "nodes": [
                      4343180723,
                      4343180731,
                      4343180728,
                      6480383682,
                      4343180723
                    ],
                    "addr:city": null,
                    "addr:housenumber": null,
                    "addr:street": null,
                    "building": "apartments",
                    "building:levels": null,
                    "name": null,
                    "building:min_level": null,
                    "layer": null,
                    "landuse": null,
                    "postal_code": null,
                    "addr:postcode": null,
                    "addr:suburb": null,
                    "source": null,
                    "description": null,
                    "building:flats": null,
                    "roof:colour": null,
                    "ways": null,
                    "type": null,
                    "style": {
                      "color": "black",
                      "fillColor": "black"
                    }
                  },
                  "geometry": {
                    "type": "Polygon",
                    "coordinates": [
                      [
                        [
                          -48.0200043,
                          -15.8364185
                        ],
                        [
                          -48.0199439,
                          -15.8365608
                        ],
                        [
                          -48.019737,
                          -15.8364794
                        ],
                        [
                          -48.0197974,
                          -15.8363371
                        ],
                        [
                          -48.0200043,
                          -15.8364185
                        ]
                      ]
                    ]
                  },
                  "bbox": [
                    -48.0200043,
                    -15.8365608,
                    -48.019737,
                    -15.8363371
                  ]
                },
                {
                  "id": "('way', 436427745)",
                  "type": "Feature",
                  "properties": {
                    "nodes": [
                      4343180742,
                      4343180746,
                      4343180754,
                      4343180744,
                      4343180741,
                      4343180740,
                      4343180742
                    ],
                    "addr:city": null,
                    "addr:housenumber": null,
                    "addr:street": null,
                    "building": "apartments",
                    "building:levels": null,
                    "name": null,
                    "building:min_level": null,
                    "layer": null,
                    "landuse": null,
                    "postal_code": null,
                    "addr:postcode": null,
                    "addr:suburb": null,
                    "source": null,
                    "description": null,
                    "building:flats": null,
                    "roof:colour": null,
                    "ways": null,
                    "type": null,
                    "style": {
                      "color": "black",
                      "fillColor": "black"
                    }
                  },
                  "geometry": {
                    "type": "Polygon",
                    "coordinates": [
                      [
                        [
                          -48.0207065,
                          -15.8367614
                        ],
                        [
                          -48.0207172,
                          -15.8368336
                        ],
                        [
                          -48.020685,
                          -15.8369007
                        ],
                        [
                          -48.0204356,
                          -15.8368001
                        ],
                        [
                          -48.0204731,
                          -15.8367278
                        ],
                        [
                          -48.0205348,
                          -15.8366943
                        ],
                        [
                          -48.0207065,
                          -15.8367614
                        ]
                      ]
                    ]
                  },
                  "bbox": [
                    -48.0207172,
                    -15.8369007,
                    -48.0204356,
                    -15.8366943
                  ]
                },
                {
                  "id": "('way', 436427746)",
                  "type": "Feature",
                  "properties": {
                    "nodes": [
                      4343180762,
                      4343180772,
                      4343180768,
                      4343180756,
                      4343180758,
                      4343180763,
                      4343180764,
                      4343180760,
                      4343180762
                    ],
                    "addr:city": null,
                    "addr:housenumber": null,
                    "addr:street": null,
                    "building": "apartments",
                    "building:levels": null,
                    "name": null,
                    "building:min_level": null,
                    "layer": null,
                    "landuse": null,
                    "postal_code": null,
                    "addr:postcode": null,
                    "addr:suburb": null,
                    "source": null,
                    "description": null,
                    "building:flats": null,
                    "roof:colour": null,
                    "ways": null,
                    "type": null,
                    "style": {
                      "color": "black",
                      "fillColor": "black"
                    }
                  },
                  "geometry": {
                    "type": "Polygon",
                    "coordinates": [
                      [
                        [
                          -48.0205469,
                          -15.8370023
                        ],
                        [
                          -48.0204623,
                          -15.8372189
                        ],
                        [
                          -48.0202737,
                          -15.8371508
                        ],
                        [
                          -48.020361,
                          -15.836927
                        ],
                        [
                          -48.0204285,
                          -15.8369514
                        ],
                        [
                          -48.0204079,
                          -15.8370043
                        ],
                        [
                          -48.020461,
                          -15.8370234
                        ],
                        [
                          -48.0204788,
                          -15.8369777
                        ],
                        [
                          -48.0205469,
                          -15.8370023
                        ]
                      ]
                    ]
                  },
                  "bbox": [
                    -48.0205469,
                    -15.8372189,
                    -48.0202737,
                    -15.836927
                  ]
                },
                {
                  "id": "('way', 436427747)",
                  "type": "Feature",
                  "properties": {
                    "nodes": [
                      4343180720,
                      4343180726,
                      4343180724,
                      4343180729,
                      4343180725,
                      4343180717,
                      4343180718,
                      4343180719,
                      4343180720
                    ],
                    "addr:city": null,
                    "addr:housenumber": "2",
                    "addr:street": "Rua 13 Norte",
                    "building": "apartments",
                    "building:levels": null,
                    "name": "Residencial Águas Cristalinas",
                    "building:min_level": null,
                    "layer": null,
                    "landuse": null,
                    "postal_code": null,
                    "addr:postcode": null,
                    "addr:suburb": null,
                    "source": null,
                    "description": null,
                    "building:flats": null,
                    "roof:colour": null,
                    "ways": null,
                    "type": null,
                    "style": {
                      "color": "black",
                      "fillColor": "black"
                    }
                  },
                  "geometry": {
                    "type": "Polygon",
                    "coordinates": [
                      [
                        [
                          -48.0195016,
                          -15.8363432
                        ],
                        [
                          -48.0194463,
                          -15.8364732
                        ],
                        [
                          -48.019378,
                          -15.8364463
                        ],
                        [
                          -48.0193509,
                          -15.8365099
                        ],
                        [
                          -48.0192325,
                          -15.8364632
                        ],
                        [
                          -48.0193419,
                          -15.8362062
                        ],
                        [
                          -48.0194654,
                          -15.8362549
                        ],
                        [
                          -48.0194384,
                          -15.8363183
                        ],
                        [
                          -48.0195016,
                          -15.8363432
                        ]
                      ]
                    ]
                  },
                  "bbox": [
                    -48.0195016,
                    -15.8365099,
                    -48.0192325,
                    -15.8362062
                  ]
                },
                {
                  "id": "('way', 614930606)",
                  "type": "Feature",
                  "properties": {
                    "nodes": [
                      5815885661,
                      5815885662,
                      5815885663,
                      5815885664,
                      5815885661
                    ],
                    "addr:city": "Águas Claras",
                    "addr:housenumber": "13",
                    "addr:street": "Rua 22 Sul",
                    "building": "apartments",
                    "building:levels": "15",
                    "name": "Residencial Monte Carlo",
                    "building:min_level": null,
                    "layer": null,
                    "landuse": null,
                    "postal_code": null,
                    "addr:postcode": "71925-720",
                    "addr:suburb": "Sul",
                    "source": "GV",
                    "description": null,
                    "building:flats": null,
                    "roof:colour": null,
                    "ways": null,
                    "type": null,
                    "style": {
                      "color": "black",
                      "fillColor": "black"
                    }
                  },
                  "geometry": {
                    "type": "Polygon",
                    "coordinates": [
                      [
                        [
                          -48.0266492,
                          -15.8413199
                        ],
                        [
                          -48.0266549,
                          -15.8415301
                        ],
                        [
                          -48.0262948,
                          -15.8415391
                        ],
                        [
                          -48.0262891,
                          -15.8413289
                        ],
                        [
                          -48.0266492,
                          -15.8413199
                        ]
                      ]
                    ]
                  },
                  "bbox": [
                    -48.0266549,
                    -15.8415391,
                    -48.0262891,
                    -15.8413199
                  ]
                },
                {
                  "id": "('way', 651836899)",
                  "type": "Feature",
                  "properties": {
                    "nodes": [
                      6112020352,
                      6112020353,
                      6112020354,
                      6112020355,
                      6112020352
                    ],
                    "addr:city": null,
                    "addr:housenumber": null,
                    "addr:street": null,
                    "building": "apartments",
                    "building:levels": "22",
                    "name": null,
                    "building:min_level": null,
                    "layer": null,
                    "landuse": null,
                    "postal_code": null,
                    "addr:postcode": null,
                    "addr:suburb": null,
                    "source": null,
                    "description": null,
                    "building:flats": null,
                    "roof:colour": null,
                    "ways": null,
                    "type": null,
                    "style": {
                      "color": "black",
                      "fillColor": "black"
                    }
                  },
                  "geometry": {
                    "type": "Polygon",
                    "coordinates": [
                      [
                        [
                          -48.0365552,
                          -15.8329175
                        ],
                        [
                          -48.0366657,
                          -15.8330504
                        ],
                        [
                          -48.036536,
                          -15.8331502
                        ],
                        [
                          -48.0364255,
                          -15.8330173
                        ],
                        [
                          -48.0365552,
                          -15.8329175
                        ]
                      ]
                    ]
                  },
                  "bbox": [
                    -48.0366657,
                    -15.8331502,
                    -48.0364255,
                    -15.8329175
                  ]
                },
                {
                  "id": "('way', 651836900)",
                  "type": "Feature",
                  "properties": {
                    "nodes": [
                      6112020356,
                      6112020357,
                      6112020358,
                      6112020359,
                      6112020356
                    ],
                    "addr:city": null,
                    "addr:housenumber": null,
                    "addr:street": null,
                    "building": "apartments",
                    "building:levels": "22",
                    "name": null,
                    "building:min_level": null,
                    "layer": null,
                    "landuse": null,
                    "postal_code": null,
                    "addr:postcode": null,
                    "addr:suburb": null,
                    "source": null,
                    "description": null,
                    "building:flats": null,
                    "roof:colour": null,
                    "ways": null,
                    "type": null,
                    "style": {
                      "color": "black",
                      "fillColor": "black"
                    }
                  },
                  "geometry": {
                    "type": "Polygon",
                    "coordinates": [
                      [
                        [
                          -48.0371002,
                          -15.8328614
                        ],
                        [
                          -48.0372423,
                          -15.8330309
                        ],
                        [
                          -48.037113,
                          -15.8331312
                        ],
                        [
                          -48.0369709,
                          -15.8329618
                        ],
                        [
                          -48.0371002,
                          -15.8328614
                        ]
                      ]
                    ]
                  },
                  "bbox": [
                    -48.0372423,
                    -15.8331312,
                    -48.0369709,
                    -15.8328614
                  ]
                },
                {
                  "id": "('way', 651836901)",
                  "type": "Feature",
                  "properties": {
                    "nodes": [
                      6112020360,
                      6112020361,
                      6112020362,
                      6112020363,
                      6112020360
                    ],
                    "addr:city": null,
                    "addr:housenumber": null,
                    "addr:street": null,
                    "building": "apartments",
                    "building:levels": "22",
                    "name": null,
                    "building:min_level": null,
                    "layer": null,
                    "landuse": null,
                    "postal_code": null,
                    "addr:postcode": null,
                    "addr:suburb": null,
                    "source": null,
                    "description": null,
                    "building:flats": null,
                    "roof:colour": null,
                    "ways": null,
                    "type": null,
                    "style": {
                      "color": "black",
                      "fillColor": "black"
                    }
                  },
                  "geometry": {
                    "type": "Polygon",
                    "coordinates": [
                      [
                        [
                          -48.036571,
                          -15.8332529
                        ],
                        [
                          -48.0367131,
                          -15.8334223
                        ],
                        [
                          -48.0365838,
                          -15.8335227
                        ],
                        [
                          -48.0364417,
                          -15.8333533
                        ],
                        [
                          -48.036571,
                          -15.8332529
                        ]
                      ]
                    ]
                  },
                  "bbox": [
                    -48.0367131,
                    -15.8335227,
                    -48.0364417,
                    -15.8332529
                  ]
                },
                {
                  "id": "('way', 651836902)",
                  "type": "Feature",
                  "properties": {
                    "nodes": [
                      6112020364,
                      6112020365,
                      6112020366,
                      6112020367,
                      6112020364
                    ],
                    "addr:city": null,
                    "addr:housenumber": null,
                    "addr:street": null,
                    "building": "apartments",
                    "building:levels": "15",
                    "name": null,
                    "building:min_level": null,
                    "layer": null,
                    "landuse": null,
                    "postal_code": null,
                    "addr:postcode": null,
                    "addr:suburb": null,
                    "source": null,
                    "description": null,
                    "building:flats": null,
                    "roof:colour": null,
                    "ways": null,
                    "type": null,
                    "style": {
                      "color": "black",
                      "fillColor": "black"
                    }
                  },
                  "geometry": {
                    "type": "Polygon",
                    "coordinates": [
                      [
                        [
                          -48.0362981,
                          -15.8338573
                        ],
                        [
                          -48.0365538,
                          -15.8341595
                        ],
                        [
                          -48.0364524,
                          -15.8342389
                        ],
                        [
                          -48.0361966,
                          -15.8339368
                        ],
                        [
                          -48.0362981,
                          -15.8338573
                        ]
                      ]
                    ]
                  },
                  "bbox": [
                    -48.0365538,
                    -15.8342389,
                    -48.0361966,
                    -15.8338573
                  ]
                },
                {
                  "id": "('way', 651836903)",
                  "type": "Feature",
                  "properties": {
                    "nodes": [
                      6112020368,
                      6112020369,
                      6112020370,
                      6112020371,
                      6112020368
                    ],
                    "addr:city": null,
                    "addr:housenumber": null,
                    "addr:street": null,
                    "building": "apartments",
                    "building:levels": "15",
                    "name": null,
                    "building:min_level": null,
                    "layer": null,
                    "landuse": null,
                    "postal_code": null,
                    "addr:postcode": null,
                    "addr:suburb": null,
                    "source": null,
                    "description": null,
                    "building:flats": null,
                    "roof:colour": null,
                    "ways": null,
                    "type": null,
                    "style": {
                      "color": "black",
                      "fillColor": "black"
                    }
                  },
                  "geometry": {
                    "type": "Polygon",
                    "coordinates": [
                      [
                        [
                          -48.0360809,
                          -15.8344743
                        ],
                        [
                          -48.0364006,
                          -15.834235
                        ],
                        [
                          -48.0364809,
                          -15.8343343
                        ],
                        [
                          -48.0361613,
                          -15.8345736
                        ],
                        [
                          -48.0360809,
                          -15.8344743
                        ]
                      ]
                    ]
                  },
                  "bbox": [
                    -48.0364809,
                    -15.8345736,
                    -48.0360809,
                    -15.834235
                  ]
                },
                {
                  "id": "('way', 651836904)",
                  "type": "Feature",
                  "properties": {
                    "nodes": [
                      6112020372,
                      6112020373,
                      6112020374,
                      6112020375,
                      6112020372
                    ],
                    "addr:city": null,
                    "addr:housenumber": null,
                    "addr:street": null,
                    "building": "apartments",
                    "building:levels": "15",
                    "name": null,
                    "building:min_level": null,
                    "layer": null,
                    "landuse": null,
                    "postal_code": null,
                    "addr:postcode": null,
                    "addr:suburb": null,
                    "source": null,
                    "description": null,
                    "building:flats": null,
                    "roof:colour": null,
                    "ways": null,
                    "type": null,
                    "style": {
                      "color": "black",
                      "fillColor": "black"
                    }
                  },
                  "geometry": {
                    "type": "Polygon",
                    "coordinates": [
                      [
                        [
                          -48.0355416,
                          -15.8346857
                        ],
                        [
                          -48.0358612,
                          -15.8344464
                        ],
                        [
                          -48.0359416,
                          -15.8345458
                        ],
                        [
                          -48.035622,
                          -15.8347851
                        ],
                        [
                          -48.0355416,
                          -15.8346857
                        ]
                      ]
                    ]
                  },
                  "bbox": [
                    -48.0359416,
                    -15.8347851,
                    -48.0355416,
                    -15.8344464
                  ]
                },
                {
                  "id": "('way', 651836905)",
                  "type": "Feature",
                  "properties": {
                    "nodes": [
                      6112020376,
                      6112020377,
                      6112020378,
                      6112020379,
                      6112020376
                    ],
                    "addr:city": null,
                    "addr:housenumber": null,
                    "addr:street": null,
                    "building": "apartments",
                    "building:levels": "15",
                    "name": null,
                    "building:min_level": null,
                    "layer": null,
                    "landuse": null,
                    "postal_code": null,
                    "addr:postcode": null,
                    "addr:suburb": null,
                    "source": null,
                    "description": null,
                    "building:flats": null,
                    "roof:colour": null,
                    "ways": null,
                    "type": null,
                    "style": {
                      "color": "black",
                      "fillColor": "black"
                    }
                  },
                  "geometry": {
                    "type": "Polygon",
                    "coordinates": [
                      [
                        [
                          -48.0352759,
                          -15.83509
                        ],
                        [
                          -48.0355955,
                          -15.8348506
                        ],
                        [
                          -48.0356759,
                          -15.83495
                        ],
                        [
                          -48.0353563,
                          -15.8351893
                        ],
                        [
                          -48.0352759,
                          -15.83509
                        ]
                      ]
                    ]
                  },
                  "bbox": [
                    -48.0356759,
                    -15.8351893,
                    -48.0352759,
                    -15.8348506
                  ]
                },
                {
                  "id": "('way', 651836906)",
                  "type": "Feature",
                  "properties": {
                    "nodes": [
                      6112020380,
                      6112020381,
                      6112020382,
                      6112020383,
                      6112020380
                    ],
                    "addr:city": null,
                    "addr:housenumber": null,
                    "addr:street": null,
                    "building": "apartments",
                    "building:levels": "15",
                    "name": null,
                    "building:min_level": null,
                    "layer": null,
                    "landuse": null,
                    "postal_code": null,
                    "addr:postcode": null,
                    "addr:suburb": null,
                    "source": null,
                    "description": null,
                    "building:flats": null,
                    "roof:colour": null,
                    "ways": null,
                    "type": null,
                    "style": {
                      "color": "black",
                      "fillColor": "black"
                    }
                  },
                  "geometry": {
                    "type": "Polygon",
                    "coordinates": [
                      [
                        [
                          -48.0351615,
                          -15.8353466
                        ],
                        [
                          -48.0349072,
                          -15.8350433
                        ],
                        [
                          -48.035009,
                          -15.8349643
                        ],
                        [
                          -48.0352633,
                          -15.8352675
                        ],
                        [
                          -48.0351615,
                          -15.8353466
                        ]
                      ]
                    ]
                  },
                  "bbox": [
                    -48.0352633,
                    -15.8353466,
                    -48.0349072,
                    -15.8349643
                  ]
                },
                {
                  "id": "('way', 651836907)",
                  "type": "Feature",
                  "properties": {
                    "nodes": [
                      6112020384,
                      6112029685,
                      6112029686,
                      6112029687,
                      6112020384
                    ],
                    "addr:city": null,
                    "addr:housenumber": null,
                    "addr:street": null,
                    "building": "apartments",
                    "building:levels": "15",
                    "name": null,
                    "building:min_level": null,
                    "layer": null,
                    "landuse": null,
                    "postal_code": null,
                    "addr:postcode": null,
                    "addr:suburb": null,
                    "source": null,
                    "description": null,
                    "building:flats": null,
                    "roof:colour": null,
                    "ways": null,
                    "type": null,
                    "style": {
                      "color": "black",
                      "fillColor": "black"
                    }
                  },
                  "geometry": {
                    "type": "Polygon",
                    "coordinates": [
                      [
                        [
                          -48.0347675,
                          -15.8348113
                        ],
                        [
                          -48.0349393,
                          -15.8344585
                        ],
                        [
                          -48.0350578,
                          -15.8345119
                        ],
                        [
                          -48.0348859,
                          -15.8348648
                        ],
                        [
                          -48.0347675,
                          -15.8348113
                        ]
                      ]
                    ]
                  },
                  "bbox": [
                    -48.0350578,
                    -15.8348648,
                    -48.0347675,
                    -15.8344585
                  ]
                },
                {
                  "id": "('way', 651836908)",
                  "type": "Feature",
                  "properties": {
                    "nodes": [
                      6112029688,
                      6112029689,
                      6112029690,
                      6112029691,
                      6112029688
                    ],
                    "addr:city": null,
                    "addr:housenumber": null,
                    "addr:street": null,
                    "building": "apartments",
                    "building:levels": "15",
                    "name": null,
                    "building:min_level": null,
                    "layer": null,
                    "landuse": null,
                    "postal_code": null,
                    "addr:postcode": null,
                    "addr:suburb": null,
                    "source": null,
                    "description": null,
                    "building:flats": null,
                    "roof:colour": null,
                    "ways": null,
                    "type": null,
                    "style": {
                      "color": "black",
                      "fillColor": "black"
                    }
                  },
                  "geometry": {
                    "type": "Polygon",
                    "coordinates": [
                      [
                        [
                          -48.0346426,
                          -15.8344355
                        ],
                        [
                          -48.0348144,
                          -15.8340827
                        ],
                        [
                          -48.0349329,
                          -15.8341361
                        ],
                        [
                          -48.034761,
                          -15.834489
                        ],
                        [
                          -48.0346426,
                          -15.8344355
                        ]
                      ]
                    ]
                  },
                  "bbox": [
                    -48.0349329,
                    -15.834489,
                    -48.0346426,
                    -15.8340827
                  ]
                },
                {
                  "id": "('way', 651836909)",
                  "type": "Feature",
                  "properties": {
                    "nodes": [
                      6112029692,
                      6112029693,
                      6112029694,
                      6112029695,
                      6112029692
                    ],
                    "addr:city": null,
                    "addr:housenumber": null,
                    "addr:street": null,
                    "building": "apartments",
                    "building:levels": "15",
                    "name": null,
                    "building:min_level": null,
                    "layer": null,
                    "landuse": null,
                    "postal_code": null,
                    "addr:postcode": null,
                    "addr:suburb": null,
                    "source": null,
                    "description": null,
                    "building:flats": null,
                    "roof:colour": null,
                    "ways": null,
                    "type": null,
                    "style": {
                      "color": "black",
                      "fillColor": "black"
                    }
                  },
                  "geometry": {
                    "type": "Polygon",
                    "coordinates": [
                      [
                        [
                          -48.035174,
                          -15.8334523
                        ],
                        [
                          -48.0353459,
                          -15.8330995
                        ],
                        [
                          -48.0354643,
                          -15.8331529
                        ],
                        [
                          -48.0352925,
                          -15.8335057
                        ],
                        [
                          -48.035174,
                          -15.8334523
                        ]
                      ]
                    ]
                  },
                  "bbox": [
                    -48.0354643,
                    -15.8335057,
                    -48.035174,
                    -15.8330995
                  ]
                },
                {
                  "id": "('way', 651836910)",
                  "type": "Feature",
                  "properties": {
                    "nodes": [
                      6112029696,
                      6112029697,
                      6112029698,
                      6112029699,
                      6112029696
                    ],
                    "addr:city": null,
                    "addr:housenumber": null,
                    "addr:street": null,
                    "building": "apartments",
                    "building:levels": "15",
                    "name": null,
                    "building:min_level": null,
                    "layer": null,
                    "landuse": null,
                    "postal_code": null,
                    "addr:postcode": null,
                    "addr:suburb": null,
                    "source": null,
                    "description": null,
                    "building:flats": null,
                    "roof:colour": null,
                    "ways": null,
                    "type": null,
                    "style": {
                      "color": "black",
                      "fillColor": "black"
                    }
                  },
                  "geometry": {
                    "type": "Polygon",
                    "coordinates": [
                      [
                        [
                          -48.0355402,
                          -15.8332483
                        ],
                        [
                          -48.0359019,
                          -15.8334236
                        ],
                        [
                          -48.0358431,
                          -15.833536
                        ],
                        [
                          -48.0354814,
                          -15.8333607
                        ],
                        [
                          -48.0355402,
                          -15.8332483
                        ]
                      ]
                    ]
                  },
                  "bbox": [
                    -48.0359019,
                    -15.833536,
                    -48.0354814,
                    -15.8332483
                  ]
                },
                {
                  "id": "('way', 651836911)",
                  "type": "Feature",
                  "properties": {
                    "nodes": [
                      6112029700,
                      6112029701,
                      6112029702,
                      6112029703,
                      6112029700
                    ],
                    "addr:city": null,
                    "addr:housenumber": null,
                    "addr:street": null,
                    "building": "apartments",
                    "building:levels": "15",
                    "name": null,
                    "building:min_level": null,
                    "layer": null,
                    "landuse": null,
                    "postal_code": null,
                    "addr:postcode": null,
                    "addr:suburb": null,
                    "source": null,
                    "description": null,
                    "building:flats": null,
                    "roof:colour": null,
                    "ways": null,
                    "type": null,
                    "style": {
                      "color": "black",
                      "fillColor": "black"
                    }
                  },
                  "geometry": {
                    "type": "Polygon",
                    "coordinates": [
                      [
                        [
                          -48.0355272,
                          -15.8336313
                        ],
                        [
                          -48.0353335,
                          -15.8335319
                        ],
                        [
                          -48.0351904,
                          -15.8337901
                        ],
                        [
                          -48.0353841,
                          -15.8338895
                        ],
                        [
                          -48.0355272,
                          -15.8336313
                        ]
                      ]
                    ]
                  },
                  "bbox": [
                    -48.0355272,
                    -15.8338895,
                    -48.0351904,
                    -15.8335319
                  ]
                },
                {
                  "id": "('way', 651836912)",
                  "type": "Feature",
                  "properties": {
                    "nodes": [
                      6112029704,
                      6112029705,
                      6112029706,
                      6112029707,
                      6112029704
                    ],
                    "addr:city": null,
                    "addr:housenumber": null,
                    "addr:street": null,
                    "building": "apartments",
                    "building:levels": "15",
                    "name": null,
                    "building:min_level": null,
                    "layer": null,
                    "landuse": null,
                    "postal_code": null,
                    "addr:postcode": null,
                    "addr:suburb": null,
                    "source": null,
                    "description": null,
                    "building:flats": null,
                    "roof:colour": null,
                    "ways": null,
                    "type": null,
                    "style": {
                      "color": "black",
                      "fillColor": "black"
                    }
                  },
                  "geometry": {
                    "type": "Polygon",
                    "coordinates": [
                      [
                        [
                          -48.035315,
                          -15.8340185
                        ],
                        [
                          -48.0351212,
                          -15.8339191
                        ],
                        [
                          -48.0349782,
                          -15.8341773
                        ],
                        [
                          -48.0351719,
                          -15.8342767
                        ],
                        [
                          -48.035315,
                          -15.8340185
                        ]
                      ]
                    ]
                  },
                  "bbox": [
                    -48.035315,
                    -15.8342767,
                    -48.0349782,
                    -15.8339191
                  ]
                },
                {
                  "id": "('way', 651960876)",
                  "type": "Feature",
                  "properties": {
                    "nodes": [
                      6112992398,
                      6112992399,
                      6112992400,
                      6112992401,
                      6112992402,
                      6112992403,
                      6112992404,
                      6112992405,
                      6112992406,
                      6112992407,
                      6112992408,
                      6112992409,
                      6112992398
                    ],
                    "addr:city": null,
                    "addr:housenumber": null,
                    "addr:street": null,
                    "building": "apartments",
                    "building:levels": "18",
                    "name": null,
                    "building:min_level": null,
                    "layer": null,
                    "landuse": null,
                    "postal_code": null,
                    "addr:postcode": null,
                    "addr:suburb": null,
                    "source": null,
                    "description": null,
                    "building:flats": null,
                    "roof:colour": null,
                    "ways": null,
                    "type": null,
                    "style": {
                      "color": "black",
                      "fillColor": "black"
                    }
                  },
                  "geometry": {
                    "type": "Polygon",
                    "coordinates": [
                      [
                        [
                          -48.0345781,
                          -15.8336234
                        ],
                        [
                          -48.0344233,
                          -15.833532
                        ],
                        [
                          -48.0344129,
                          -15.8335483
                        ],
                        [
                          -48.0343672,
                          -15.8335214
                        ],
                        [
                          -48.034379,
                          -15.8335029
                        ],
                        [
                          -48.0342106,
                          -15.8334034
                        ],
                        [
                          -48.0341334,
                          -15.8335243
                        ],
                        [
                          -48.0342504,
                          -15.8335933
                        ],
                        [
                          -48.0342394,
                          -15.8336105
                        ],
                        [
                          -48.0343137,
                          -15.8336543
                        ],
                        [
                          -48.0343266,
                          -15.833634
                        ],
                        [
                          -48.0345044,
                          -15.833739
                        ],
                        [
                          -48.0345781,
                          -15.8336234
                        ]
                      ]
                    ]
                  },
                  "bbox": [
                    -48.0345781,
                    -15.833739,
                    -48.0341334,
                    -15.8334034
                  ]
                },
                {
                  "id": "('way', 651960877)",
                  "type": "Feature",
                  "properties": {
                    "nodes": [
                      6112992410,
                      6112992411,
                      6112992412,
                      6112992413,
                      6112992414,
                      6112992415,
                      6112992416,
                      6112992417,
                      6112992418,
                      6112992419,
                      6112992420,
                      6112992421,
                      6112992410
                    ],
                    "addr:city": null,
                    "addr:housenumber": null,
                    "addr:street": null,
                    "building": "apartments",
                    "building:levels": "18",
                    "name": null,
                    "building:min_level": null,
                    "layer": null,
                    "landuse": null,
                    "postal_code": null,
                    "addr:postcode": null,
                    "addr:suburb": null,
                    "source": null,
                    "description": null,
                    "building:flats": null,
                    "roof:colour": null,
                    "ways": null,
                    "type": null,
                    "style": {
                      "color": "black",
                      "fillColor": "black"
                    }
                  },
                  "geometry": {
                    "type": "Polygon",
                    "coordinates": [
                      [
                        [
                          -48.0342105,
                          -15.833254
                        ],
                        [
                          -48.0340557,
                          -15.8331626
                        ],
                        [
                          -48.0340453,
                          -15.8331789
                        ],
                        [
                          -48.0339996,
                          -15.833152
                        ],
                        [
                          -48.0340114,
                          -15.8331335
                        ],
                        [
                          -48.0338429,
                          -15.833034
                        ],
                        [
                          -48.0337658,
                          -15.8331549
                        ],
                        [
                          -48.0338827,
                          -15.833224
                        ],
                        [
                          -48.0338718,
                          -15.8332411
                        ],
                        [
                          -48.0339461,
                          -15.8332849
                        ],
                        [
                          -48.033959,
                          -15.8332646
                        ],
                        [
                          -48.0341367,
                          -15.8333696
                        ],
                        [
                          -48.0342105,
                          -15.833254
                        ]
                      ]
                    ]
                  },
                  "bbox": [
                    -48.0342105,
                    -15.8333696,
                    -48.0337658,
                    -15.833034
                  ]
                },
                {
                  "id": "('way', 651960878)",
                  "type": "Feature",
                  "properties": {
                    "nodes": [
                      6112992422,
                      6112992423,
                      6112992424,
                      6112992425,
                      6112992422
                    ],
                    "addr:city": null,
                    "addr:housenumber": null,
                    "addr:street": null,
                    "building": "apartments",
                    "building:levels": "18",
                    "name": null,
                    "building:min_level": null,
                    "layer": null,
                    "landuse": null,
                    "postal_code": null,
                    "addr:postcode": null,
                    "addr:suburb": null,
                    "source": null,
                    "description": null,
                    "building:flats": null,
                    "roof:colour": null,
                    "ways": null,
                    "type": null,
                    "style": {
                      "color": "black",
                      "fillColor": "black"
                    }
                  },
                  "geometry": {
                    "type": "Polygon",
                    "coordinates": [
                      [
                        [
                          -48.0338795,
                          -15.8328983
                        ],
                        [
                          -48.0335193,
                          -15.8327073
                        ],
                        [
                          -48.0334502,
                          -15.8328279
                        ],
                        [
                          -48.0338105,
                          -15.8330189
                        ],
                        [
                          -48.0338795,
                          -15.8328983
                        ]
                      ]
                    ]
                  },
                  "bbox": [
                    -48.0338795,
                    -15.8330189,
                    -48.0334502,
                    -15.8327073
                  ]
                },
                {
                  "id": "('way', 651962205)",
                  "type": "Feature",
                  "properties": {
                    "nodes": [
                      6113000694,
                      6113000695,
                      6113000696,
                      6113000697,
                      6113000694
                    ],
                    "addr:city": null,
                    "addr:housenumber": null,
                    "addr:street": null,
                    "building": "apartments",
                    "building:levels": "16",
                    "name": null,
                    "building:min_level": null,
                    "layer": null,
                    "landuse": null,
                    "postal_code": null,
                    "addr:postcode": null,
                    "addr:suburb": null,
                    "source": null,
                    "description": null,
                    "building:flats": null,
                    "roof:colour": null,
                    "ways": null,
                    "type": null,
                    "style": {
                      "color": "black",
                      "fillColor": "black"
                    }
                  },
                  "geometry": {
                    "type": "Polygon",
                    "coordinates": [
                      [
                        [
                          -48.0375784,
                          -15.8402374
                        ],
                        [
                          -48.0374842,
                          -15.8401308
                        ],
                        [
                          -48.0373163,
                          -15.8402681
                        ],
                        [
                          -48.0374105,
                          -15.8403747
                        ],
                        [
                          -48.0375784,
                          -15.8402374
                        ]
                      ]
                    ]
                  },
                  "bbox": [
                    -48.0375784,
                    -15.8403747,
                    -48.0373163,
                    -15.8401308
                  ]
                },
                {
                  "id": "('way', 651968714)",
                  "type": "Feature",
                  "properties": {
                    "nodes": [
                      6113044694,
                      6113044695,
                      6113044696,
                      6113044697,
                      6113044694
                    ],
                    "addr:city": null,
                    "addr:housenumber": null,
                    "addr:street": null,
                    "building": "apartments",
                    "building:levels": "13",
                    "name": "Encontro das Aguas - Bloco A -  Tocantins",
                    "building:min_level": null,
                    "layer": null,
                    "landuse": null,
                    "postal_code": null,
                    "addr:postcode": null,
                    "addr:suburb": null,
                    "source": null,
                    "description": "Bloco A",
                    "building:flats": null,
                    "roof:colour": null,
                    "ways": null,
                    "type": null,
                    "style": {
                      "color": "black",
                      "fillColor": "black"
                    }
                  },
                  "geometry": {
                    "type": "Polygon",
                    "coordinates": [
                      [
                        [
                          -48.034553,
                          -15.8406331
                        ],
                        [
                          -48.0343571,
                          -15.840781
                        ],
                        [
                          -48.0345355,
                          -15.8409996
                        ],
                        [
                          -48.0347314,
                          -15.8408517
                        ],
                        [
                          -48.034553,
                          -15.8406331
                        ]
                      ]
                    ]
                  },
                  "bbox": [
                    -48.0347314,
                    -15.8409996,
                    -48.0343571,
                    -15.8406331
                  ]
                },
                {
                  "id": "('way', 651968715)",
                  "type": "Feature",
                  "properties": {
                    "nodes": [
                      6113044698,
                      6113044699,
                      6113044700,
                      6113044701,
                      6113044698
                    ],
                    "addr:city": null,
                    "addr:housenumber": null,
                    "addr:street": null,
                    "building": "apartments",
                    "building:levels": "13",
                    "name": "Encontro das Aguas - Bloco B - Araguaia",
                    "building:min_level": null,
                    "layer": null,
                    "landuse": null,
                    "postal_code": null,
                    "addr:postcode": null,
                    "addr:suburb": null,
                    "source": null,
                    "description": null,
                    "building:flats": null,
                    "roof:colour": null,
                    "ways": null,
                    "type": null,
                    "style": {
                      "color": "black",
                      "fillColor": "black"
                    }
                  },
                  "geometry": {
                    "type": "Polygon",
                    "coordinates": [
                      [
                        [
                          -48.0347949,
                          -15.8404889
                        ],
                        [
                          -48.0346323,
                          -15.8406204
                        ],
                        [
                          -48.0347928,
                          -15.8408154
                        ],
                        [
                          -48.0349607,
                          -15.8406787
                        ],
                        [
                          -48.0347949,
                          -15.8404889
                        ]
                      ]
                    ]
                  },
                  "bbox": [
                    -48.0349607,
                    -15.8408154,
                    -48.0346323,
                    -15.8404889
                  ]
                },
                {
                  "id": "('way', 681994892)",
                  "type": "Feature",
                  "properties": {
                    "nodes": [
                      8464123088,
                      6386716811,
                      6386716812,
                      6386716813,
                      8464123088
                    ],
                    "addr:city": "Brasília",
                    "addr:housenumber": "2",
                    "addr:street": "Rua 19 Norte",
                    "building": "apartments",
                    "building:levels": "13",
                    "name": "Abosoluto Residencial",
                    "building:min_level": null,
                    "layer": null,
                    "landuse": null,
                    "postal_code": null,
                    "addr:postcode": "71915000",
                    "addr:suburb": "Águas Claras",
                    "source": null,
                    "description": null,
                    "building:flats": null,
                    "roof:colour": null,
                    "ways": null,
                    "type": null,
                    "style": {
                      "color": "black",
                      "fillColor": "black"
                    }
                  },
                  "geometry": {
                    "type": "Polygon",
                    "coordinates": [
                      [
                        [
                          -48.0244904,
                          -15.8382435
                        ],
                        [
                          -48.0239415,
                          -15.8379879
                        ],
                        [
                          -48.0237856,
                          -15.8383739
                        ],
                        [
                          -48.0243367,
                          -15.8386083
                        ],
                        [
                          -48.0244904,
                          -15.8382435
                        ]
                      ]
                    ]
                  },
                  "bbox": [
                    -48.0244904,
                    -15.8386083,
                    -48.0237856,
                    -15.8379879
                  ]
                },
                {
                  "id": "('way', 681994893)",
                  "type": "Feature",
                  "properties": {
                    "nodes": [
                      6386716814,
                      6386716815,
                      1464633218,
                      6386716816,
                      6418129000,
                      6386716814
                    ],
                    "addr:city": "Brasília",
                    "addr:housenumber": "6/8",
                    "addr:street": "Rua 19 Norte",
                    "building": "apartments",
                    "building:levels": null,
                    "name": "Duo Residence Mall",
                    "building:min_level": null,
                    "layer": null,
                    "landuse": null,
                    "postal_code": null,
                    "addr:postcode": "719015000",
                    "addr:suburb": "Águas Claras",
                    "source": null,
                    "description": null,
                    "building:flats": null,
                    "roof:colour": null,
                    "ways": null,
                    "type": null,
                    "style": {
                      "color": "black",
                      "fillColor": "black"
                    }
                  },
                  "geometry": {
                    "type": "Polygon",
                    "coordinates": [
                      [
                        [
                          -48.0237046,
                          -15.8385744
                        ],
                        [
                          -48.0242489,
                          -15.8388072
                        ],
                        [
                          -48.0239821,
                          -15.8394117
                        ],
                        [
                          -48.0234206,
                          -15.8391785
                        ],
                        [
                          -48.0235692,
                          -15.8388624
                        ],
                        [
                          -48.0237046,
                          -15.8385744
                        ]
                      ]
                    ]
                  },
                  "bbox": [
                    -48.0242489,
                    -15.8394117,
                    -48.0234206,
                    -15.8385744
                  ]
                },
                {
                  "id": "('way', 684975455)",
                  "type": "Feature",
                  "properties": {
                    "nodes": [
                      6386716811,
                      987213022,
                      6418128999,
                      6386716814,
                      6386716812,
                      6386716811
                    ],
                    "addr:city": null,
                    "addr:housenumber": null,
                    "addr:street": null,
                    "building": "apartments",
                    "building:levels": null,
                    "name": "Wave Residence",
                    "building:min_level": null,
                    "layer": null,
                    "landuse": "residential",
                    "postal_code": null,
                    "addr:postcode": null,
                    "addr:suburb": null,
                    "source": null,
                    "description": null,
                    "building:flats": null,
                    "roof:colour": null,
                    "ways": null,
                    "type": null,
                    "style": {
                      "color": "black",
                      "fillColor": "black"
                    }
                  },
                  "geometry": {
                    "type": "Polygon",
                    "coordinates": [
                      [
                        [
                          -48.0239415,
                          -15.8379879
                        ],
                        [
                          -48.0233922,
                          -15.837741
                        ],
                        [
                          -48.0231211,
                          -15.8383254
                        ],
                        [
                          -48.0237046,
                          -15.8385744
                        ],
                        [
                          -48.0237856,
                          -15.8383739
                        ],
                        [
                          -48.0239415,
                          -15.8379879
                        ]
                      ]
                    ]
                  },
                  "bbox": [
                    -48.0239415,
                    -15.8385744,
                    -48.0231211,
                    -15.837741
                  ]
                },
                {
                  "id": "('way', 684975457)",
                  "type": "Feature",
                  "properties": {
                    "nodes": [
                      6386716814,
                      6418129000,
                      6418129001,
                      6418128999,
                      6386716814
                    ],
                    "addr:city": null,
                    "addr:housenumber": null,
                    "addr:street": null,
                    "building": "apartments",
                    "building:levels": null,
                    "name": "Up Town Residencial",
                    "building:min_level": null,
                    "layer": null,
                    "landuse": "residential",
                    "postal_code": null,
                    "addr:postcode": null,
                    "addr:suburb": null,
                    "source": null,
                    "description": null,
                    "building:flats": null,
                    "roof:colour": null,
                    "ways": null,
                    "type": null,
                    "style": {
                      "color": "black",
                      "fillColor": "black"
                    }
                  },
                  "geometry": {
                    "type": "Polygon",
                    "coordinates": [
                      [
                        [
                          -48.0237046,
                          -15.8385744
                        ],
                        [
                          -48.0235692,
                          -15.8388624
                        ],
                        [
                          -48.0229837,
                          -15.8386214
                        ],
                        [
                          -48.0231211,
                          -15.8383254
                        ],
                        [
                          -48.0237046,
                          -15.8385744
                        ]
                      ]
                    ]
                  },
                  "bbox": [
                    -48.0237046,
                    -15.8388624,
                    -48.0229837,
                    -15.8383254
                  ]
                },
                {
                  "id": "('way', 684975459)",
                  "type": "Feature",
                  "properties": {
                    "nodes": [
                      6418129000,
                      6418129001,
                      1464633172,
                      6386716816,
                      6418129000
                    ],
                    "addr:city": null,
                    "addr:housenumber": null,
                    "addr:street": null,
                    "building": "apartments",
                    "building:levels": null,
                    "name": "Residencial Riviera",
                    "building:min_level": null,
                    "layer": null,
                    "landuse": "residential",
                    "postal_code": null,
                    "addr:postcode": null,
                    "addr:suburb": null,
                    "source": null,
                    "description": null,
                    "building:flats": null,
                    "roof:colour": null,
                    "ways": null,
                    "type": null,
                    "style": {
                      "color": "black",
                      "fillColor": "black"
                    }
                  },
                  "geometry": {
                    "type": "Polygon",
                    "coordinates": [
                      [
                        [
                          -48.0235692,
                          -15.8388624
                        ],
                        [
                          -48.0229837,
                          -15.8386214
                        ],
                        [
                          -48.0228376,
                          -15.8389364
                        ],
                        [
                          -48.0234206,
                          -15.8391785
                        ],
                        [
                          -48.0235692,
                          -15.8388624
                        ]
                      ]
                    ]
                  },
                  "bbox": [
                    -48.0235692,
                    -15.8391785,
                    -48.0228376,
                    -15.8386214
                  ]
                },
                {
                  "id": "('way', 724199511)",
                  "type": "Feature",
                  "properties": {
                    "nodes": [
                      6791807030,
                      6791807031,
                      6791807032,
                      6791807033,
                      6791807030
                    ],
                    "addr:city": "Águas Claras",
                    "addr:housenumber": "11",
                    "addr:street": "Rua 21 Sul",
                    "building": "apartments",
                    "building:levels": "14",
                    "name": "Residencial Manhattan",
                    "building:min_level": null,
                    "layer": null,
                    "landuse": null,
                    "postal_code": null,
                    "addr:postcode": "71925-540",
                    "addr:suburb": "Sul",
                    "source": "GV",
                    "description": null,
                    "building:flats": null,
                    "roof:colour": null,
                    "ways": null,
                    "type": null,
                    "style": {
                      "color": "black",
                      "fillColor": "black"
                    }
                  },
                  "geometry": {
                    "type": "Polygon",
                    "coordinates": [
                      [
                        [
                          -48.0262326,
                          -15.8413379
                        ],
                        [
                          -48.025931,
                          -15.8413459
                        ],
                        [
                          -48.025937,
                          -15.8415548
                        ],
                        [
                          -48.0262386,
                          -15.8415467
                        ],
                        [
                          -48.0262326,
                          -15.8413379
                        ]
                      ]
                    ]
                  },
                  "bbox": [
                    -48.0262386,
                    -15.8415548,
                    -48.025931,
                    -15.8413379
                  ]
                },
                {
                  "id": "('way', 724199512)",
                  "type": "Feature",
                  "properties": {
                    "nodes": [
                      6791807034,
                      6814276861,
                      6814276862,
                      6814276863,
                      6814276864,
                      6791807035,
                      6791807036,
                      6814276857,
                      6814276858,
                      6814276859,
                      6814276860,
                      6791807037,
                      6791807034
                    ],
                    "addr:city": "Águas Claras",
                    "addr:housenumber": null,
                    "addr:street": "Rua 22 Sul",
                    "building": "apartments",
                    "building:levels": "17",
                    "name": "Residencial Castro Alves",
                    "building:min_level": null,
                    "layer": null,
                    "landuse": null,
                    "postal_code": null,
                    "addr:postcode": "71925-720",
                    "addr:suburb": "Sul",
                    "source": "GV",
                    "description": null,
                    "building:flats": null,
                    "roof:colour": null,
                    "ways": null,
                    "type": null,
                    "style": {
                      "color": "black",
                      "fillColor": "black"
                    }
                  },
                  "geometry": {
                    "type": "Polygon",
                    "coordinates": [
                      [
                        [
                          -48.0266407,
                          -15.8410131
                        ],
                        [
                          -48.0264787,
                          -15.8410155
                        ],
                        [
                          -48.0264785,
                          -15.8410007
                        ],
                        [
                          -48.0264506,
                          -15.8410011
                        ],
                        [
                          -48.0264508,
                          -15.8410127
                        ],
                        [
                          -48.0262934,
                          -15.841015
                        ],
                        [
                          -48.0262977,
                          -15.8412882
                        ],
                        [
                          -48.0264371,
                          -15.8412861
                        ],
                        [
                          -48.0264373,
                          -15.8412992
                        ],
                        [
                          -48.0264747,
                          -15.8412987
                        ],
                        [
                          -48.0264745,
                          -15.8412865
                        ],
                        [
                          -48.0266449,
                          -15.841284
                        ],
                        [
                          -48.0266407,
                          -15.8410131
                        ]
                      ]
                    ]
                  },
                  "bbox": [
                    -48.0266449,
                    -15.8412992,
                    -48.0262934,
                    -15.8410007
                  ]
                },
                {
                  "id": "('way', 724201573)",
                  "type": "Feature",
                  "properties": {
                    "nodes": [
                      6791793111,
                      6791793112,
                      6791793113,
                      6791793114,
                      6791793111
                    ],
                    "addr:city": "Brasília",
                    "addr:housenumber": null,
                    "addr:street": "Rua 12 Norte",
                    "building": "apartments",
                    "building:levels": "12",
                    "name": "Ed. Miguel Luiz",
                    "building:min_level": null,
                    "layer": null,
                    "landuse": null,
                    "postal_code": null,
                    "addr:postcode": "71900-100",
                    "addr:suburb": "Águas Claras",
                    "source": "GV",
                    "description": null,
                    "building:flats": null,
                    "roof:colour": null,
                    "ways": null,
                    "type": null,
                    "style": {
                      "color": "black",
                      "fillColor": "black"
                    }
                  },
                  "geometry": {
                    "type": "Polygon",
                    "coordinates": [
                      [
                        [
                          -48.0186,
                          -15.8366653
                        ],
                        [
                          -48.0187944,
                          -15.836219
                        ],
                        [
                          -48.0185146,
                          -15.8361138
                        ],
                        [
                          -48.0182971,
                          -15.8365793
                        ],
                        [
                          -48.0186,
                          -15.8366653
                        ]
                      ]
                    ]
                  },
                  "bbox": [
                    -48.0187944,
                    -15.8366653,
                    -48.0182971,
                    -15.8361138
                  ]
                },
                {
                  "id": "('way', 727112471)",
                  "type": "Feature",
                  "properties": {
                    "nodes": [
                      6814264186,
                      6814264187,
                      6814264188,
                      6814264189,
                      6814264190,
                      6814264191,
                      6814264192,
                      6814264193,
                      6814264194,
                      6814264195,
                      6814264196,
                      6814264197,
                      6814264198,
                      6814264199,
                      6814264186
                    ],
                    "addr:city": "Águas Claras",
                    "addr:housenumber": "7",
                    "addr:street": "Rua 21 Sul",
                    "building": "apartments",
                    "building:levels": "25",
                    "name": "Res. OIavo Bilac",
                    "building:min_level": null,
                    "layer": null,
                    "landuse": null,
                    "postal_code": null,
                    "addr:postcode": "71925-540",
                    "addr:suburb": "Sul",
                    "source": null,
                    "description": null,
                    "building:flats": null,
                    "roof:colour": null,
                    "ways": null,
                    "type": null,
                    "style": {
                      "color": "black",
                      "fillColor": "black"
                    }
                  },
                  "geometry": {
                    "type": "Polygon",
                    "coordinates": [
                      [
                        [
                          -48.0260999,
                          -15.8408488
                        ],
                        [
                          -48.0260588,
                          -15.8408489
                        ],
                        [
                          -48.0260589,
                          -15.8409034
                        ],
                        [
                          -48.0260082,
                          -15.8409035
                        ],
                        [
                          -48.0259626,
                          -15.8408132
                        ],
                        [
                          -48.0259599,
                          -15.8406481
                        ],
                        [
                          -48.0260162,
                          -15.8405707
                        ],
                        [
                          -48.0260754,
                          -15.8405705
                        ],
                        [
                          -48.0260755,
                          -15.840617
                        ],
                        [
                          -48.0261313,
                          -15.8406169
                        ],
                        [
                          -48.0261311,
                          -15.8405238
                        ],
                        [
                          -48.0262207,
                          -15.8405236
                        ],
                        [
                          -48.0262217,
                          -15.8409748
                        ],
                        [
                          -48.0261002,
                          -15.8409751
                        ],
                        [
                          -48.0260999,
                          -15.8408488
                        ]
                      ]
                    ]
                  },
                  "bbox": [
                    -48.0262217,
                    -15.8409751,
                    -48.0259599,
                    -15.8405236
                  ]
                },
                {
                  "id": "('way', 727112472)",
                  "type": "Feature",
                  "properties": {
                    "nodes": [
                      6814264200,
                      6814264201,
                      6814264202,
                      6814264203,
                      6814264204,
                      6814264205,
                      6814264206,
                      6814264207,
                      6814264208,
                      6814264209,
                      6814264210,
                      6814264211,
                      6814264200
                    ],
                    "addr:city": "Águas Claras",
                    "addr:housenumber": "9",
                    "addr:street": "Rua 21 Sul",
                    "building": "apartments",
                    "building:levels": "20",
                    "name": "Res. Villa Borgio",
                    "building:min_level": null,
                    "layer": null,
                    "landuse": null,
                    "postal_code": null,
                    "addr:postcode": "71925-540",
                    "addr:suburb": "Sul",
                    "source": null,
                    "description": null,
                    "building:flats": null,
                    "roof:colour": null,
                    "ways": null,
                    "type": null,
                    "style": {
                      "color": "black",
                      "fillColor": "black"
                    }
                  },
                  "geometry": {
                    "type": "Polygon",
                    "coordinates": [
                      [
                        [
                          -48.0261849,
                          -15.8410596
                        ],
                        [
                          -48.0261224,
                          -15.8410602
                        ],
                        [
                          -48.0261228,
                          -15.8411003
                        ],
                        [
                          -48.0260594,
                          -15.841101
                        ],
                        [
                          -48.0260589,
                          -15.8410598
                        ],
                        [
                          -48.0259799,
                          -15.8410618
                        ],
                        [
                          -48.0259757,
                          -15.8412867
                        ],
                        [
                          -48.026051,
                          -15.841286
                        ],
                        [
                          -48.0260505,
                          -15.8412447
                        ],
                        [
                          -48.0261016,
                          -15.8412442
                        ],
                        [
                          -48.0261021,
                          -15.841289
                        ],
                        [
                          -48.0261873,
                          -15.8412882
                        ],
                        [
                          -48.0261849,
                          -15.8410596
                        ]
                      ]
                    ]
                  },
                  "bbox": [
                    -48.0261873,
                    -15.841289,
                    -48.0259757,
                    -15.8410596
                  ]
                },
                {
                  "id": "('way', 727117862)",
                  "type": "Feature",
                  "properties": {
                    "nodes": [
                      6814318685,
                      6814318686,
                      6814318687,
                      6814318688,
                      6814318689,
                      6814318690,
                      6814318691,
                      6814318692,
                      6814318693,
                      6814318694,
                      6814318695,
                      6814318696,
                      6814318685
                    ],
                    "addr:city": "Águas Claras",
                    "addr:housenumber": "12",
                    "addr:street": "Av. Pau Brasil",
                    "building": "apartments",
                    "building:levels": "15",
                    "name": "Edificio Central Park",
                    "building:min_level": null,
                    "layer": null,
                    "landuse": null,
                    "postal_code": null,
                    "addr:postcode": "71926-000",
                    "addr:suburb": "Sul",
                    "source": null,
                    "description": null,
                    "building:flats": null,
                    "roof:colour": null,
                    "ways": null,
                    "type": null,
                    "style": {
                      "color": "black",
                      "fillColor": "black"
                    }
                  },
                  "geometry": {
                    "type": "Polygon",
                    "coordinates": [
                      [
                        [
                          -48.0274196,
                          -15.8409896
                        ],
                        [
                          -48.0272275,
                          -15.8409909
                        ],
                        [
                          -48.0272276,
                          -15.8410136
                        ],
                        [
                          -48.0271022,
                          -15.8410145
                        ],
                        [
                          -48.0271021,
                          -15.8409933
                        ],
                        [
                          -48.0269293,
                          -15.8409945
                        ],
                        [
                          -48.0269312,
                          -15.8412655
                        ],
                        [
                          -48.0270939,
                          -15.8412644
                        ],
                        [
                          -48.0270924,
                          -15.8410485
                        ],
                        [
                          -48.0272314,
                          -15.8410475
                        ],
                        [
                          -48.0272329,
                          -15.8412655
                        ],
                        [
                          -48.0274216,
                          -15.8412642
                        ],
                        [
                          -48.0274196,
                          -15.8409896
                        ]
                      ]
                    ]
                  },
                  "bbox": [
                    -48.0274216,
                    -15.8412655,
                    -48.0269293,
                    -15.8409896
                  ]
                },
                {
                  "id": "('way', 734593741)",
                  "type": "Feature",
                  "properties": {
                    "nodes": [
                      6879591159,
                      6879591164,
                      6879591160,
                      6879591163,
                      2881825508,
                      6879591159
                    ],
                    "addr:city": "Brasília",
                    "addr:housenumber": null,
                    "addr:street": "Rua 30 Norte lote 02",
                    "building": "apartments",
                    "building:levels": "24",
                    "name": "Residencial L'essence du Parc",
                    "building:min_level": null,
                    "layer": null,
                    "landuse": null,
                    "postal_code": null,
                    "addr:postcode": "71917-180",
                    "addr:suburb": "Águas Claras",
                    "source": null,
                    "description": null,
                    "building:flats": null,
                    "roof:colour": null,
                    "ways": null,
                    "type": null,
                    "style": {
                      "color": "black",
                      "fillColor": "black"
                    }
                  },
                  "geometry": {
                    "type": "Polygon",
                    "coordinates": [
                      [
                        [
                          -48.0324225,
                          -15.8363638
                        ],
                        [
                          -48.0323237,
                          -15.8364459
                        ],
                        [
                          -48.0321922,
                          -15.8365478
                        ],
                        [
                          -48.0324297,
                          -15.8368218
                        ],
                        [
                          -48.0326658,
                          -15.8366285
                        ],
                        [
                          -48.0324225,
                          -15.8363638
                        ]
                      ]
                    ]
                  },
                  "bbox": [
                    -48.0326658,
                    -15.8368218,
                    -48.0321922,
                    -15.8363638
                  ]
                },
                {
                  "id": "('way', 847327159)",
                  "type": "Feature",
                  "properties": {
                    "nodes": [
                      7906913957,
                      7906913958,
                      7906913959,
                      7906913960,
                      7906913957
                    ],
                    "addr:city": "Brasília",
                    "addr:housenumber": "Lt 12",
                    "addr:street": "Rua 21 Sul",
                    "building": "apartments",
                    "building:levels": "12",
                    "name": "Residencial Araucárias - Bloco F",
                    "building:min_level": null,
                    "layer": null,
                    "landuse": null,
                    "postal_code": null,
                    "addr:postcode": "71925-540",
                    "addr:suburb": "Águas Claras",
                    "source": null,
                    "description": null,
                    "building:flats": "48",
                    "roof:colour": null,
                    "ways": null,
                    "type": null,
                    "style": {
                      "color": "black",
                      "fillColor": "black"
                    }
                  },
                  "geometry": {
                    "type": "Polygon",
                    "coordinates": [
                      [
                        [
                          -48.025668,
                          -15.8412249
                        ],
                        [
                          -48.0256598,
                          -15.8414752
                        ],
                        [
                          -48.0251964,
                          -15.8414478
                        ],
                        [
                          -48.0252167,
                          -15.8412054
                        ],
                        [
                          -48.025668,
                          -15.8412249
                        ]
                      ]
                    ]
                  },
                  "bbox": [
                    -48.025668,
                    -15.8414752,
                    -48.0251964,
                    -15.8412054
                  ]
                },
                {
                  "id": "('way', 847327160)",
                  "type": "Feature",
                  "properties": {
                    "nodes": [
                      7906913961,
                      7906913962,
                      7906913963,
                      7906913965,
                      7906913961
                    ],
                    "addr:city": "Brasília",
                    "addr:housenumber": "Lt 12",
                    "addr:street": "Rua 21 Sul",
                    "building": "apartments",
                    "building:levels": "12",
                    "name": "Residencial Araucárias Bloco A",
                    "building:min_level": null,
                    "layer": "1",
                    "landuse": null,
                    "postal_code": null,
                    "addr:postcode": "71925-540",
                    "addr:suburb": "Águas Claras",
                    "source": null,
                    "description": null,
                    "building:flats": "48",
                    "roof:colour": null,
                    "ways": null,
                    "type": null,
                    "style": {
                      "color": "black",
                      "fillColor": "black"
                    }
                  },
                  "geometry": {
                    "type": "Polygon",
                    "coordinates": [
                      [
                        [
                          -48.0251212,
                          -15.8411933
                        ],
                        [
                          -48.0251009,
                          -15.841424
                        ],
                        [
                          -48.0247045,
                          -15.8414143
                        ],
                        [
                          -48.0247279,
                          -15.841161
                        ],
                        [
                          -48.0251212,
                          -15.8411933
                        ]
                      ]
                    ]
                  },
                  "bbox": [
                    -48.0251212,
                    -15.841424,
                    -48.0247045,
                    -15.841161
                  ]
                },
                {
                  "id": "('way', 847327161)",
                  "type": "Feature",
                  "properties": {
                    "nodes": [
                      7906913966,
                      7906913967,
                      7906913968,
                      7906913969,
                      7906913966
                    ],
                    "addr:city": "Brasília",
                    "addr:housenumber": "Lt 10",
                    "addr:street": "Rua 21 Sul",
                    "building": "apartments",
                    "building:levels": "12",
                    "name": "Residencial Araucárias Bloco E",
                    "building:min_level": null,
                    "layer": null,
                    "landuse": null,
                    "postal_code": null,
                    "addr:postcode": "71925-540",
                    "addr:suburb": "Águas Claras",
                    "source": null,
                    "description": null,
                    "building:flats": "48",
                    "roof:colour": null,
                    "ways": null,
                    "type": null,
                    "style": {
                      "color": "black",
                      "fillColor": "black"
                    }
                  },
                  "geometry": {
                    "type": "Polygon",
                    "coordinates": [
                      [
                        [
                          -48.0256558,
                          -15.8408843
                        ],
                        [
                          -48.0256375,
                          -15.8411366
                        ],
                        [
                          -48.0252229,
                          -15.8411307
                        ],
                        [
                          -48.0252534,
                          -15.8408589
                        ],
                        [
                          -48.0256558,
                          -15.8408843
                        ]
                      ]
                    ]
                  },
                  "bbox": [
                    -48.0256558,
                    -15.8411366,
                    -48.0252229,
                    -15.8408589
                  ]
                },
                {
                  "id": "('way', 847327162)",
                  "type": "Feature",
                  "properties": {
                    "nodes": [
                      7906913970,
                      7906913971,
                      7906913972,
                      7906913973,
                      7906913970
                    ],
                    "addr:city": "Brasília",
                    "addr:housenumber": "Lt 10",
                    "addr:street": "Rua 21 Sul",
                    "building": "apartments",
                    "building:levels": "12",
                    "name": "Residencial Araucárias Bloco B",
                    "building:min_level": null,
                    "layer": null,
                    "landuse": null,
                    "postal_code": null,
                    "addr:postcode": "71925-540",
                    "addr:suburb": "Águas Claras",
                    "source": null,
                    "description": null,
                    "building:flats": "48",
                    "roof:colour": null,
                    "ways": null,
                    "type": null,
                    "style": {
                      "color": "black",
                      "fillColor": "black"
                    }
                  },
                  "geometry": {
                    "type": "Polygon",
                    "coordinates": [
                      [
                        [
                          -48.0251741,
                          -15.840855
                        ],
                        [
                          -48.0251416,
                          -15.841119
                        ],
                        [
                          -48.0247492,
                          -15.8410936
                        ],
                        [
                          -48.0247858,
                          -15.8408335
                        ],
                        [
                          -48.0251741,
                          -15.840855
                        ]
                      ]
                    ]
                  },
                  "bbox": [
                    -48.0251741,
                    -15.841119,
                    -48.0247492,
                    -15.8408335
                  ]
                },
                {
                  "id": "('way', 847327163)",
                  "type": "Feature",
                  "properties": {
                    "nodes": [
                      7906913974,
                      7906913975,
                      7906913976,
                      7906913977,
                      7906913974
                    ],
                    "addr:city": "Brasília",
                    "addr:housenumber": "Lt 08",
                    "addr:street": "Rua 21 Sul",
                    "building": "apartments",
                    "building:levels": "12",
                    "name": "Residencial Araucárias Bloco D",
                    "building:min_level": null,
                    "layer": null,
                    "landuse": null,
                    "postal_code": null,
                    "addr:postcode": "71925-540",
                    "addr:suburb": "Águas Claras",
                    "source": null,
                    "description": null,
                    "building:flats": "48",
                    "roof:colour": null,
                    "ways": null,
                    "type": null,
                    "style": {
                      "color": "black",
                      "fillColor": "black"
                    }
                  },
                  "geometry": {
                    "type": "Polygon",
                    "coordinates": [
                      [
                        [
                          -48.0257168,
                          -15.8405812
                        ],
                        [
                          -48.0257046,
                          -15.8408139
                        ],
                        [
                          -48.0252574,
                          -15.8407963
                        ],
                        [
                          -48.0252899,
                          -15.8405382
                        ],
                        [
                          -48.0257168,
                          -15.8405812
                        ]
                      ]
                    ]
                  },
                  "bbox": [
                    -48.0257168,
                    -15.8408139,
                    -48.0252574,
                    -15.8405382
                  ]
                },
                {
                  "id": "('way', 847327164)",
                  "type": "Feature",
                  "properties": {
                    "nodes": [
                      7906913978,
                      7906913979,
                      7906913980,
                      7906913981,
                      7906913978
                    ],
                    "addr:city": "Brasília",
                    "addr:housenumber": "Lt 08",
                    "addr:street": "Rua 21 Sul",
                    "building": "apartments",
                    "building:levels": "12",
                    "name": "Residencial Araucárias Bloco C",
                    "building:min_level": null,
                    "layer": null,
                    "landuse": null,
                    "postal_code": null,
                    "addr:postcode": "71925-540",
                    "addr:suburb": "Águas Claras",
                    "source": null,
                    "description": null,
                    "building:flats": "48",
                    "roof:colour": null,
                    "ways": null,
                    "type": null,
                    "style": {
                      "color": "black",
                      "fillColor": "black"
                    }
                  },
                  "geometry": {
                    "type": "Polygon",
                    "coordinates": [
                      [
                        [
                          -48.0252188,
                          -15.8405245
                        ],
                        [
                          -48.0251964,
                          -15.8407728
                        ],
                        [
                          -48.024796,
                          -15.8407592
                        ],
                        [
                          -48.0248407,
                          -15.8404834
                        ],
                        [
                          -48.0252188,
                          -15.8405245
                        ]
                      ]
                    ]
                  },
                  "bbox": [
                    -48.0252188,
                    -15.8407728,
                    -48.024796,
                    -15.8404834
                  ]
                },
                {
                  "id": "('way', 963075504)",
                  "type": "Feature",
                  "properties": {
                    "nodes": [
                      8908605143,
                      8908605144,
                      8908605145,
                      8908605146,
                      8908605147,
                      8908605148,
                      8908605143
                    ],
                    "addr:city": null,
                    "addr:housenumber": null,
                    "addr:street": null,
                    "building": "apartments",
                    "building:levels": "20",
                    "name": "Residencial Casablanca",
                    "building:min_level": null,
                    "layer": null,
                    "landuse": null,
                    "postal_code": null,
                    "addr:postcode": null,
                    "addr:suburb": null,
                    "source": null,
                    "description": null,
                    "building:flats": null,
                    "roof:colour": "grey",
                    "ways": null,
                    "type": null,
                    "style": {
                      "color": "black",
                      "fillColor": "black"
                    }
                  },
                  "geometry": {
                    "type": "Polygon",
                    "coordinates": [
                      [
                        [
                          -48.0288956,
                          -15.8396604
                        ],
                        [
                          -48.0288884,
                          -15.8393528
                        ],
                        [
                          -48.0290627,
                          -15.8393491
                        ],
                        [
                          -48.0290619,
                          -15.8393161
                        ],
                        [
                          -48.0293079,
                          -15.8393108
                        ],
                        [
                          -48.0293159,
                          -15.8396513
                        ],
                        [
                          -48.0288956,
                          -15.8396604
                        ]
                      ]
                    ]
                  },
                  "bbox": [
                    -48.0293159,
                    -15.8396604,
                    -48.0288884,
                    -15.8393108
                  ]
                },
                {
                  "id": "('relation', 6492073)",
                  "type": "Feature",
                  "properties": {
                    "nodes": [
                      [
                        [
                          2881825541,
                          4291034414,
                          4291034415,
                          4291034417,
                          4291034418,
                          4291034416,
                          4291034419,
                          4291034420,
                          4291034421,
                          2881825543,
                          2881825544,
                          4291034423,
                          4291034424,
                          4291034427,
                          4291034428,
                          4291034429,
                          4291034426,
                          4291034425,
                          4291034422,
                          2881825542,
                          2881825541
                        ],
                        [
                          4351435640,
                          4351435641,
                          4351435642,
                          4351435643,
                          4351435640
                        ]
                      ]
                    ],
                    "addr:city": null,
                    "addr:housenumber": "3880;3820",
                    "addr:street": "Avenida Parque Águas Claras",
                    "building": "apartments",
                    "building:levels": "21",
                    "name": "Antares Club Residence",
                    "building:min_level": null,
                    "layer": null,
                    "landuse": null,
                    "postal_code": null,
                    "addr:postcode": null,
                    "addr:suburb": null,
                    "source": null,
                    "description": null,
                    "building:flats": null,
                    "roof:colour": null,
                    "ways": [
                      284436752,
                      437332182
                    ],
                    "type": "multipolygon",
                    "style": {
                      "color": "black",
                      "fillColor": "black"
                    }
                  },
                  "geometry": {
                    "type": "MultiPolygon",
                    "coordinates": [
                      [
                        [
                          [
                            -48.0377474,
                            -15.8395189
                          ],
                          [
                            -48.0376042,
                            -15.8393519
                          ],
                          [
                            -48.0374417,
                            -15.8394809
                          ],
                          [
                            -48.0375849,
                            -15.8396479
                          ],
                          [
                            -48.0377474,
                            -15.8395189
                          ]
                        ]
                      ],
                      [
                        [
                          [
                            -48.0370884,
                            -15.83875
                          ],
                          [
                            -48.0369216,
                            -15.8388785
                          ],
                          [
                            -48.0369412,
                            -15.838902
                          ],
                          [
                            -48.0369298,
                            -15.8389108
                          ],
                          [
                            -48.0369538,
                            -15.8389395
                          ],
                          [
                            -48.0369912,
                            -15.8389107
                          ],
                          [
                            -48.0370436,
                            -15.8389736
                          ],
                          [
                            -48.037006,
                            -15.8390026
                          ],
                          [
                            -48.0370303,
                            -15.8390318
                          ],
                          [
                            -48.0370392,
                            -15.839025
                          ],
                          [
                            -48.0370574,
                            -15.8390467
                          ],
                          [
                            -48.037221,
                            -15.8389206
                          ],
                          [
                            -48.037201,
                            -15.8388966
                          ],
                          [
                            -48.0372123,
                            -15.8388879
                          ],
                          [
                            -48.0371885,
                            -15.8388593
                          ],
                          [
                            -48.0371432,
                            -15.8388942
                          ],
                          [
                            -48.037094,
                            -15.8388351
                          ],
                          [
                            -48.0371421,
                            -15.838798
                          ],
                          [
                            -48.0371137,
                            -15.8387639
                          ],
                          [
                            -48.0371053,
                            -15.8387703
                          ],
                          [
                            -48.0370884,
                            -15.83875
                          ]
                        ]
                      ]
                    ]
                  },
                  "bbox": [
                    -48.0377474,
                    -15.8396479,
                    -48.0369216,
                    -15.83875
                  ]
                },
                {
                  "id": "('relation', 6501364)",
                  "type": "Feature",
                  "properties": {
                    "nodes": [
                      [
                        [
                          3023617208,
                          3023617218,
                          3023617215,
                          3023617202,
                          3023617208
                        ],
                        [
                          3023617221,
                          3023617229,
                          3023617225,
                          3023617217,
                          3023617221
                        ]
                      ]
                    ],
                    "addr:city": null,
                    "addr:housenumber": "9",
                    "addr:street": "Quadra 208",
                    "building": "apartments",
                    "building:levels": null,
                    "name": null,
                    "building:min_level": null,
                    "layer": null,
                    "landuse": null,
                    "postal_code": null,
                    "addr:postcode": null,
                    "addr:suburb": null,
                    "source": null,
                    "description": null,
                    "building:flats": null,
                    "roof:colour": null,
                    "ways": [
                      298457380,
                      298457363
                    ],
                    "type": "multipolygon",
                    "style": {
                      "color": "black",
                      "fillColor": "black"
                    }
                  },
                  "geometry": {
                    "type": "MultiPolygon",
                    "coordinates": [
                      [
                        [
                          [
                            -48.0284523,
                            -15.845835
                          ],
                          [
                            -48.0283168,
                            -15.8457771
                          ],
                          [
                            -48.0282366,
                            -15.845949
                          ],
                          [
                            -48.0283704,
                            -15.8460048
                          ],
                          [
                            -48.0284523,
                            -15.845835
                          ]
                        ]
                      ],
                      [
                        [
                          [
                            -48.0283566,
                            -15.8460335
                          ],
                          [
                            -48.0282226,
                            -15.8459778
                          ],
                          [
                            -48.0281436,
                            -15.8461483
                          ],
                          [
                            -48.0282716,
                            -15.8462098
                          ],
                          [
                            -48.0283566,
                            -15.8460335
                          ]
                        ]
                      ]
                    ]
                  },
                  "bbox": [
                    -48.0284523,
                    -15.8462098,
                    -48.0281436,
                    -15.8457771
                  ]
                },
                {
                  "id": "('relation', 6501365)",
                  "type": "Feature",
                  "properties": {
                    "nodes": [
                      [
                        [
                          3023617136,
                          3023617141,
                          3023617135,
                          3023615829,
                          3023617136
                        ],
                        [
                          3023615825,
                          3023615831,
                          3023615822,
                          3023615820,
                          3023615825
                        ]
                      ]
                    ],
                    "addr:city": null,
                    "addr:housenumber": "4;2",
                    "addr:street": "Quadra 208",
                    "building": "apartments",
                    "building:levels": null,
                    "name": "Residencial All",
                    "building:min_level": null,
                    "layer": null,
                    "landuse": null,
                    "postal_code": null,
                    "addr:postcode": null,
                    "addr:suburb": null,
                    "source": null,
                    "description": null,
                    "building:flats": null,
                    "roof:colour": null,
                    "ways": [
                      298457375,
                      298457365
                    ],
                    "type": "multipolygon",
                    "style": {
                      "color": "black",
                      "fillColor": "black"
                    }
                  },
                  "geometry": {
                    "type": "MultiPolygon",
                    "coordinates": [
                      [
                        [
                          [
                            -48.0286273,
                            -15.8442416
                          ],
                          [
                            -48.0282829,
                            -15.8441094
                          ],
                          [
                            -48.0282415,
                            -15.8442162
                          ],
                          [
                            -48.0285916,
                            -15.8443575
                          ],
                          [
                            -48.0286273,
                            -15.8442416
                          ]
                        ]
                      ],
                      [
                        [
                          [
                            -48.0281474,
                            -15.8440243
                          ],
                          [
                            -48.0277973,
                            -15.8438831
                          ],
                          [
                            -48.0277389,
                            -15.8439917
                          ],
                          [
                            -48.0280984,
                            -15.8441366
                          ],
                          [
                            -48.0281474,
                            -15.8440243
                          ]
                        ]
                      ]
                    ]
                  },
                  "bbox": [
                    -48.0286273,
                    -15.8443575,
                    -48.0277389,
                    -15.8438831
                  ]
                }
              ],
              "bbox": [
                -48.0377474,
                -15.8462098,
                -48.0182971,
                -15.8327073
              ]
            },
            "hover_style": {
              "weight": 4,
              "fillOpacity": 0
            },
            "layers": [],
            "name": "Prédios Residenciais",
            "options": [],
            "pane": "",
            "point_style": {},
            "popup": null,
            "popup_max_height": null,
            "popup_max_width": 300,
            "popup_min_width": 50,
            "style": {
              "color": "#3388ff",
              "weight": 2,
              "opacity": 1,
              "fill": true,
              "fillColor": "#3388ff",
              "fillOpacity": 0.2
            },
            "subitems": [],
            "visible": true
          }
        },
        "1dfa96ef1cdf4777b3cf6ee1b416f3c2": {
          "model_module": "@jupyter-widgets/base",
          "model_name": "LayoutModel",
          "model_module_version": "1.2.0",
          "state": {
            "_model_module": "@jupyter-widgets/base",
            "_model_module_version": "1.2.0",
            "_model_name": "LayoutModel",
            "_view_count": null,
            "_view_module": "@jupyter-widgets/base",
            "_view_module_version": "1.2.0",
            "_view_name": "LayoutView",
            "align_content": null,
            "align_items": null,
            "align_self": null,
            "border": null,
            "bottom": null,
            "display": null,
            "flex": null,
            "flex_flow": null,
            "grid_area": null,
            "grid_auto_columns": null,
            "grid_auto_flow": null,
            "grid_auto_rows": null,
            "grid_column": null,
            "grid_gap": null,
            "grid_row": null,
            "grid_template_areas": null,
            "grid_template_columns": null,
            "grid_template_rows": null,
            "height": "600px",
            "justify_content": null,
            "justify_items": null,
            "left": null,
            "margin": null,
            "max_height": null,
            "max_width": null,
            "min_height": null,
            "min_width": null,
            "object_fit": null,
            "object_position": null,
            "order": null,
            "overflow": null,
            "overflow_x": null,
            "overflow_y": null,
            "padding": null,
            "right": null,
            "top": null,
            "visibility": null,
            "width": null
          }
        },
        "fc2211187a4e4d738af400d9ceaace59": {
          "model_module": "jupyter-leaflet",
          "model_name": "LeafletMapStyleModel",
          "model_module_version": "^0.18",
          "state": {
            "_model_module": "jupyter-leaflet",
            "_model_module_version": "^0.18",
            "_model_name": "LeafletMapStyleModel",
            "_view_count": null,
            "_view_module": "@jupyter-widgets/base",
            "_view_module_version": "1.2.0",
            "_view_name": "StyleView",
            "cursor": "grab"
          }
        },
        "b778df2c577947c598732ac6c469d667": {
          "model_module": "@jupyter-widgets/controls",
          "model_name": "VBoxModel",
          "model_module_version": "1.5.0",
          "state": {
            "_dom_classes": [],
            "_model_module": "@jupyter-widgets/controls",
            "_model_module_version": "1.5.0",
            "_model_name": "VBoxModel",
            "_view_count": null,
            "_view_module": "@jupyter-widgets/controls",
            "_view_module_version": "1.5.0",
            "_view_name": "VBoxView",
            "box_style": "",
            "children": [
              "IPY_MODEL_c05c03f1f5eb44588b27b756f0a3a45e"
            ],
            "layout": "IPY_MODEL_6794898b8c004996acf6b0e63f7858da"
          }
        },
        "dc29a3c2e7184de0aa8ab79dbef5d465": {
          "model_module": "@jupyter-widgets/controls",
          "model_name": "HBoxModel",
          "model_module_version": "1.5.0",
          "state": {
            "_dom_classes": [],
            "_model_module": "@jupyter-widgets/controls",
            "_model_module_version": "1.5.0",
            "_model_name": "HBoxModel",
            "_view_count": null,
            "_view_module": "@jupyter-widgets/controls",
            "_view_module_version": "1.5.0",
            "_view_name": "HBoxView",
            "box_style": "",
            "children": [
              "IPY_MODEL_a1d012973ef54351b87956fe86acaf5c",
              "IPY_MODEL_afe7af70fe63412d82819cd8d1014b87"
            ],
            "layout": "IPY_MODEL_7ebc8e217e1143be969d5fbaf5be596c"
          }
        },
        "cb409b20670b453c906b681ab5d1e888": {
          "model_module": "@jupyter-widgets/controls",
          "model_name": "HTMLModel",
          "model_module_version": "1.5.0",
          "state": {
            "_dom_classes": [],
            "_model_module": "@jupyter-widgets/controls",
            "_model_module_version": "1.5.0",
            "_model_name": "HTMLModel",
            "_view_count": null,
            "_view_module": "@jupyter-widgets/controls",
            "_view_module_version": "1.5.0",
            "_view_name": "HTMLView",
            "description": "",
            "description_tooltip": null,
            "layout": "IPY_MODEL_2db9c362abc54b26972136a1520af2df",
            "placeholder": "​",
            "style": "IPY_MODEL_031097b5da094d1e9ce88b8de47b212a",
            "value": "<b>nodes: </b>[6112020364, 6112020365, 6112020366, 6112020367, 6112020364]<br><b>addr:city: </b>None<br><b>addr:housenumber: </b>None<br><b>addr:street: </b>None<br><b>building: </b>apartments<br><b>building:levels: </b>15<br><b>name: </b>None<br><b>building:min_level: </b>None<br><b>layer: </b>None<br><b>landuse: </b>None<br><b>postal_code: </b>None<br><b>addr:postcode: </b>None<br><b>addr:suburb: </b>None<br><b>source: </b>None<br><b>description: </b>None<br><b>building:flats: </b>None<br><b>roof:colour: </b>None<br><b>ways: </b>None<br><b>type: </b>None<br>"
          }
        },
        "6794898b8c004996acf6b0e63f7858da": {
          "model_module": "@jupyter-widgets/base",
          "model_name": "LayoutModel",
          "model_module_version": "1.2.0",
          "state": {
            "_model_module": "@jupyter-widgets/base",
            "_model_module_version": "1.2.0",
            "_model_name": "LayoutModel",
            "_view_count": null,
            "_view_module": "@jupyter-widgets/base",
            "_view_module_version": "1.2.0",
            "_view_name": "LayoutView",
            "align_content": null,
            "align_items": null,
            "align_self": null,
            "border": null,
            "bottom": null,
            "display": null,
            "flex": null,
            "flex_flow": null,
            "grid_area": null,
            "grid_auto_columns": null,
            "grid_auto_flow": null,
            "grid_auto_rows": null,
            "grid_column": null,
            "grid_gap": null,
            "grid_row": null,
            "grid_template_areas": null,
            "grid_template_columns": null,
            "grid_template_rows": null,
            "height": null,
            "justify_content": null,
            "justify_items": null,
            "left": null,
            "margin": null,
            "max_height": null,
            "max_width": null,
            "min_height": null,
            "min_width": null,
            "object_fit": null,
            "object_position": null,
            "order": null,
            "overflow": null,
            "overflow_x": null,
            "overflow_y": null,
            "padding": null,
            "right": null,
            "top": null,
            "visibility": null,
            "width": null
          }
        },
        "a1d012973ef54351b87956fe86acaf5c": {
          "model_module": "@jupyter-widgets/controls",
          "model_name": "ToggleButtonModel",
          "model_module_version": "1.5.0",
          "state": {
            "_dom_classes": [],
            "_model_module": "@jupyter-widgets/controls",
            "_model_module_version": "1.5.0",
            "_model_name": "ToggleButtonModel",
            "_view_count": null,
            "_view_module": "@jupyter-widgets/controls",
            "_view_module_version": "1.5.0",
            "_view_name": "ToggleButtonView",
            "button_style": "",
            "description": "",
            "description_tooltip": null,
            "disabled": false,
            "icon": "info",
            "layout": "IPY_MODEL_23b5f8d62b7d46ff914da4a9229f8ad0",
            "style": "IPY_MODEL_dc8b97014e1c483dade75105a8956deb",
            "tooltip": "Toolbar",
            "value": false
          }
        },
        "afe7af70fe63412d82819cd8d1014b87": {
          "model_module": "@jupyter-widgets/controls",
          "model_name": "ToggleButtonModel",
          "model_module_version": "1.5.0",
          "state": {
            "_dom_classes": [],
            "_model_module": "@jupyter-widgets/controls",
            "_model_module_version": "1.5.0",
            "_model_name": "ToggleButtonModel",
            "_view_count": null,
            "_view_module": "@jupyter-widgets/controls",
            "_view_module_version": "1.5.0",
            "_view_name": "ToggleButtonView",
            "button_style": "",
            "description": "",
            "description_tooltip": null,
            "disabled": false,
            "icon": "times",
            "layout": "IPY_MODEL_42cee01934f24435bea44b00f8c7652d",
            "style": "IPY_MODEL_0f7d23e15e004e3596a2dbce0a1065c9",
            "tooltip": "Close the tool",
            "value": true
          }
        },
        "7ebc8e217e1143be969d5fbaf5be596c": {
          "model_module": "@jupyter-widgets/base",
          "model_name": "LayoutModel",
          "model_module_version": "1.2.0",
          "state": {
            "_model_module": "@jupyter-widgets/base",
            "_model_module_version": "1.2.0",
            "_model_name": "LayoutModel",
            "_view_count": null,
            "_view_module": "@jupyter-widgets/base",
            "_view_module_version": "1.2.0",
            "_view_name": "LayoutView",
            "align_content": null,
            "align_items": null,
            "align_self": null,
            "border": null,
            "bottom": null,
            "display": null,
            "flex": null,
            "flex_flow": null,
            "grid_area": null,
            "grid_auto_columns": null,
            "grid_auto_flow": null,
            "grid_auto_rows": null,
            "grid_column": null,
            "grid_gap": null,
            "grid_row": null,
            "grid_template_areas": null,
            "grid_template_columns": null,
            "grid_template_rows": null,
            "height": null,
            "justify_content": null,
            "justify_items": null,
            "left": null,
            "margin": null,
            "max_height": null,
            "max_width": null,
            "min_height": null,
            "min_width": null,
            "object_fit": null,
            "object_position": null,
            "order": null,
            "overflow": null,
            "overflow_x": null,
            "overflow_y": null,
            "padding": null,
            "right": null,
            "top": null,
            "visibility": null,
            "width": null
          }
        },
        "2db9c362abc54b26972136a1520af2df": {
          "model_module": "@jupyter-widgets/base",
          "model_name": "LayoutModel",
          "model_module_version": "1.2.0",
          "state": {
            "_model_module": "@jupyter-widgets/base",
            "_model_module_version": "1.2.0",
            "_model_name": "LayoutModel",
            "_view_count": null,
            "_view_module": "@jupyter-widgets/base",
            "_view_module_version": "1.2.0",
            "_view_name": "LayoutView",
            "align_content": null,
            "align_items": null,
            "align_self": null,
            "border": null,
            "bottom": null,
            "display": null,
            "flex": null,
            "flex_flow": null,
            "grid_area": null,
            "grid_auto_columns": null,
            "grid_auto_flow": null,
            "grid_auto_rows": null,
            "grid_column": null,
            "grid_gap": null,
            "grid_row": null,
            "grid_template_areas": null,
            "grid_template_columns": null,
            "grid_template_rows": null,
            "height": null,
            "justify_content": null,
            "justify_items": null,
            "left": null,
            "margin": "0px 10px 0px 10px",
            "max_height": "250px",
            "max_width": "250px",
            "min_height": null,
            "min_width": null,
            "object_fit": null,
            "object_position": null,
            "order": null,
            "overflow": null,
            "overflow_x": null,
            "overflow_y": null,
            "padding": null,
            "right": null,
            "top": null,
            "visibility": null,
            "width": null
          }
        },
        "031097b5da094d1e9ce88b8de47b212a": {
          "model_module": "@jupyter-widgets/controls",
          "model_name": "DescriptionStyleModel",
          "model_module_version": "1.5.0",
          "state": {
            "_model_module": "@jupyter-widgets/controls",
            "_model_module_version": "1.5.0",
            "_model_name": "DescriptionStyleModel",
            "_view_count": null,
            "_view_module": "@jupyter-widgets/base",
            "_view_module_version": "1.2.0",
            "_view_name": "StyleView",
            "description_width": ""
          }
        },
        "23b5f8d62b7d46ff914da4a9229f8ad0": {
          "model_module": "@jupyter-widgets/base",
          "model_name": "LayoutModel",
          "model_module_version": "1.2.0",
          "state": {
            "_model_module": "@jupyter-widgets/base",
            "_model_module_version": "1.2.0",
            "_model_name": "LayoutModel",
            "_view_count": null,
            "_view_module": "@jupyter-widgets/base",
            "_view_module_version": "1.2.0",
            "_view_name": "LayoutView",
            "align_content": null,
            "align_items": null,
            "align_self": null,
            "border": null,
            "bottom": null,
            "display": null,
            "flex": null,
            "flex_flow": null,
            "grid_area": null,
            "grid_auto_columns": null,
            "grid_auto_flow": null,
            "grid_auto_rows": null,
            "grid_column": null,
            "grid_gap": null,
            "grid_row": null,
            "grid_template_areas": null,
            "grid_template_columns": null,
            "grid_template_rows": null,
            "height": "28px",
            "justify_content": null,
            "justify_items": null,
            "left": null,
            "margin": null,
            "max_height": null,
            "max_width": null,
            "min_height": null,
            "min_width": null,
            "object_fit": null,
            "object_position": null,
            "order": null,
            "overflow": null,
            "overflow_x": null,
            "overflow_y": null,
            "padding": "0px 0px 0px 4px",
            "right": null,
            "top": null,
            "visibility": null,
            "width": "28px"
          }
        },
        "dc8b97014e1c483dade75105a8956deb": {
          "model_module": "@jupyter-widgets/controls",
          "model_name": "DescriptionStyleModel",
          "model_module_version": "1.5.0",
          "state": {
            "_model_module": "@jupyter-widgets/controls",
            "_model_module_version": "1.5.0",
            "_model_name": "DescriptionStyleModel",
            "_view_count": null,
            "_view_module": "@jupyter-widgets/base",
            "_view_module_version": "1.2.0",
            "_view_name": "StyleView",
            "description_width": ""
          }
        },
        "42cee01934f24435bea44b00f8c7652d": {
          "model_module": "@jupyter-widgets/base",
          "model_name": "LayoutModel",
          "model_module_version": "1.2.0",
          "state": {
            "_model_module": "@jupyter-widgets/base",
            "_model_module_version": "1.2.0",
            "_model_name": "LayoutModel",
            "_view_count": null,
            "_view_module": "@jupyter-widgets/base",
            "_view_module_version": "1.2.0",
            "_view_name": "LayoutView",
            "align_content": null,
            "align_items": null,
            "align_self": null,
            "border": null,
            "bottom": null,
            "display": null,
            "flex": null,
            "flex_flow": null,
            "grid_area": null,
            "grid_auto_columns": null,
            "grid_auto_flow": null,
            "grid_auto_rows": null,
            "grid_column": null,
            "grid_gap": null,
            "grid_row": null,
            "grid_template_areas": null,
            "grid_template_columns": null,
            "grid_template_rows": null,
            "height": "28px",
            "justify_content": null,
            "justify_items": null,
            "left": null,
            "margin": null,
            "max_height": null,
            "max_width": null,
            "min_height": null,
            "min_width": null,
            "object_fit": null,
            "object_position": null,
            "order": null,
            "overflow": null,
            "overflow_x": null,
            "overflow_y": null,
            "padding": "0px 0px 0px 4px",
            "right": null,
            "top": null,
            "visibility": null,
            "width": "28px"
          }
        },
        "0f7d23e15e004e3596a2dbce0a1065c9": {
          "model_module": "@jupyter-widgets/controls",
          "model_name": "DescriptionStyleModel",
          "model_module_version": "1.5.0",
          "state": {
            "_model_module": "@jupyter-widgets/controls",
            "_model_module_version": "1.5.0",
            "_model_name": "DescriptionStyleModel",
            "_view_count": null,
            "_view_module": "@jupyter-widgets/base",
            "_view_module_version": "1.2.0",
            "_view_name": "StyleView",
            "description_width": ""
          }
        },
        "793c609af91744bd88956efdc8fd8922": {
          "model_module": "@jupyter-widgets/base",
          "model_name": "LayoutModel",
          "model_module_version": "1.2.0",
          "state": {
            "_model_module": "@jupyter-widgets/base",
            "_model_module_version": "1.2.0",
            "_model_name": "LayoutModel",
            "_view_count": null,
            "_view_module": "@jupyter-widgets/base",
            "_view_module_version": "1.2.0",
            "_view_name": "LayoutView",
            "align_content": null,
            "align_items": null,
            "align_self": null,
            "border": null,
            "bottom": null,
            "display": null,
            "flex": null,
            "flex_flow": null,
            "grid_area": null,
            "grid_auto_columns": null,
            "grid_auto_flow": null,
            "grid_auto_rows": null,
            "grid_column": null,
            "grid_gap": null,
            "grid_row": null,
            "grid_template_areas": null,
            "grid_template_columns": null,
            "grid_template_rows": null,
            "height": null,
            "justify_content": null,
            "justify_items": null,
            "left": null,
            "margin": null,
            "max_height": null,
            "max_width": null,
            "min_height": null,
            "min_width": null,
            "object_fit": null,
            "object_position": null,
            "order": null,
            "overflow": null,
            "overflow_x": null,
            "overflow_y": null,
            "padding": null,
            "right": null,
            "top": null,
            "visibility": null,
            "width": null
          }
        },
        "c05c03f1f5eb44588b27b756f0a3a45e": {
          "model_module": "@jupyter-widgets/controls",
          "model_name": "HBoxModel",
          "model_module_version": "1.5.0",
          "state": {
            "_dom_classes": [],
            "_model_module": "@jupyter-widgets/controls",
            "_model_module_version": "1.5.0",
            "_model_name": "HBoxModel",
            "_view_count": null,
            "_view_module": "@jupyter-widgets/controls",
            "_view_module_version": "1.5.0",
            "_view_name": "HBoxView",
            "box_style": "",
            "children": [
              "IPY_MODEL_a1d012973ef54351b87956fe86acaf5c",
              "IPY_MODEL_afe7af70fe63412d82819cd8d1014b87"
            ],
            "layout": "IPY_MODEL_793c609af91744bd88956efdc8fd8922"
          }
        }
      }
    }
  },
  "cells": [
    {
      "cell_type": "code",
      "execution_count": 1,
      "metadata": {
        "colab": {
          "base_uri": "https://localhost:8080/"
        },
        "id": "x8yG8LZHrhnK",
        "outputId": "508d7fb9-d431-4455-d2d0-0958d4d62628"
      },
      "outputs": [
        {
          "output_type": "stream",
          "name": "stdout",
          "text": [
            "\u001b[2K     \u001b[90m━━━━━━━━━━━━━━━━━━━━━━━━━━━━━━━━━━━━━━━━\u001b[0m \u001b[32m1.8/1.8 MB\u001b[0m \u001b[31m8.8 MB/s\u001b[0m eta \u001b[36m0:00:00\u001b[0m\n",
            "\u001b[2K     \u001b[90m━━━━━━━━━━━━━━━━━━━━━━━━━━━━━━━━━━━━━━━━\u001b[0m \u001b[32m107.2/107.2 kB\u001b[0m \u001b[31m8.9 MB/s\u001b[0m eta \u001b[36m0:00:00\u001b[0m\n",
            "\u001b[2K     \u001b[90m━━━━━━━━━━━━━━━━━━━━━━━━━━━━━━━━━━━━━━━━\u001b[0m \u001b[32m108.6/108.6 kB\u001b[0m \u001b[31m8.8 MB/s\u001b[0m eta \u001b[36m0:00:00\u001b[0m\n",
            "\u001b[2K     \u001b[90m━━━━━━━━━━━━━━━━━━━━━━━━━━━━━━━━━━━━━━━━\u001b[0m \u001b[32m182.9/182.9 kB\u001b[0m \u001b[31m9.5 MB/s\u001b[0m eta \u001b[36m0:00:00\u001b[0m\n",
            "\u001b[2K     \u001b[90m━━━━━━━━━━━━━━━━━━━━━━━━━━━━━━━━━━━━━━━━\u001b[0m \u001b[32m72.3/72.3 kB\u001b[0m \u001b[31m3.0 MB/s\u001b[0m eta \u001b[36m0:00:00\u001b[0m\n",
            "\u001b[2K     \u001b[90m━━━━━━━━━━━━━━━━━━━━━━━━━━━━━━━━━━━━━━━━\u001b[0m \u001b[32m1.6/1.6 MB\u001b[0m \u001b[31m14.6 MB/s\u001b[0m eta \u001b[36m0:00:00\u001b[0m\n",
            "\u001b[?25h"
          ]
        }
      ],
      "source": [
        "!pip install leafmap geopandas osmnx -q"
      ]
    },
    {
      "cell_type": "code",
      "source": [
        "# Biblioteca\n",
        "import leafmap"
      ],
      "metadata": {
        "id": "jTFH108EroS-"
      },
      "execution_count": 2,
      "outputs": []
    },
    {
      "cell_type": "code",
      "source": [
        "# Visualizando prédios residenciais\n",
        "m = leafmap.Map(toolbar_control=False, layers_control=True)\n",
        "m.add_osm_from_address(\n",
        "    address=\"Águas Claras\",\n",
        "    tags={\"building\":\"apartments\"},\n",
        "    layer_name=\"Prédios Residenciais\")\n",
        "m"
      ],
      "metadata": {
        "colab": {
          "base_uri": "https://localhost:8080/",
          "height": 787,
          "referenced_widgets": [
            "7ac670b883c3468686bd4f9b59366a65",
            "b4cf0d60c10a417cac71030d050810d6",
            "2a5946125f774fb6a2809986469da72a",
            "8ffc2d7af6954298882f9d57dfcf5037",
            "266c540657474bcdad3586352de47625",
            "eb0e69df0aeb41199638843dff26000b",
            "a9403ac37c2647979b4f08b22a32cbce",
            "053e94b05fb146b18ebff99923fd30ff",
            "fd2544d6925e42cab26a5455fcb1ddc7",
            "9ff6899755ac401f873c2891b975f30a",
            "7e610cb9991c4157a8fd3a7c68d9618f",
            "e02c3b725c684d8b83a94d8150a3bf84",
            "1dfa96ef1cdf4777b3cf6ee1b416f3c2",
            "fc2211187a4e4d738af400d9ceaace59",
            "b778df2c577947c598732ac6c469d667",
            "dc29a3c2e7184de0aa8ab79dbef5d465",
            "cb409b20670b453c906b681ab5d1e888",
            "6794898b8c004996acf6b0e63f7858da",
            "a1d012973ef54351b87956fe86acaf5c",
            "afe7af70fe63412d82819cd8d1014b87",
            "7ebc8e217e1143be969d5fbaf5be596c",
            "2db9c362abc54b26972136a1520af2df",
            "031097b5da094d1e9ce88b8de47b212a",
            "23b5f8d62b7d46ff914da4a9229f8ad0",
            "dc8b97014e1c483dade75105a8956deb",
            "42cee01934f24435bea44b00f8c7652d",
            "0f7d23e15e004e3596a2dbce0a1065c9",
            "793c609af91744bd88956efdc8fd8922",
            "c05c03f1f5eb44588b27b756f0a3a45e"
          ]
        },
        "id": "oUoWTlAIsg8u",
        "outputId": "a32e0605-55da-4eb8-a8c8-cea4454d667c"
      },
      "execution_count": 16,
      "outputs": [
        {
          "output_type": "stream",
          "name": "stderr",
          "text": [
            "/usr/local/lib/python3.10/dist-packages/ipywidgets/widgets/widget.py:477: DeprecationWarning: Passing unrecognized arguments to super(Map).__init__(toolbar_control=False, layers_control=True).\n",
            "object.__init__() takes exactly one argument (the instance to initialize)\n",
            "This is deprecated in traitlets 4.2.This error will be raised in a future release of traitlets.\n",
            "  super(Widget, self).__init__(**kwargs)\n",
            "/usr/local/lib/python3.10/dist-packages/leafmap/osm.py:28: FutureWarning: The `geometries` module and `geometries_from_X` functions have been renamed the `features` module and `features_from_X` functions. Use these instead. The `geometries` module and function names are deprecated and will be removed in the v2.0.0 release. See the OSMnx v2 migration guide: https://github.com/gboeing/osmnx/issues/1123\n",
            "  gdf = ox.geometries_from_address(address, tags, dist)\n"
          ]
        },
        {
          "output_type": "display_data",
          "data": {
            "text/plain": [
              "Map(center=[20, 0], controls=(ZoomControl(options=['position', 'zoom_in_text', 'zoom_in_title', 'zoom_out_text…"
            ],
            "application/vnd.jupyter.widget-view+json": {
              "version_major": 2,
              "version_minor": 0,
              "model_id": "7ac670b883c3468686bd4f9b59366a65"
            }
          },
          "metadata": {
            "application/vnd.jupyter.widget-view+json": {
              "colab": {
                "custom_widget_manager": {
                  "url": "https://ssl.gstatic.com/colaboratory-static/widgets/colab-cdn-widget-manager/2b70e893a8ba7c0f/manager.min.js"
                }
              }
            }
          }
        },
        {
          "output_type": "stream",
          "name": "stderr",
          "text": [
            "/usr/local/lib/python3.10/dist-packages/ipyleaflet/leaflet.py:2648: DeprecationWarning: remove_control is deprecated, use remove instead\n",
            "  warnings.warn(\"remove_control is deprecated, use remove instead\", DeprecationWarning)\n"
          ]
        }
      ]
    },
    {
      "cell_type": "code",
      "source": [
        "# Convertendo os dados diretamente para GeoDataFrame\n",
        "gdf = leafmap.osm_gdf_from_place(\"Águas Claras\", tags={\"building\":\"apartments\"})\n",
        "gdf.head()"
      ],
      "metadata": {
        "id": "wDj8i3drszsW"
      },
      "execution_count": null,
      "outputs": []
    },
    {
      "cell_type": "code",
      "source": [],
      "metadata": {
        "id": "I2PDzv6Wtil_"
      },
      "execution_count": null,
      "outputs": []
    }
  ]
}